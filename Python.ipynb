{
 "cells": [
  {
   "cell_type": "code",
   "execution_count": 1,
   "id": "f0904f86",
   "metadata": {},
   "outputs": [
    {
     "name": "stdout",
     "output_type": "stream",
     "text": [
      "5\n"
     ]
    }
   ],
   "source": [
    "num= int(input())"
   ]
  },
  {
   "cell_type": "code",
   "execution_count": 2,
   "id": "8cb9dfe2",
   "metadata": {},
   "outputs": [
    {
     "name": "stdout",
     "output_type": "stream",
     "text": [
      "1\n",
      "2\n",
      "6\n",
      "24\n",
      "120\n"
     ]
    }
   ],
   "source": [
    "\n",
    "factorial = 1\n",
    "\n",
    "for i in range (1,num+1):\n",
    "    factorial = factorial * i\n",
    "    print(factorial)"
   ]
  },
  {
   "cell_type": "code",
   "execution_count": 3,
   "id": "a3a8764e",
   "metadata": {},
   "outputs": [
    {
     "name": "stdout",
     "output_type": "stream",
     "text": [
      "999990\n"
     ]
    }
   ],
   "source": [
    "n= int(input())"
   ]
  },
  {
   "cell_type": "code",
   "execution_count": 4,
   "id": "d250c6ca",
   "metadata": {},
   "outputs": [
    {
     "name": "stdout",
     "output_type": "stream",
     "text": [
      "not prime\n"
     ]
    }
   ],
   "source": [
    "for x in range(2,n//2+1):\n",
    "    if (n%x==0):\n",
    "        print('not prime')\n",
    "        break\n",
    "else:\n",
    "    print(\"prime\")"
   ]
  },
  {
   "cell_type": "code",
   "execution_count": 3,
   "id": "bbeb4557",
   "metadata": {},
   "outputs": [],
   "source": [
    "s=['hellow']"
   ]
  },
  {
   "cell_type": "code",
   "execution_count": 4,
   "id": "8ee275b7",
   "metadata": {},
   "outputs": [],
   "source": [
    "v=s[-1::-1]"
   ]
  },
  {
   "cell_type": "code",
   "execution_count": 5,
   "id": "9a829ea5",
   "metadata": {},
   "outputs": [
    {
     "name": "stdout",
     "output_type": "stream",
     "text": [
      "palindrome\n"
     ]
    }
   ],
   "source": [
    "if (s==s[-1::-1]):\n",
    "    print('palindrome')\n",
    "    \n",
    "else:\n",
    "    print('no palindrome')"
   ]
  },
  {
   "cell_type": "code",
   "execution_count": 7,
   "id": "24659dd8",
   "metadata": {},
   "outputs": [],
   "source": [
    "a,b=3,4"
   ]
  },
  {
   "cell_type": "code",
   "execution_count": 8,
   "id": "20460728",
   "metadata": {},
   "outputs": [],
   "source": [
    "Square= a**2+b**2"
   ]
  },
  {
   "cell_type": "code",
   "execution_count": 9,
   "id": "c55121a8",
   "metadata": {},
   "outputs": [],
   "source": [
    "C= Square**0.5"
   ]
  },
  {
   "cell_type": "code",
   "execution_count": 10,
   "id": "be548037",
   "metadata": {},
   "outputs": [
    {
     "name": "stdout",
     "output_type": "stream",
     "text": [
      "5\n"
     ]
    }
   ],
   "source": [
    "print (int(C))"
   ]
  },
  {
   "cell_type": "code",
   "execution_count": 11,
   "id": "6bcc05cc",
   "metadata": {},
   "outputs": [],
   "source": [
    "s=('HelloHworld')\n",
    "d={}"
   ]
  },
  {
   "cell_type": "code",
   "execution_count": 12,
   "id": "39a40dc6",
   "metadata": {},
   "outputs": [
    {
     "name": "stdout",
     "output_type": "stream",
     "text": [
      "{'h': 0, 'e': 1, 'l': 3, 'o': 2, 'w': 1, 'r': 1, 'd': 1}\n"
     ]
    }
   ],
   "source": [
    "for i in s.lower():\n",
    "    if(i not in d.keys()):\n",
    "        d[i]=s.count(i)\n",
    "print(d)  \n",
    "\n"
   ]
  },
  {
   "cell_type": "code",
   "execution_count": null,
   "id": "aa33193f",
   "metadata": {},
   "outputs": [],
   "source": []
  },
  {
   "cell_type": "code",
   "execution_count": null,
   "id": "c7b3c1f4",
   "metadata": {},
   "outputs": [],
   "source": []
  }
 ],
 "metadata": {
  "kernelspec": {
   "display_name": "Python 3 (ipykernel)",
   "language": "python",
   "name": "python3"
  },
  "language_info": {
   "codemirror_mode": {
    "name": "ipython",
    "version": 3
   },
   "file_extension": ".py",
   "mimetype": "text/x-python",
   "name": "python",
   "nbconvert_exporter": "python",
   "pygments_lexer": "ipython3",
   "version": "3.9.7"
  }
 },
 "nbformat": 4,
 "nbformat_minor": 5
}
