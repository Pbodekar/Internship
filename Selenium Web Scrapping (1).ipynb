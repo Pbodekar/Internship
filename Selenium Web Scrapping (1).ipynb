{
 "cells": [
  {
   "cell_type": "markdown",
   "id": "131e7332",
   "metadata": {},
   "source": [
    "Write a python program to scrape data for “Data Analyst” Job position in “Bangalore” location. You\n",
    "have to scrape the job-title, job-location, company_name, experience_required. You have to scrape first 10\n",
    "jobs data.\n"
   ]
  },
  {
   "cell_type": "code",
   "execution_count": 427,
   "id": "53d98a08",
   "metadata": {},
   "outputs": [
    {
     "name": "stdout",
     "output_type": "stream",
     "text": [
      "Requirement already satisfied: selenium in c:\\users\\praja\\anaconda3\\lib\\site-packages (4.1.0)\n",
      "Requirement already satisfied: urllib3[secure]~=1.26 in c:\\users\\praja\\anaconda3\\lib\\site-packages (from selenium) (1.26.7)\n",
      "Requirement already satisfied: trio~=0.17 in c:\\users\\praja\\anaconda3\\lib\\site-packages (from selenium) (0.19.0)\n",
      "Requirement already satisfied: trio-websocket~=0.9 in c:\\users\\praja\\anaconda3\\lib\\site-packages (from selenium) (0.9.2)\n",
      "Requirement already satisfied: sortedcontainers in c:\\users\\praja\\anaconda3\\lib\\site-packages (from trio~=0.17->selenium) (2.4.0)\n",
      "Requirement already satisfied: outcome in c:\\users\\praja\\anaconda3\\lib\\site-packages (from trio~=0.17->selenium) (1.1.0)\n",
      "Requirement already satisfied: idna in c:\\users\\praja\\anaconda3\\lib\\site-packages (from trio~=0.17->selenium) (3.2)\n",
      "Requirement already satisfied: sniffio in c:\\users\\praja\\anaconda3\\lib\\site-packages (from trio~=0.17->selenium) (1.2.0)\n",
      "Requirement already satisfied: async-generator>=1.9 in c:\\users\\praja\\anaconda3\\lib\\site-packages (from trio~=0.17->selenium) (1.10)\n",
      "Requirement already satisfied: cffi>=1.14 in c:\\users\\praja\\anaconda3\\lib\\site-packages (from trio~=0.17->selenium) (1.14.6)\n",
      "Requirement already satisfied: attrs>=19.2.0 in c:\\users\\praja\\anaconda3\\lib\\site-packages (from trio~=0.17->selenium) (21.2.0)\n",
      "Requirement already satisfied: pycparser in c:\\users\\praja\\anaconda3\\lib\\site-packages (from cffi>=1.14->trio~=0.17->selenium) (2.20)\n",
      "Requirement already satisfied: wsproto>=0.14 in c:\\users\\praja\\anaconda3\\lib\\site-packages (from trio-websocket~=0.9->selenium) (1.0.0)\n",
      "Requirement already satisfied: pyOpenSSL>=0.14 in c:\\users\\praja\\anaconda3\\lib\\site-packages (from urllib3[secure]~=1.26->selenium) (21.0.0)\n",
      "Requirement already satisfied: cryptography>=1.3.4 in c:\\users\\praja\\anaconda3\\lib\\site-packages (from urllib3[secure]~=1.26->selenium) (3.4.8)\n",
      "Requirement already satisfied: certifi in c:\\users\\praja\\anaconda3\\lib\\site-packages (from urllib3[secure]~=1.26->selenium) (2021.10.8)\n",
      "Requirement already satisfied: six>=1.5.2 in c:\\users\\praja\\anaconda3\\lib\\site-packages (from pyOpenSSL>=0.14->urllib3[secure]~=1.26->selenium) (1.16.0)\n",
      "Requirement already satisfied: h11<1,>=0.9.0 in c:\\users\\praja\\anaconda3\\lib\\site-packages (from wsproto>=0.14->trio-websocket~=0.9->selenium) (0.12.0)\n"
     ]
    }
   ],
   "source": [
    "!pip install selenium\n",
    "        \n",
    "    "
   ]
  },
  {
   "cell_type": "code",
   "execution_count": 428,
   "id": "9ef34168",
   "metadata": {},
   "outputs": [],
   "source": [
    "import selenium\n",
    "from selenium import webdriver\n",
    "import pandas as pd\n",
    "import warnings\n",
    "warnings.filterwarnings('ignore')"
   ]
  },
  {
   "cell_type": "code",
   "execution_count": 429,
   "id": "f07008bb",
   "metadata": {},
   "outputs": [],
   "source": [
    "driver = webdriver.Chrome(r'C:\\Users\\praja\\Downloads\\chromedriver_win32\\chromedriver.exe')"
   ]
  },
  {
   "cell_type": "code",
   "execution_count": 430,
   "id": "e45b7ffa",
   "metadata": {},
   "outputs": [],
   "source": [
    "url = 'https://www.naukri.com/'\n",
    "driver.get(url)"
   ]
  },
  {
   "cell_type": "code",
   "execution_count": 431,
   "id": "7500bb24",
   "metadata": {},
   "outputs": [
    {
     "data": {
      "text/plain": [
       "<selenium.webdriver.remote.webelement.WebElement (session=\"01535ba5c34b1fdfb1fed7a11f0e4f86\", element=\"c60e0582-8dd4-4077-b6ae-b9ccaf945738\")>"
      ]
     },
     "execution_count": 431,
     "metadata": {},
     "output_type": "execute_result"
    }
   ],
   "source": [
    "job = driver.find_element_by_xpath(\"/html/body/div/div[2]/div[3]/div/div/div[1]/div/div/div/input\")\n",
    "job"
   ]
  },
  {
   "cell_type": "code",
   "execution_count": 432,
   "id": "0137d9f8",
   "metadata": {
    "scrolled": true
   },
   "outputs": [],
   "source": [
    "job.send_keys('Data Analyst')"
   ]
  },
  {
   "cell_type": "code",
   "execution_count": 433,
   "id": "71e54321",
   "metadata": {},
   "outputs": [
    {
     "data": {
      "text/plain": [
       "<selenium.webdriver.remote.webelement.WebElement (session=\"01535ba5c34b1fdfb1fed7a11f0e4f86\", element=\"57e2ab4c-8e92-4d6f-b91b-47f6e8453db6\")>"
      ]
     },
     "execution_count": 433,
     "metadata": {},
     "output_type": "execute_result"
    }
   ],
   "source": [
    "location = driver.find_element_by_xpath(\"/html/body/div/div[2]/div[3]/div/div/div[3]/div/div/div/input\")\n",
    "location"
   ]
  },
  {
   "cell_type": "code",
   "execution_count": 434,
   "id": "f2dc60ac",
   "metadata": {},
   "outputs": [],
   "source": [
    "location.send_keys('Banglore')"
   ]
  },
  {
   "cell_type": "code",
   "execution_count": 435,
   "id": "da4ed71c",
   "metadata": {},
   "outputs": [
    {
     "data": {
      "text/plain": [
       "<selenium.webdriver.remote.webelement.WebElement (session=\"01535ba5c34b1fdfb1fed7a11f0e4f86\", element=\"a168c50a-919b-4e60-b184-2abdda207f58\")>"
      ]
     },
     "execution_count": 435,
     "metadata": {},
     "output_type": "execute_result"
    }
   ],
   "source": [
    "search_btn = driver.find_element_by_xpath('/html/body/div/div[2]/div[3]/div/div/div[6]')\n",
    "search_btn"
   ]
  },
  {
   "cell_type": "code",
   "execution_count": 436,
   "id": "6b226d02",
   "metadata": {},
   "outputs": [],
   "source": [
    "search_btn.click()"
   ]
  },
  {
   "cell_type": "code",
   "execution_count": 437,
   "id": "31aafd89",
   "metadata": {},
   "outputs": [
    {
     "data": {
      "text/plain": [
       "20"
      ]
     },
     "execution_count": 437,
     "metadata": {},
     "output_type": "execute_result"
    }
   ],
   "source": [
    "job_title = driver.find_elements_by_xpath('//a[@class=\"title fw500 ellipsis\"]')\n",
    "len(job_title)"
   ]
  },
  {
   "cell_type": "code",
   "execution_count": 438,
   "id": "b74058f6",
   "metadata": {},
   "outputs": [
    {
     "data": {
      "text/plain": [
       "['Hiring Data Analyst For Global Logic-Immediate Joiner',\n",
       " 'Senior Data Analyst',\n",
       " 'Junior Data Analyst/ Scientist- Fresher Position',\n",
       " 'Assistant Clinical Data Analyst',\n",
       " 'Lead - Data Analyst / Scientist',\n",
       " 'Data Analyst / Sr. Data Analyst',\n",
       " 'Senior Data Analyst - CRM',\n",
       " 'Senior Data Analyst - Supporting Audits',\n",
       " 'Research - Data Analyst / Associate',\n",
       " 'Data Analyst 1',\n",
       " 'SAM Data Analyst',\n",
       " 'Data Analyst',\n",
       " 'Data Analyst - CRM Platform',\n",
       " 'Data Analyst',\n",
       " 'Consultant - Data Analyst',\n",
       " 'Hiring For Data Analyst',\n",
       " 'Business Analyst - Telecom Data Migration',\n",
       " 'Senior Data Analyst',\n",
       " 'Senior Data Analyst - CRM',\n",
       " 'Data Analyst']"
      ]
     },
     "execution_count": 438,
     "metadata": {},
     "output_type": "execute_result"
    }
   ],
   "source": [
    "job_titles = []\n",
    "\n",
    "for i in job_title:\n",
    "    job_titles.append(i.text)\n",
    "job_titles"
   ]
  },
  {
   "cell_type": "code",
   "execution_count": 439,
   "id": "dc7fbd83",
   "metadata": {},
   "outputs": [
    {
     "data": {
      "text/plain": [
       "20"
      ]
     },
     "execution_count": 439,
     "metadata": {},
     "output_type": "execute_result"
    }
   ],
   "source": [
    "company = driver.find_elements_by_xpath('//a[@class=\"subTitle ellipsis fleft\"]')\n",
    "len(company)"
   ]
  },
  {
   "cell_type": "code",
   "execution_count": 440,
   "id": "9e5afdb0",
   "metadata": {},
   "outputs": [
    {
     "data": {
      "text/plain": [
       "['GlobalLogic',\n",
       " 'Flipkart',\n",
       " 'Sejal Consulting Hub',\n",
       " 'Labcorp Drug Development India Private Limited',\n",
       " 'Axim Technologies',\n",
       " 'Vmware',\n",
       " 'Gojek Tech',\n",
       " 'Visa',\n",
       " 'AXL HR Tech',\n",
       " 'Optum Global Solutions (India) Private Limited',\n",
       " 'Nokia',\n",
       " 'Zolostays Property Solutions Pvt. Ltd.',\n",
       " 'Artech infosystem',\n",
       " 'Flipkart',\n",
       " 'Flipkart',\n",
       " 'Flipkart',\n",
       " 'NetCracker',\n",
       " 'Walmart',\n",
       " 'GO-JEK India',\n",
       " 'Snaphunt']"
      ]
     },
     "execution_count": 440,
     "metadata": {},
     "output_type": "execute_result"
    }
   ],
   "source": [
    "company_name = []\n",
    "for i in company:\n",
    "    company_name.append(i.text)\n",
    "company_name"
   ]
  },
  {
   "cell_type": "code",
   "execution_count": 441,
   "id": "718acf65",
   "metadata": {},
   "outputs": [
    {
     "data": {
      "text/plain": [
       "20"
      ]
     },
     "execution_count": 441,
     "metadata": {},
     "output_type": "execute_result"
    }
   ],
   "source": [
    "locn = driver.find_elements_by_xpath('//li[@class=\"fleft grey-text br2 placeHolderLi location\"]')\n",
    "len(locn)"
   ]
  },
  {
   "cell_type": "code",
   "execution_count": 442,
   "id": "7dd0a8d8",
   "metadata": {},
   "outputs": [
    {
     "data": {
      "text/plain": [
       "['Noida, Nagpur, Pune, Gurgaon/Gurugram, Bangalore/Bengaluru\\n(WFH during Covid)',\n",
       " 'Bengaluru/Bangalore',\n",
       " 'Kolkata, Gurgaon/Gurugram, Bangalore/Bengaluru\\n(WFH during Covid)',\n",
       " 'Bangalore/Bengaluru',\n",
       " 'Bangalore/Bengaluru',\n",
       " 'Bangalore/Bengaluru',\n",
       " 'Bangalore/Bengaluru',\n",
       " 'Bangalore/Bengaluru',\n",
       " 'Mumbai, Delhi / NCR, Bangalore/Bengaluru',\n",
       " 'Bangalore/Bengaluru',\n",
       " 'Noida, Mumbai, Bangalore/Bengaluru',\n",
       " 'Bangalore/Bengaluru',\n",
       " 'Kolkata, Mumbai, Hyderabad/Secunderabad, Pune, Chennai, Bangalore/Bengaluru, Delhi / NCR',\n",
       " 'Bengaluru/Bangalore',\n",
       " 'Bengaluru/Bangalore',\n",
       " 'Bangalore/Bengaluru',\n",
       " 'Pune, Gurgaon/Gurugram, Bangalore/Bengaluru',\n",
       " 'Bangalore/Bengaluru',\n",
       " 'Bangalore/Bengaluru',\n",
       " 'Bangalore/Bengaluru']"
      ]
     },
     "execution_count": 442,
     "metadata": {},
     "output_type": "execute_result"
    }
   ],
   "source": [
    "location = []\n",
    "for i in locn:\n",
    "    location.append(i.text)\n",
    "location"
   ]
  },
  {
   "cell_type": "code",
   "execution_count": 443,
   "id": "b727032a",
   "metadata": {},
   "outputs": [
    {
     "data": {
      "text/plain": [
       "20"
      ]
     },
     "execution_count": 443,
     "metadata": {},
     "output_type": "execute_result"
    }
   ],
   "source": [
    "expr = driver.find_elements_by_xpath('//li[@class=\"fleft grey-text br2 placeHolderLi experience\"]')\n",
    "len(expr)"
   ]
  },
  {
   "cell_type": "code",
   "execution_count": 444,
   "id": "77a09e0a",
   "metadata": {},
   "outputs": [
    {
     "data": {
      "text/plain": [
       "['4-8 Yrs',\n",
       " '4-6 Yrs',\n",
       " '0-3 Yrs',\n",
       " '0-2 Yrs',\n",
       " '12-14 Yrs',\n",
       " '3-6 Yrs',\n",
       " '2-5 Yrs',\n",
       " '5-8 Yrs',\n",
       " '0-2 Yrs',\n",
       " '4-9 Yrs',\n",
       " '1-2 Yrs',\n",
       " '2-3 Yrs',\n",
       " '1-6 Yrs',\n",
       " '1-2 Yrs',\n",
       " '1-3 Yrs',\n",
       " '4-8 Yrs',\n",
       " '9-14 Yrs',\n",
       " '4-7 Yrs',\n",
       " '4-8 Yrs',\n",
       " '0-2 Yrs']"
      ]
     },
     "execution_count": 444,
     "metadata": {},
     "output_type": "execute_result"
    }
   ],
   "source": [
    "experience = []\n",
    "for i in expr:\n",
    "    experience.append(i.text)\n",
    "experience"
   ]
  },
  {
   "cell_type": "code",
   "execution_count": 445,
   "id": "f6085eb1",
   "metadata": {},
   "outputs": [
    {
     "data": {
      "text/html": [
       "<div>\n",
       "<style scoped>\n",
       "    .dataframe tbody tr th:only-of-type {\n",
       "        vertical-align: middle;\n",
       "    }\n",
       "\n",
       "    .dataframe tbody tr th {\n",
       "        vertical-align: top;\n",
       "    }\n",
       "\n",
       "    .dataframe thead th {\n",
       "        text-align: right;\n",
       "    }\n",
       "</style>\n",
       "<table border=\"1\" class=\"dataframe\">\n",
       "  <thead>\n",
       "    <tr style=\"text-align: right;\">\n",
       "      <th></th>\n",
       "      <th>Job Titles</th>\n",
       "      <th>Company Name</th>\n",
       "      <th>Experience</th>\n",
       "      <th>Location</th>\n",
       "    </tr>\n",
       "  </thead>\n",
       "  <tbody>\n",
       "    <tr>\n",
       "      <th>0</th>\n",
       "      <td>Hiring Data Analyst For Global Logic-Immediate...</td>\n",
       "      <td>&lt;selenium.webdriver.remote.webelement.WebEleme...</td>\n",
       "      <td>4-8 Yrs</td>\n",
       "      <td>Noida, Nagpur, Pune, Gurgaon/Gurugram, Bangalo...</td>\n",
       "    </tr>\n",
       "    <tr>\n",
       "      <th>1</th>\n",
       "      <td>Senior Data Analyst</td>\n",
       "      <td>&lt;selenium.webdriver.remote.webelement.WebEleme...</td>\n",
       "      <td>4-6 Yrs</td>\n",
       "      <td>Bengaluru/Bangalore</td>\n",
       "    </tr>\n",
       "    <tr>\n",
       "      <th>2</th>\n",
       "      <td>Junior Data Analyst/ Scientist- Fresher Position</td>\n",
       "      <td>&lt;selenium.webdriver.remote.webelement.WebEleme...</td>\n",
       "      <td>0-3 Yrs</td>\n",
       "      <td>Kolkata, Gurgaon/Gurugram, Bangalore/Bengaluru...</td>\n",
       "    </tr>\n",
       "    <tr>\n",
       "      <th>3</th>\n",
       "      <td>Assistant Clinical Data Analyst</td>\n",
       "      <td>&lt;selenium.webdriver.remote.webelement.WebEleme...</td>\n",
       "      <td>0-2 Yrs</td>\n",
       "      <td>Bangalore/Bengaluru</td>\n",
       "    </tr>\n",
       "    <tr>\n",
       "      <th>4</th>\n",
       "      <td>Lead - Data Analyst / Scientist</td>\n",
       "      <td>&lt;selenium.webdriver.remote.webelement.WebEleme...</td>\n",
       "      <td>12-14 Yrs</td>\n",
       "      <td>Bangalore/Bengaluru</td>\n",
       "    </tr>\n",
       "    <tr>\n",
       "      <th>5</th>\n",
       "      <td>Data Analyst / Sr. Data Analyst</td>\n",
       "      <td>&lt;selenium.webdriver.remote.webelement.WebEleme...</td>\n",
       "      <td>3-6 Yrs</td>\n",
       "      <td>Bangalore/Bengaluru</td>\n",
       "    </tr>\n",
       "    <tr>\n",
       "      <th>6</th>\n",
       "      <td>Senior Data Analyst - CRM</td>\n",
       "      <td>&lt;selenium.webdriver.remote.webelement.WebEleme...</td>\n",
       "      <td>2-5 Yrs</td>\n",
       "      <td>Bangalore/Bengaluru</td>\n",
       "    </tr>\n",
       "    <tr>\n",
       "      <th>7</th>\n",
       "      <td>Senior Data Analyst - Supporting Audits</td>\n",
       "      <td>&lt;selenium.webdriver.remote.webelement.WebEleme...</td>\n",
       "      <td>5-8 Yrs</td>\n",
       "      <td>Bangalore/Bengaluru</td>\n",
       "    </tr>\n",
       "    <tr>\n",
       "      <th>8</th>\n",
       "      <td>Research - Data Analyst / Associate</td>\n",
       "      <td>&lt;selenium.webdriver.remote.webelement.WebEleme...</td>\n",
       "      <td>0-2 Yrs</td>\n",
       "      <td>Mumbai, Delhi / NCR, Bangalore/Bengaluru</td>\n",
       "    </tr>\n",
       "    <tr>\n",
       "      <th>9</th>\n",
       "      <td>Data Analyst 1</td>\n",
       "      <td>&lt;selenium.webdriver.remote.webelement.WebEleme...</td>\n",
       "      <td>4-9 Yrs</td>\n",
       "      <td>Bangalore/Bengaluru</td>\n",
       "    </tr>\n",
       "  </tbody>\n",
       "</table>\n",
       "</div>"
      ],
      "text/plain": [
       "                                          Job Titles  \\\n",
       "0  Hiring Data Analyst For Global Logic-Immediate...   \n",
       "1                                Senior Data Analyst   \n",
       "2   Junior Data Analyst/ Scientist- Fresher Position   \n",
       "3                    Assistant Clinical Data Analyst   \n",
       "4                    Lead - Data Analyst / Scientist   \n",
       "5                    Data Analyst / Sr. Data Analyst   \n",
       "6                          Senior Data Analyst - CRM   \n",
       "7            Senior Data Analyst - Supporting Audits   \n",
       "8                Research - Data Analyst / Associate   \n",
       "9                                     Data Analyst 1   \n",
       "\n",
       "                                        Company Name Experience  \\\n",
       "0  <selenium.webdriver.remote.webelement.WebEleme...    4-8 Yrs   \n",
       "1  <selenium.webdriver.remote.webelement.WebEleme...    4-6 Yrs   \n",
       "2  <selenium.webdriver.remote.webelement.WebEleme...    0-3 Yrs   \n",
       "3  <selenium.webdriver.remote.webelement.WebEleme...    0-2 Yrs   \n",
       "4  <selenium.webdriver.remote.webelement.WebEleme...  12-14 Yrs   \n",
       "5  <selenium.webdriver.remote.webelement.WebEleme...    3-6 Yrs   \n",
       "6  <selenium.webdriver.remote.webelement.WebEleme...    2-5 Yrs   \n",
       "7  <selenium.webdriver.remote.webelement.WebEleme...    5-8 Yrs   \n",
       "8  <selenium.webdriver.remote.webelement.WebEleme...    0-2 Yrs   \n",
       "9  <selenium.webdriver.remote.webelement.WebEleme...    4-9 Yrs   \n",
       "\n",
       "                                            Location  \n",
       "0  Noida, Nagpur, Pune, Gurgaon/Gurugram, Bangalo...  \n",
       "1                                Bengaluru/Bangalore  \n",
       "2  Kolkata, Gurgaon/Gurugram, Bangalore/Bengaluru...  \n",
       "3                                Bangalore/Bengaluru  \n",
       "4                                Bangalore/Bengaluru  \n",
       "5                                Bangalore/Bengaluru  \n",
       "6                                Bangalore/Bengaluru  \n",
       "7                                Bangalore/Bengaluru  \n",
       "8           Mumbai, Delhi / NCR, Bangalore/Bengaluru  \n",
       "9                                Bangalore/Bengaluru  "
      ]
     },
     "execution_count": 445,
     "metadata": {},
     "output_type": "execute_result"
    }
   ],
   "source": [
    "jobs = pd.DataFrame()\n",
    "jobs['Job Titles'] = job_titles\n",
    "jobs['Company Name'] = company\n",
    "jobs['Experience'] = experience\n",
    "jobs['Location'] = location\n",
    "jobs[0:10]"
   ]
  },
  {
   "cell_type": "markdown",
   "id": "59ec42b4",
   "metadata": {},
   "source": [
    "Write a python program to scrape data for “Data Scientist” Job position in “Bangalore” location. You\n",
    "have to scrape the job-title, job-location, company_name. You have to scrape first 10 jobs data."
   ]
  },
  {
   "cell_type": "code",
   "execution_count": 446,
   "id": "a93c102a",
   "metadata": {},
   "outputs": [],
   "source": [
    "driver = webdriver.Chrome(r'C:\\Users\\praja\\Downloads\\chromedriver_win32\\chromedriver.exe')"
   ]
  },
  {
   "cell_type": "code",
   "execution_count": 447,
   "id": "7ac7e1ae",
   "metadata": {},
   "outputs": [],
   "source": [
    "url = 'https://www.naukri.com/'\n",
    "driver.get(url)"
   ]
  },
  {
   "cell_type": "code",
   "execution_count": 448,
   "id": "e2d70567",
   "metadata": {},
   "outputs": [
    {
     "data": {
      "text/plain": [
       "<selenium.webdriver.remote.webelement.WebElement (session=\"f7bbaf03db3ef5c50386c2810fa9e587\", element=\"6625a40d-8736-4a31-9d8c-9d4e48506e7f\")>"
      ]
     },
     "execution_count": 448,
     "metadata": {},
     "output_type": "execute_result"
    }
   ],
   "source": [
    "job = driver.find_element_by_xpath('/html/body/div/div[2]/div[3]/div/div/div[1]/div/div/div/input')\n",
    "job"
   ]
  },
  {
   "cell_type": "code",
   "execution_count": 449,
   "id": "b6f6d095",
   "metadata": {},
   "outputs": [],
   "source": [
    "job.send_keys('Data Scientist')"
   ]
  },
  {
   "cell_type": "code",
   "execution_count": 450,
   "id": "d9fc9bc2",
   "metadata": {},
   "outputs": [
    {
     "data": {
      "text/plain": [
       "<selenium.webdriver.remote.webelement.WebElement (session=\"f7bbaf03db3ef5c50386c2810fa9e587\", element=\"3b30fba1-61c9-4379-85b6-df5c7017efde\")>"
      ]
     },
     "execution_count": 450,
     "metadata": {},
     "output_type": "execute_result"
    }
   ],
   "source": [
    "location = driver.find_element_by_xpath('/html/body/div/div[2]/div[3]/div/div/div[3]/div/div/div/input')\n",
    "location"
   ]
  },
  {
   "cell_type": "code",
   "execution_count": 451,
   "id": "bb4c645e",
   "metadata": {},
   "outputs": [],
   "source": [
    "location.send_keys('Bangalore')"
   ]
  },
  {
   "cell_type": "code",
   "execution_count": 452,
   "id": "0970d079",
   "metadata": {},
   "outputs": [
    {
     "data": {
      "text/plain": [
       "<selenium.webdriver.remote.webelement.WebElement (session=\"f7bbaf03db3ef5c50386c2810fa9e587\", element=\"82721030-5366-404c-a213-845d506392c5\")>"
      ]
     },
     "execution_count": 452,
     "metadata": {},
     "output_type": "execute_result"
    }
   ],
   "source": [
    "search_btn = driver.find_element_by_xpath('/html/body/div/div[2]/div[3]/div/div/div[6]')\n",
    "search_btn"
   ]
  },
  {
   "cell_type": "code",
   "execution_count": 453,
   "id": "ecd05112",
   "metadata": {},
   "outputs": [],
   "source": [
    "search_btn.click()"
   ]
  },
  {
   "cell_type": "code",
   "execution_count": 454,
   "id": "17d9145b",
   "metadata": {},
   "outputs": [
    {
     "data": {
      "text/plain": [
       "20"
      ]
     },
     "execution_count": 454,
     "metadata": {},
     "output_type": "execute_result"
    }
   ],
   "source": [
    "job = driver.find_elements_by_xpath('//a[@class=\"title fw500 ellipsis\"]')\n",
    "len(job)"
   ]
  },
  {
   "cell_type": "code",
   "execution_count": 455,
   "id": "bfae1de3",
   "metadata": {},
   "outputs": [
    {
     "data": {
      "text/plain": [
       "['Senior Data Scientist /Senior Software Engineer',\n",
       " 'Data Scientist: Advanced Analytics',\n",
       " 'Data Scientist: Advanced Analytics',\n",
       " 'Sr . Data Scientist',\n",
       " 'Senior Data Scientist',\n",
       " 'Sr Data Scientist',\n",
       " 'Senior Data Scientist',\n",
       " 'Senior Data Scientist',\n",
       " 'Senior Data Scientist - Python/Machine Learning Algorithms',\n",
       " 'Senior/Lead Data Scientist - (Revenue Management)',\n",
       " 'Senior/Lead - Data Scientist (Supply Chain)',\n",
       " 'Sr. Associate Data Scientist',\n",
       " 'Associate Data Scientist',\n",
       " 'Lead/Senior Data Scientist (NLP)',\n",
       " 'Data Scientist',\n",
       " 'Data Scientist',\n",
       " 'Data Scientist-Supply Chain Analytics-Chainalytics,Bangalore',\n",
       " 'Data Scientist',\n",
       " 'Academic Counsellor- Data Scientist',\n",
       " 'Junior Programmer - Data Scientist']"
      ]
     },
     "execution_count": 455,
     "metadata": {},
     "output_type": "execute_result"
    }
   ],
   "source": [
    "job_title = []\n",
    "for i in job:\n",
    "    job_title.append(i.text)\n",
    "job_title"
   ]
  },
  {
   "cell_type": "code",
   "execution_count": 456,
   "id": "7b53f8fd",
   "metadata": {},
   "outputs": [
    {
     "data": {
      "text/plain": [
       "20"
      ]
     },
     "execution_count": 456,
     "metadata": {},
     "output_type": "execute_result"
    }
   ],
   "source": [
    "company = driver.find_elements_by_xpath('//a[@class=\"subTitle ellipsis fleft\"]')\n",
    "len(company)"
   ]
  },
  {
   "cell_type": "code",
   "execution_count": 457,
   "id": "72db8034",
   "metadata": {},
   "outputs": [
    {
     "data": {
      "text/plain": [
       "['Terawe Technologies Pvt. Ltd.',\n",
       " 'IBM',\n",
       " 'IBM',\n",
       " 'Harman Connected Services Corporation India Pvt.',\n",
       " 'Slice',\n",
       " 'Siemens',\n",
       " 'Dell',\n",
       " 'Dell',\n",
       " 'Altimax Business Solutions',\n",
       " 'o9 Solutions Management India Private Limited',\n",
       " 'o9 Solutions Management India Private Limited',\n",
       " 'CHANGE LEADERS CONSULTING',\n",
       " 'Shell',\n",
       " 'Samya.AI A FRACTAL Entity',\n",
       " 'Rakuten, Inc.',\n",
       " 'Advito',\n",
       " 'CHAINALYTICS SERVICES PRIVATE LIMITED',\n",
       " 'BCD Travel',\n",
       " 'AcadsHR',\n",
       " 'GSK India']"
      ]
     },
     "execution_count": 457,
     "metadata": {},
     "output_type": "execute_result"
    }
   ],
   "source": [
    "company_name = []\n",
    "for i in company:\n",
    "    company_name.append(i.text)\n",
    "company_name"
   ]
  },
  {
   "cell_type": "code",
   "execution_count": 458,
   "id": "a6d19a64",
   "metadata": {},
   "outputs": [
    {
     "data": {
      "text/plain": [
       "20"
      ]
     },
     "execution_count": 458,
     "metadata": {},
     "output_type": "execute_result"
    }
   ],
   "source": [
    "locn = driver.find_elements_by_xpath('//li[@class=\"fleft grey-text br2 placeHolderLi location\"]')\n",
    "len(locn)"
   ]
  },
  {
   "cell_type": "code",
   "execution_count": 459,
   "id": "16d2ea5f",
   "metadata": {},
   "outputs": [
    {
     "data": {
      "text/plain": [
       "['Kochi/Cochin, Hyderabad/Secunderabad, Bangalore/Bengaluru\\n(WFH during Covid)',\n",
       " 'Bangalore/Bengaluru',\n",
       " 'Bengaluru/Bangalore',\n",
       " 'Bangalore/Bengaluru',\n",
       " 'Bangalore/Bengaluru',\n",
       " 'Bangalore/Bengaluru',\n",
       " 'Bangalore/Bengaluru',\n",
       " 'Bangalore/Bengaluru',\n",
       " 'Mumbai, Hyderabad/Secunderabad, Pune, Bangalore/Bengaluru',\n",
       " 'Bangalore/Bengaluru',\n",
       " 'Bangalore/Bengaluru',\n",
       " 'Bangalore/Bengaluru',\n",
       " 'Chennai, Bangalore/Bengaluru',\n",
       " 'Bangalore/Bengaluru\\n(WFH during Covid)',\n",
       " 'Bangalore/Bengaluru',\n",
       " 'Bangalore/Bengaluru',\n",
       " 'Bangalore/Bengaluru\\n(WFH during Covid)',\n",
       " 'Bangalore/Bengaluru',\n",
       " 'Mumbai, Hyderabad/Secunderabad, Chennai, Gurgaon/Gurugram, Bangalore/Bengaluru',\n",
       " 'Bangalore/Bengaluru']"
      ]
     },
     "execution_count": 459,
     "metadata": {},
     "output_type": "execute_result"
    }
   ],
   "source": [
    "location = []\n",
    "for i in locn:\n",
    "    location.append(i.text)\n",
    "location"
   ]
  },
  {
   "cell_type": "code",
   "execution_count": 460,
   "id": "8c52cd79",
   "metadata": {},
   "outputs": [
    {
     "data": {
      "text/html": [
       "<div>\n",
       "<style scoped>\n",
       "    .dataframe tbody tr th:only-of-type {\n",
       "        vertical-align: middle;\n",
       "    }\n",
       "\n",
       "    .dataframe tbody tr th {\n",
       "        vertical-align: top;\n",
       "    }\n",
       "\n",
       "    .dataframe thead th {\n",
       "        text-align: right;\n",
       "    }\n",
       "</style>\n",
       "<table border=\"1\" class=\"dataframe\">\n",
       "  <thead>\n",
       "    <tr style=\"text-align: right;\">\n",
       "      <th></th>\n",
       "      <th>Job Titles</th>\n",
       "      <th>Company Name</th>\n",
       "      <th>Location</th>\n",
       "    </tr>\n",
       "  </thead>\n",
       "  <tbody>\n",
       "    <tr>\n",
       "      <th>0</th>\n",
       "      <td>Senior Data Scientist /Senior Software Engineer</td>\n",
       "      <td>Terawe Technologies Pvt. Ltd.</td>\n",
       "      <td>Kochi/Cochin, Hyderabad/Secunderabad, Bangalor...</td>\n",
       "    </tr>\n",
       "    <tr>\n",
       "      <th>1</th>\n",
       "      <td>Data Scientist: Advanced Analytics</td>\n",
       "      <td>IBM</td>\n",
       "      <td>Bangalore/Bengaluru</td>\n",
       "    </tr>\n",
       "    <tr>\n",
       "      <th>2</th>\n",
       "      <td>Data Scientist: Advanced Analytics</td>\n",
       "      <td>IBM</td>\n",
       "      <td>Bengaluru/Bangalore</td>\n",
       "    </tr>\n",
       "    <tr>\n",
       "      <th>3</th>\n",
       "      <td>Sr . Data Scientist</td>\n",
       "      <td>Harman Connected Services Corporation India Pvt.</td>\n",
       "      <td>Bangalore/Bengaluru</td>\n",
       "    </tr>\n",
       "    <tr>\n",
       "      <th>4</th>\n",
       "      <td>Senior Data Scientist</td>\n",
       "      <td>Slice</td>\n",
       "      <td>Bangalore/Bengaluru</td>\n",
       "    </tr>\n",
       "    <tr>\n",
       "      <th>5</th>\n",
       "      <td>Sr Data Scientist</td>\n",
       "      <td>Siemens</td>\n",
       "      <td>Bangalore/Bengaluru</td>\n",
       "    </tr>\n",
       "    <tr>\n",
       "      <th>6</th>\n",
       "      <td>Senior Data Scientist</td>\n",
       "      <td>Dell</td>\n",
       "      <td>Bangalore/Bengaluru</td>\n",
       "    </tr>\n",
       "    <tr>\n",
       "      <th>7</th>\n",
       "      <td>Senior Data Scientist</td>\n",
       "      <td>Dell</td>\n",
       "      <td>Bangalore/Bengaluru</td>\n",
       "    </tr>\n",
       "    <tr>\n",
       "      <th>8</th>\n",
       "      <td>Senior Data Scientist - Python/Machine Learnin...</td>\n",
       "      <td>Altimax Business Solutions</td>\n",
       "      <td>Mumbai, Hyderabad/Secunderabad, Pune, Bangalor...</td>\n",
       "    </tr>\n",
       "    <tr>\n",
       "      <th>9</th>\n",
       "      <td>Senior/Lead Data Scientist - (Revenue Management)</td>\n",
       "      <td>o9 Solutions Management India Private Limited</td>\n",
       "      <td>Bangalore/Bengaluru</td>\n",
       "    </tr>\n",
       "  </tbody>\n",
       "</table>\n",
       "</div>"
      ],
      "text/plain": [
       "                                          Job Titles  \\\n",
       "0    Senior Data Scientist /Senior Software Engineer   \n",
       "1                 Data Scientist: Advanced Analytics   \n",
       "2                 Data Scientist: Advanced Analytics   \n",
       "3                                Sr . Data Scientist   \n",
       "4                              Senior Data Scientist   \n",
       "5                                  Sr Data Scientist   \n",
       "6                              Senior Data Scientist   \n",
       "7                              Senior Data Scientist   \n",
       "8  Senior Data Scientist - Python/Machine Learnin...   \n",
       "9  Senior/Lead Data Scientist - (Revenue Management)   \n",
       "\n",
       "                                       Company Name  \\\n",
       "0                     Terawe Technologies Pvt. Ltd.   \n",
       "1                                               IBM   \n",
       "2                                               IBM   \n",
       "3  Harman Connected Services Corporation India Pvt.   \n",
       "4                                             Slice   \n",
       "5                                           Siemens   \n",
       "6                                              Dell   \n",
       "7                                              Dell   \n",
       "8                        Altimax Business Solutions   \n",
       "9     o9 Solutions Management India Private Limited   \n",
       "\n",
       "                                            Location  \n",
       "0  Kochi/Cochin, Hyderabad/Secunderabad, Bangalor...  \n",
       "1                                Bangalore/Bengaluru  \n",
       "2                                Bengaluru/Bangalore  \n",
       "3                                Bangalore/Bengaluru  \n",
       "4                                Bangalore/Bengaluru  \n",
       "5                                Bangalore/Bengaluru  \n",
       "6                                Bangalore/Bengaluru  \n",
       "7                                Bangalore/Bengaluru  \n",
       "8  Mumbai, Hyderabad/Secunderabad, Pune, Bangalor...  \n",
       "9                                Bangalore/Bengaluru  "
      ]
     },
     "execution_count": 460,
     "metadata": {},
     "output_type": "execute_result"
    }
   ],
   "source": [
    "jobs = pd.DataFrame()\n",
    "jobs['Job Titles'] = job_title\n",
    "jobs['Company Name'] = company_name\n",
    "jobs['Location'] = location\n",
    "jobs[0:10]"
   ]
  },
  {
   "cell_type": "markdown",
   "id": "7f3605aa",
   "metadata": {},
   "source": [
    "In this question you have to scrape data using the filters available on the webpage as shown below:\n"
   ]
  },
  {
   "cell_type": "code",
   "execution_count": 461,
   "id": "ed1b62b0",
   "metadata": {},
   "outputs": [],
   "source": [
    "driver = webdriver.Chrome(r'C:\\Users\\praja\\Downloads\\chromedriver_win32\\chromedriver.exe')"
   ]
  },
  {
   "cell_type": "code",
   "execution_count": 462,
   "id": "c17ed6ca",
   "metadata": {},
   "outputs": [],
   "source": [
    "url = 'https://www.naukri.com/'\n",
    "driver.get(url)"
   ]
  },
  {
   "cell_type": "code",
   "execution_count": 463,
   "id": "dedc4cab",
   "metadata": {},
   "outputs": [
    {
     "data": {
      "text/plain": [
       "<selenium.webdriver.remote.webelement.WebElement (session=\"909549a6843532e200af4f3a0b963637\", element=\"9d224926-0c78-4b18-9d45-9865c6af8983\")>"
      ]
     },
     "execution_count": 463,
     "metadata": {},
     "output_type": "execute_result"
    }
   ],
   "source": [
    "job = driver.find_element_by_xpath('/html/body/div/div[2]/div[3]/div/div/div[1]/div/div/div/input')\n",
    "job"
   ]
  },
  {
   "cell_type": "code",
   "execution_count": 464,
   "id": "73eb095c",
   "metadata": {},
   "outputs": [],
   "source": [
    "job.send_keys('Data Scientist')"
   ]
  },
  {
   "cell_type": "code",
   "execution_count": 465,
   "id": "36c0b4a7",
   "metadata": {},
   "outputs": [
    {
     "data": {
      "text/plain": [
       "<selenium.webdriver.remote.webelement.WebElement (session=\"909549a6843532e200af4f3a0b963637\", element=\"4619ef3e-c731-4e72-bead-eabd0df555a3\")>"
      ]
     },
     "execution_count": 465,
     "metadata": {},
     "output_type": "execute_result"
    }
   ],
   "source": [
    "search_btn = driver.find_element_by_xpath('/html/body/div/div[2]/div[3]/div/div/div[6]')\n",
    "search_btn"
   ]
  },
  {
   "cell_type": "code",
   "execution_count": 466,
   "id": "ab79f9df",
   "metadata": {},
   "outputs": [],
   "source": [
    "search_btn.click()"
   ]
  },
  {
   "cell_type": "code",
   "execution_count": 472,
   "id": "2e31a52a",
   "metadata": {},
   "outputs": [
    {
     "data": {
      "text/plain": [
       "<selenium.webdriver.remote.webelement.WebElement (session=\"909549a6843532e200af4f3a0b963637\", element=\"acd75440-4f22-4ea8-a33c-d3de09323dac\")>"
      ]
     },
     "execution_count": 472,
     "metadata": {},
     "output_type": "execute_result"
    }
   ],
   "source": [
    "locatn = driver.find_element_by_xpath('/html/body/div[1]/div[3]/div[2]/section[1]/div[2]/div[1]/div[2]/div[3]/label/p/span[1]')\n",
    "locatn"
   ]
  },
  {
   "cell_type": "code",
   "execution_count": 473,
   "id": "b43ee5dd",
   "metadata": {},
   "outputs": [],
   "source": [
    "locatn.click()"
   ]
  },
  {
   "cell_type": "code",
   "execution_count": 474,
   "id": "91bc2ec5",
   "metadata": {},
   "outputs": [
    {
     "data": {
      "text/plain": [
       "<selenium.webdriver.remote.webelement.WebElement (session=\"909549a6843532e200af4f3a0b963637\", element=\"4c3143d5-880b-424f-8ae3-1a3c9059a6a2\")>"
      ]
     },
     "execution_count": 474,
     "metadata": {},
     "output_type": "execute_result"
    }
   ],
   "source": [
    "salary = driver.find_element_by_xpath('/html/body/div[1]/div[3]/div[2]/section[1]/div[2]/div[4]/div[2]/div[2]/label/p/span[1]')\n",
    "salary"
   ]
  },
  {
   "cell_type": "code",
   "execution_count": 475,
   "id": "261e3e69",
   "metadata": {},
   "outputs": [],
   "source": [
    "salary.click()"
   ]
  },
  {
   "cell_type": "code",
   "execution_count": 476,
   "id": "ec33b617",
   "metadata": {},
   "outputs": [
    {
     "data": {
      "text/plain": [
       "20"
      ]
     },
     "execution_count": 476,
     "metadata": {},
     "output_type": "execute_result"
    }
   ],
   "source": [
    "job = driver.find_elements_by_xpath('//a[@class=\"title fw500 ellipsis\"]')\n",
    "len(job)"
   ]
  },
  {
   "cell_type": "code",
   "execution_count": 477,
   "id": "aefdd4f4",
   "metadata": {},
   "outputs": [
    {
     "data": {
      "text/plain": [
       "['Data Scientist / Senior DS/ Team Lead',\n",
       " 'Job Opportunity || Data Scientist || HCL Technologies',\n",
       " 'Hiring For Data Analyst / Data Scientist',\n",
       " 'Senior Data Scientist I',\n",
       " 'Data Scientist',\n",
       " 'Data Scientist | Python | Machine Learning | Deep Learning- Fresher',\n",
       " 'Openings For Jr/mid/Sr level data Scientists',\n",
       " 'Data Scientist',\n",
       " 'Urgent Hiring For Data Scientist',\n",
       " 'Urgent Hiring For Data Scientist',\n",
       " 'Data Scientist role',\n",
       " 'Data Scientist role',\n",
       " 'Data Scientist role',\n",
       " 'Data Scientist Internship',\n",
       " 'Data Scientist',\n",
       " 'Data Scientist',\n",
       " 'Data Analyst / Data Scientist / Business Analytics / Fresher - MNC',\n",
       " 'Data Scientist',\n",
       " 'Senior Data Scientist',\n",
       " 'Data Scientist']"
      ]
     },
     "execution_count": 477,
     "metadata": {},
     "output_type": "execute_result"
    }
   ],
   "source": [
    "job_title = []\n",
    "\n",
    "for i in job:\n",
    "    job_title.append(i.text)\n",
    "job_title"
   ]
  },
  {
   "cell_type": "code",
   "execution_count": 478,
   "id": "1cea89fa",
   "metadata": {},
   "outputs": [
    {
     "data": {
      "text/plain": [
       "20"
      ]
     },
     "execution_count": 478,
     "metadata": {},
     "output_type": "execute_result"
    }
   ],
   "source": [
    "company = driver.find_elements_by_xpath('//a[@class=\"subTitle ellipsis fleft\"]')\n",
    "len(company)"
   ]
  },
  {
   "cell_type": "code",
   "execution_count": 479,
   "id": "e18cca0c",
   "metadata": {},
   "outputs": [
    {
     "data": {
      "text/plain": [
       "['NebulARC Technologies Private Limited',\n",
       " 'HCL',\n",
       " 'Careerera',\n",
       " 'Delhivery',\n",
       " 'Core Diagnostics Private Limited',\n",
       " 'Schlesinger Group',\n",
       " 'Pluto seven business solutions (p) limited',\n",
       " 'T & A Solutions',\n",
       " 'Mount Talent Consulting Private Limited',\n",
       " 'Mount Talent Consulting Private Limited',\n",
       " 'Mount Talent Consulting Private Limited',\n",
       " 'Mount Talent Consulting Private Limited',\n",
       " 'Mount Talent Consulting Private Limited',\n",
       " 'iHackers Inc',\n",
       " 'Teleperformance',\n",
       " 'Country Veggie',\n",
       " 'GABA Consultancy services',\n",
       " 'Boston Consulting Group',\n",
       " 'iNICU',\n",
       " 'Sentieo']"
      ]
     },
     "execution_count": 479,
     "metadata": {},
     "output_type": "execute_result"
    }
   ],
   "source": [
    "company_name = []\n",
    "\n",
    "for i in company:\n",
    "    company_name.append(i.text)\n",
    "company_name\n"
   ]
  },
  {
   "cell_type": "code",
   "execution_count": 480,
   "id": "052b4097",
   "metadata": {},
   "outputs": [
    {
     "data": {
      "text/plain": [
       "20"
      ]
     },
     "execution_count": 480,
     "metadata": {},
     "output_type": "execute_result"
    }
   ],
   "source": [
    "locatn = driver.find_elements_by_xpath('//li[@class=\"fleft grey-text br2 placeHolderLi location\"]')\n",
    "len(locatn)"
   ]
  },
  {
   "cell_type": "code",
   "execution_count": 481,
   "id": "71301800",
   "metadata": {},
   "outputs": [
    {
     "data": {
      "text/plain": [
       "['Mumbai, Gurgaon/Gurugram(Cyber City +1)',\n",
       " 'Delhi / NCR',\n",
       " 'Noida(Sector-59 Noida)',\n",
       " 'Gurgaon/Gurugram',\n",
       " 'Gurgaon/Gurugram(Uday Nagar)',\n",
       " 'Noida, Gurgaon/Gurugram, Delhi / NCR',\n",
       " 'Kolkata, Hyderabad/Secunderabad, Pune, Ahmedabad, Chennai, Bangalore/Bengaluru, Delhi / NCR, Mumbai (All Areas)\\n(WFH during Covid)',\n",
       " 'Gurgaon/Gurugram',\n",
       " 'Gurgaon/Gurugram, Bangalore/Bengaluru',\n",
       " 'Gurgaon/Gurugram, Bangalore/Bengaluru',\n",
       " 'Noida, Hyderabad/Secunderabad, Pune, Gurgaon/Gurugram, Bangalore/Bengaluru, Delhi / NCR\\n(WFH during Covid)',\n",
       " 'Noida, Hyderabad/Secunderabad, Pune, Gurgaon/Gurugram, Bangalore/Bengaluru, Delhi / NCR\\n(WFH during Covid)',\n",
       " 'Noida, Hyderabad/Secunderabad, Pune, Gurgaon/Gurugram, Bangalore/Bengaluru, Delhi / NCR\\n(WFH during Covid)',\n",
       " 'New Delhi',\n",
       " 'Gurgaon/Gurugram, Chennai',\n",
       " 'Bharuch, Jaipur, Bhopal, Mumbai, Jhansi, Nagpur, Ghaziabad, Jaunpur, Kanpur, Delhi, Lucknow, Agra, Gurgaon, Rajkot, Bengaluru',\n",
       " 'Noida, New Delhi, Delhi / NCR',\n",
       " 'New Delhi',\n",
       " 'Delhi',\n",
       " 'Delhi']"
      ]
     },
     "execution_count": 481,
     "metadata": {},
     "output_type": "execute_result"
    }
   ],
   "source": [
    "location = []\n",
    "for i in locatn:\n",
    "    location.append(i.text)\n",
    "location"
   ]
  },
  {
   "cell_type": "code",
   "execution_count": 482,
   "id": "f8a5dbbf",
   "metadata": {},
   "outputs": [
    {
     "data": {
      "text/plain": [
       "20"
      ]
     },
     "execution_count": 482,
     "metadata": {},
     "output_type": "execute_result"
    }
   ],
   "source": [
    "exprn = driver.find_elements_by_xpath('//li[@class=\"fleft grey-text br2 placeHolderLi experience\"]')\n",
    "len(exprn)"
   ]
  },
  {
   "cell_type": "code",
   "execution_count": 483,
   "id": "ad6cec0b",
   "metadata": {},
   "outputs": [
    {
     "data": {
      "text/plain": [
       "['0-4 Yrs',\n",
       " '2-6 Yrs',\n",
       " '2-5 Yrs',\n",
       " '3-7 Yrs',\n",
       " '2-7 Yrs',\n",
       " '0-3 Yrs',\n",
       " '2-6 Yrs',\n",
       " '2-6 Yrs',\n",
       " '1-6 Yrs',\n",
       " '1-6 Yrs',\n",
       " '1-4 Yrs',\n",
       " '1-3 Yrs',\n",
       " '1-3 Yrs',\n",
       " '0-1 Yrs',\n",
       " '4-9 Yrs',\n",
       " '1-3 Yrs',\n",
       " '0-0 Yrs',\n",
       " '2-5 Yrs',\n",
       " '1-5 Yrs',\n",
       " '2-7 Yrs']"
      ]
     },
     "execution_count": 483,
     "metadata": {},
     "output_type": "execute_result"
    }
   ],
   "source": [
    "experience = []\n",
    "for i in exprn:\n",
    "    experience.append(i.text)\n",
    "experience"
   ]
  },
  {
   "cell_type": "code",
   "execution_count": 484,
   "id": "9d8913fd",
   "metadata": {},
   "outputs": [
    {
     "data": {
      "text/html": [
       "<div>\n",
       "<style scoped>\n",
       "    .dataframe tbody tr th:only-of-type {\n",
       "        vertical-align: middle;\n",
       "    }\n",
       "\n",
       "    .dataframe tbody tr th {\n",
       "        vertical-align: top;\n",
       "    }\n",
       "\n",
       "    .dataframe thead th {\n",
       "        text-align: right;\n",
       "    }\n",
       "</style>\n",
       "<table border=\"1\" class=\"dataframe\">\n",
       "  <thead>\n",
       "    <tr style=\"text-align: right;\">\n",
       "      <th></th>\n",
       "      <th>Job Titles</th>\n",
       "      <th>Company Name</th>\n",
       "      <th>Location</th>\n",
       "      <th>Experience</th>\n",
       "    </tr>\n",
       "  </thead>\n",
       "  <tbody>\n",
       "    <tr>\n",
       "      <th>0</th>\n",
       "      <td>Data Scientist / Senior DS/ Team Lead</td>\n",
       "      <td>NebulARC Technologies Private Limited</td>\n",
       "      <td>Mumbai, Gurgaon/Gurugram(Cyber City +1)</td>\n",
       "      <td>0-4 Yrs</td>\n",
       "    </tr>\n",
       "    <tr>\n",
       "      <th>1</th>\n",
       "      <td>Job Opportunity || Data Scientist || HCL Techn...</td>\n",
       "      <td>HCL</td>\n",
       "      <td>Delhi / NCR</td>\n",
       "      <td>2-6 Yrs</td>\n",
       "    </tr>\n",
       "    <tr>\n",
       "      <th>2</th>\n",
       "      <td>Hiring For Data Analyst / Data Scientist</td>\n",
       "      <td>Careerera</td>\n",
       "      <td>Noida(Sector-59 Noida)</td>\n",
       "      <td>2-5 Yrs</td>\n",
       "    </tr>\n",
       "    <tr>\n",
       "      <th>3</th>\n",
       "      <td>Senior Data Scientist I</td>\n",
       "      <td>Delhivery</td>\n",
       "      <td>Gurgaon/Gurugram</td>\n",
       "      <td>3-7 Yrs</td>\n",
       "    </tr>\n",
       "    <tr>\n",
       "      <th>4</th>\n",
       "      <td>Data Scientist</td>\n",
       "      <td>Core Diagnostics Private Limited</td>\n",
       "      <td>Gurgaon/Gurugram(Uday Nagar)</td>\n",
       "      <td>2-7 Yrs</td>\n",
       "    </tr>\n",
       "    <tr>\n",
       "      <th>5</th>\n",
       "      <td>Data Scientist | Python | Machine Learning | D...</td>\n",
       "      <td>Schlesinger Group</td>\n",
       "      <td>Noida, Gurgaon/Gurugram, Delhi / NCR</td>\n",
       "      <td>0-3 Yrs</td>\n",
       "    </tr>\n",
       "    <tr>\n",
       "      <th>6</th>\n",
       "      <td>Openings For Jr/mid/Sr level data Scientists</td>\n",
       "      <td>Pluto seven business solutions (p) limited</td>\n",
       "      <td>Kolkata, Hyderabad/Secunderabad, Pune, Ahmedab...</td>\n",
       "      <td>2-6 Yrs</td>\n",
       "    </tr>\n",
       "    <tr>\n",
       "      <th>7</th>\n",
       "      <td>Data Scientist</td>\n",
       "      <td>T &amp; A Solutions</td>\n",
       "      <td>Gurgaon/Gurugram</td>\n",
       "      <td>2-6 Yrs</td>\n",
       "    </tr>\n",
       "    <tr>\n",
       "      <th>8</th>\n",
       "      <td>Urgent Hiring For Data Scientist</td>\n",
       "      <td>Mount Talent Consulting Private Limited</td>\n",
       "      <td>Gurgaon/Gurugram, Bangalore/Bengaluru</td>\n",
       "      <td>1-6 Yrs</td>\n",
       "    </tr>\n",
       "    <tr>\n",
       "      <th>9</th>\n",
       "      <td>Urgent Hiring For Data Scientist</td>\n",
       "      <td>Mount Talent Consulting Private Limited</td>\n",
       "      <td>Gurgaon/Gurugram, Bangalore/Bengaluru</td>\n",
       "      <td>1-6 Yrs</td>\n",
       "    </tr>\n",
       "  </tbody>\n",
       "</table>\n",
       "</div>"
      ],
      "text/plain": [
       "                                          Job Titles  \\\n",
       "0              Data Scientist / Senior DS/ Team Lead   \n",
       "1  Job Opportunity || Data Scientist || HCL Techn...   \n",
       "2           Hiring For Data Analyst / Data Scientist   \n",
       "3                            Senior Data Scientist I   \n",
       "4                                     Data Scientist   \n",
       "5  Data Scientist | Python | Machine Learning | D...   \n",
       "6       Openings For Jr/mid/Sr level data Scientists   \n",
       "7                                     Data Scientist   \n",
       "8                   Urgent Hiring For Data Scientist   \n",
       "9                   Urgent Hiring For Data Scientist   \n",
       "\n",
       "                                 Company Name  \\\n",
       "0       NebulARC Technologies Private Limited   \n",
       "1                                         HCL   \n",
       "2                                   Careerera   \n",
       "3                                   Delhivery   \n",
       "4            Core Diagnostics Private Limited   \n",
       "5                           Schlesinger Group   \n",
       "6  Pluto seven business solutions (p) limited   \n",
       "7                             T & A Solutions   \n",
       "8     Mount Talent Consulting Private Limited   \n",
       "9     Mount Talent Consulting Private Limited   \n",
       "\n",
       "                                            Location Experience  \n",
       "0            Mumbai, Gurgaon/Gurugram(Cyber City +1)    0-4 Yrs  \n",
       "1                                        Delhi / NCR    2-6 Yrs  \n",
       "2                             Noida(Sector-59 Noida)    2-5 Yrs  \n",
       "3                                   Gurgaon/Gurugram    3-7 Yrs  \n",
       "4                       Gurgaon/Gurugram(Uday Nagar)    2-7 Yrs  \n",
       "5               Noida, Gurgaon/Gurugram, Delhi / NCR    0-3 Yrs  \n",
       "6  Kolkata, Hyderabad/Secunderabad, Pune, Ahmedab...    2-6 Yrs  \n",
       "7                                   Gurgaon/Gurugram    2-6 Yrs  \n",
       "8              Gurgaon/Gurugram, Bangalore/Bengaluru    1-6 Yrs  \n",
       "9              Gurgaon/Gurugram, Bangalore/Bengaluru    1-6 Yrs  "
      ]
     },
     "execution_count": 484,
     "metadata": {},
     "output_type": "execute_result"
    }
   ],
   "source": [
    "jobs = pd.DataFrame()\n",
    "jobs['Job Titles'] = job_title\n",
    "jobs['Company Name'] = company_name\n",
    "jobs['Location'] = location\n",
    "jobs['Experience'] = experience\n",
    "jobs[0:10]"
   ]
  },
  {
   "cell_type": "markdown",
   "id": "09852a8f",
   "metadata": {},
   "source": [
    "Scrape data of first 100 sunglasses listings on flipkart.com. You have to scrape four attributes"
   ]
  },
  {
   "cell_type": "code",
   "execution_count": 485,
   "id": "a710c114",
   "metadata": {},
   "outputs": [],
   "source": [
    "driver = webdriver.Chrome(r'C:\\Users\\praja\\Downloads\\chromedriver_win32\\chromedriver.exe')"
   ]
  },
  {
   "cell_type": "code",
   "execution_count": 486,
   "id": "e3860a57",
   "metadata": {},
   "outputs": [],
   "source": [
    "url = 'https://www.flipkart.com/'\n",
    "driver.get(url)"
   ]
  },
  {
   "cell_type": "code",
   "execution_count": 487,
   "id": "7b472edb",
   "metadata": {},
   "outputs": [
    {
     "data": {
      "text/plain": [
       "<selenium.webdriver.remote.webelement.WebElement (session=\"77b5baa1b3cc1dcd8f1e9b25258272cb\", element=\"0f2b334e-488d-4861-b5f2-26a96eb4b13b\")>"
      ]
     },
     "execution_count": 487,
     "metadata": {},
     "output_type": "execute_result"
    }
   ],
   "source": [
    "search = driver.find_element_by_xpath('/html/body/div[1]/div/div[1]/div[1]/div[2]/div[2]/form/div/div/input')\n",
    "search"
   ]
  },
  {
   "cell_type": "code",
   "execution_count": 488,
   "id": "1133178c",
   "metadata": {},
   "outputs": [],
   "source": [
    "search.send_keys('sunglasses')"
   ]
  },
  {
   "cell_type": "code",
   "execution_count": 489,
   "id": "bb5b7a4a",
   "metadata": {},
   "outputs": [
    {
     "data": {
      "text/plain": [
       "<selenium.webdriver.remote.webelement.WebElement (session=\"77b5baa1b3cc1dcd8f1e9b25258272cb\", element=\"ff8f8511-d349-46b0-a7ff-3308796068f5\")>"
      ]
     },
     "execution_count": 489,
     "metadata": {},
     "output_type": "execute_result"
    }
   ],
   "source": [
    "search_btn = driver.find_element_by_xpath('/html/body/div[1]/div/div[1]/div[1]/div[2]/div[2]/form/div/button')\n",
    "search_btn"
   ]
  },
  {
   "cell_type": "code",
   "execution_count": 490,
   "id": "708b8eb3",
   "metadata": {},
   "outputs": [],
   "source": [
    "search_btn.click()"
   ]
  },
  {
   "cell_type": "code",
   "execution_count": 549,
   "id": "fdda99d7",
   "metadata": {},
   "outputs": [
    {
     "data": {
      "text/plain": [
       "40"
      ]
     },
     "execution_count": 549,
     "metadata": {},
     "output_type": "execute_result"
    }
   ],
   "source": [
    "pgbr1 = driver.find_elements_by_xpath('//div[@class=\"_2WkVRV\"]')\n",
    "len(pgbr1)"
   ]
  },
  {
   "cell_type": "code",
   "execution_count": 550,
   "id": "93b26345",
   "metadata": {},
   "outputs": [
    {
     "data": {
      "text/plain": [
       "['Kanishka',\n",
       " 'VINCENT CHASE',\n",
       " 'PIRASO',\n",
       " 'Fastrack',\n",
       " 'Elligator',\n",
       " 'SRPM',\n",
       " 'kingsunglasses',\n",
       " 'VILLAIN',\n",
       " 'SHAAH COLLECTIONS',\n",
       " 'PIRASO',\n",
       " 'PHENOMENAL',\n",
       " 'ROZZETTA CRAFT',\n",
       " 'New Specs',\n",
       " 'PIRASO',\n",
       " 'SUNBEE',\n",
       " 'VINCENT CHASE',\n",
       " 'ROZZETTA CRAFT',\n",
       " 'PIRASO',\n",
       " 'ROYAL SON',\n",
       " 'AISLIN',\n",
       " 'kingsunglasses',\n",
       " 'ROYAL SON',\n",
       " 'Elligator',\n",
       " 'ROZZETTA CRAFT',\n",
       " 'SHAAH COLLECTIONS',\n",
       " 'kingsunglasses',\n",
       " 'hipe',\n",
       " 'ROZZETTA CRAFT',\n",
       " 'New Specs',\n",
       " 'Lee Topper',\n",
       " 'PHENOMENAL',\n",
       " 'AISLIN',\n",
       " 'PIRASO',\n",
       " 'Fastrack',\n",
       " 'PHENOMENAL',\n",
       " 'AISLIN',\n",
       " 'ROZZETTA CRAFT',\n",
       " 'agera',\n",
       " 'New Specs',\n",
       " 'AISLIN']"
      ]
     },
     "execution_count": 550,
     "metadata": {},
     "output_type": "execute_result"
    }
   ],
   "source": [
    "B1 = []\n",
    "\n",
    "for i in pgbr1:\n",
    "    B1.append(i.text)\n",
    "B1"
   ]
  },
  {
   "cell_type": "code",
   "execution_count": 551,
   "id": "f7635e45",
   "metadata": {},
   "outputs": [
    {
     "data": {
      "text/plain": [
       "40"
      ]
     },
     "execution_count": 551,
     "metadata": {},
     "output_type": "execute_result"
    }
   ],
   "source": [
    "prd1 = driver.find_elements_by_xpath('//a[@class=\"IRpwTa\"]')\n",
    "len(prd1)"
   ]
  },
  {
   "cell_type": "code",
   "execution_count": 552,
   "id": "5017fa51",
   "metadata": {},
   "outputs": [
    {
     "data": {
      "text/plain": [
       "['UV Protection Aviator Sunglasses (55)',\n",
       " 'by Lenskart Polarized, UV Protection Round Sunglasses (...',\n",
       " 'UV Protection Aviator Sunglasses (54)',\n",
       " 'UV Protection Wayfarer Sunglasses (Free Size)',\n",
       " 'UV Protection Round Sunglasses (54)',\n",
       " 'UV Protection Wayfarer Sunglasses (56)',\n",
       " 'UV Protection Round Sunglasses (54)',\n",
       " 'Others Wayfarer Sunglasses (Free Size)',\n",
       " 'UV Protection, Polarized, Mirrored Rectangular Sunglass...',\n",
       " 'UV Protection Aviator Sunglasses (54)',\n",
       " 'UV Protection Retro Square Sunglasses (Free Size)',\n",
       " 'Polarized, Night Vision, Riding Glasses Sports, Wrap-ar...',\n",
       " 'Mirrored, UV Protection, Riding Glasses, Others Round S...',\n",
       " 'UV Protection Wayfarer Sunglasses (32)',\n",
       " 'UV Protection, Polarized, Mirrored Round Sunglasses (Fr...',\n",
       " 'by Lenskart UV Protection Wayfarer Sunglasses (49)',\n",
       " 'UV Protection, Gradient Rectangular Sunglasses (Free Si...',\n",
       " 'UV Protection Aviator Sunglasses (54)',\n",
       " 'Mirrored Aviator Sunglasses (55)',\n",
       " 'UV Protection, Gradient Oval Sunglasses (58)',\n",
       " 'UV Protection Round Sunglasses (Free Size)',\n",
       " 'UV Protection Rectangular Sunglasses (58)',\n",
       " 'UV Protection Round Sunglasses (53)',\n",
       " 'UV Protection, Riding Glasses Rectangular Sunglasses (F...',\n",
       " 'UV Protection, Polarized, Mirrored Rectangular Sunglass...',\n",
       " 'Mirrored, UV Protection Wayfarer Sunglasses (53)',\n",
       " 'Mirrored, Gradient, UV Protection Aviator Sunglasses (5...',\n",
       " 'UV Protection, Gradient Rectangular Sunglasses (Free Si...',\n",
       " 'UV Protection Rectangular Sunglasses (Free Size)',\n",
       " 'Riding Glasses, Night Vision Wrap-around Sunglasses (Fr...',\n",
       " 'UV Protection, Mirrored Retro Square Sunglasses (53)',\n",
       " 'UV Protection Oval Sunglasses (58)',\n",
       " 'UV Protection Aviator Sunglasses (58)',\n",
       " 'UV Protection Wayfarer Sunglasses (55)',\n",
       " 'UV Protection, Mirrored Retro Square Sunglasses (53)',\n",
       " 'UV Protection, Gradient Cat-eye, Wayfarer Sunglasses (6...',\n",
       " 'UV Protection Retro Square Sunglasses (Free Size)',\n",
       " 'Gradient Aviator Sunglasses (55)',\n",
       " 'UV Protection Round Sunglasses (Free Size)',\n",
       " 'UV Protection Cat-eye Sunglasses (58)']"
      ]
     },
     "execution_count": 552,
     "metadata": {},
     "output_type": "execute_result"
    }
   ],
   "source": [
    "prdct1 = []\n",
    "for i in prd1:\n",
    "    prdct1.append(i.text)\n",
    "prdct1"
   ]
  },
  {
   "cell_type": "code",
   "execution_count": 553,
   "id": "5648cdbd",
   "metadata": {},
   "outputs": [
    {
     "data": {
      "text/plain": [
       "40"
      ]
     },
     "execution_count": 553,
     "metadata": {},
     "output_type": "execute_result"
    }
   ],
   "source": [
    "pr1 = driver.find_elements_by_xpath('//div[@class=\"_30jeq3\"]')\n",
    "len(pr1)"
   ]
  },
  {
   "cell_type": "code",
   "execution_count": 554,
   "id": "74a1a19b",
   "metadata": {},
   "outputs": [
    {
     "data": {
      "text/plain": [
       "['₹145',\n",
       " '₹1,179',\n",
       " '₹200',\n",
       " '₹609',\n",
       " '₹248',\n",
       " '₹198',\n",
       " '₹188',\n",
       " '₹522',\n",
       " '₹165',\n",
       " '₹200',\n",
       " '₹309',\n",
       " '₹499',\n",
       " '₹262',\n",
       " '₹190',\n",
       " '₹271',\n",
       " '₹1,179',\n",
       " '₹383',\n",
       " '₹200',\n",
       " '₹359',\n",
       " '₹472',\n",
       " '₹289',\n",
       " '₹449',\n",
       " '₹189',\n",
       " '₹426',\n",
       " '₹181',\n",
       " '₹273',\n",
       " '₹178',\n",
       " '₹348',\n",
       " '₹259',\n",
       " '₹276',\n",
       " '₹299',\n",
       " '₹679',\n",
       " '₹299',\n",
       " '₹549',\n",
       " '₹299',\n",
       " '₹698',\n",
       " '₹474',\n",
       " '₹196',\n",
       " '₹233',\n",
       " '₹487']"
      ]
     },
     "execution_count": 554,
     "metadata": {},
     "output_type": "execute_result"
    }
   ],
   "source": [
    "price1 = []\n",
    "\n",
    "for i in pr1:\n",
    "    price1.append(i.text)\n",
    "price1"
   ]
  },
  {
   "cell_type": "code",
   "execution_count": 555,
   "id": "899066da",
   "metadata": {},
   "outputs": [
    {
     "data": {
      "text/plain": [
       "40"
      ]
     },
     "execution_count": 555,
     "metadata": {},
     "output_type": "execute_result"
    }
   ],
   "source": [
    "disct1 = driver.find_elements_by_xpath('//div[@class=\"_3Ay6Sb\"]')\n",
    "len(disct1)"
   ]
  },
  {
   "cell_type": "code",
   "execution_count": 556,
   "id": "d16831eb",
   "metadata": {},
   "outputs": [
    {
     "data": {
      "text/plain": [
       "['87% off',\n",
       " '41% off',\n",
       " '87% off',\n",
       " '32% off',\n",
       " '90% off',\n",
       " '84% off',\n",
       " '81% off',\n",
       " '47% off',\n",
       " '90% off',\n",
       " '87% off',\n",
       " '84% off',\n",
       " '75% off',\n",
       " '83% off',\n",
       " '88% off',\n",
       " '84% off',\n",
       " '41% off',\n",
       " '80% off',\n",
       " '87% off',\n",
       " '76% off',\n",
       " '69% off',\n",
       " '81% off',\n",
       " '70% off',\n",
       " '87% off',\n",
       " '80% off',\n",
       " '81% off',\n",
       " '86% off',\n",
       " '85% off',\n",
       " '84% off',\n",
       " '87% off',\n",
       " '88% off',\n",
       " '85% off',\n",
       " '72% off',\n",
       " '88% off',\n",
       " '31% off',\n",
       " '85% off',\n",
       " '78% off',\n",
       " '78% off',\n",
       " '82% off',\n",
       " '82% off',\n",
       " '80% off']"
      ]
     },
     "execution_count": 556,
     "metadata": {},
     "output_type": "execute_result"
    }
   ],
   "source": [
    "discount1 = []\n",
    "for i in disct1:\n",
    "    discount1.append(i.text)\n",
    "discount1"
   ]
  },
  {
   "cell_type": "code",
   "execution_count": 557,
   "id": "7e81e499",
   "metadata": {},
   "outputs": [
    {
     "data": {
      "text/plain": [
       "<selenium.webdriver.remote.webelement.WebElement (session=\"77b5baa1b3cc1dcd8f1e9b25258272cb\", element=\"8c66c6c8-04f4-454e-927c-1362cf8d1fd6\")>"
      ]
     },
     "execution_count": 557,
     "metadata": {},
     "output_type": "execute_result"
    }
   ],
   "source": [
    "next_btn = driver.find_element_by_xpath('/html/body/div[1]/div/div[3]/div[1]/div[2]/div[12]/div/div/nav/a[11]/span')\n",
    "next_btn"
   ]
  },
  {
   "cell_type": "code",
   "execution_count": 558,
   "id": "27241ad1",
   "metadata": {},
   "outputs": [],
   "source": [
    "next_btn.click()"
   ]
  },
  {
   "cell_type": "code",
   "execution_count": 559,
   "id": "f63940ee",
   "metadata": {},
   "outputs": [
    {
     "data": {
      "text/plain": [
       "40"
      ]
     },
     "execution_count": 559,
     "metadata": {},
     "output_type": "execute_result"
    }
   ],
   "source": [
    "pgbr2 = driver.find_elements_by_xpath('//div[@class=\"_2WkVRV\"]')\n",
    "len(pgbr2)"
   ]
  },
  {
   "cell_type": "code",
   "execution_count": 560,
   "id": "a0aa8859",
   "metadata": {},
   "outputs": [
    {
     "data": {
      "text/plain": [
       "['Singco India',\n",
       " 'Rich Club',\n",
       " 'ROZZETTA CRAFT',\n",
       " 'VILLAIN',\n",
       " 'Lee Topper',\n",
       " 'Fastrack',\n",
       " 'Elligator',\n",
       " 'VINCENT CHASE',\n",
       " 'ROYAL SON',\n",
       " 'DEIXELS',\n",
       " 'PIRASO',\n",
       " 'ROZZETTA CRAFT',\n",
       " 'Fastrack',\n",
       " 'ROYAL SON',\n",
       " 'hipe',\n",
       " 'ROZZETTA CRAFT',\n",
       " 'Fastrack',\n",
       " 'Singco India',\n",
       " 'maxa',\n",
       " 'ROZZETTA CRAFT',\n",
       " 'hipe',\n",
       " 'kingsunglasses',\n",
       " 'ROZZETTA CRAFT',\n",
       " 'AISLIN',\n",
       " 'Fastrack',\n",
       " 'Lee Topper',\n",
       " 'Elligator',\n",
       " 'ROZZETTA CRAFT',\n",
       " 'SRPM',\n",
       " 'ROZZETTA CRAFT',\n",
       " 'SUNBEE',\n",
       " 'AISLIN',\n",
       " 'Singco',\n",
       " 'Rich Club',\n",
       " 'Billion',\n",
       " 'LAURELS',\n",
       " 'PHENOMENAL',\n",
       " 'ROYAL SON',\n",
       " 'kingsunglasses',\n",
       " 'AISLIN']"
      ]
     },
     "execution_count": 560,
     "metadata": {},
     "output_type": "execute_result"
    }
   ],
   "source": [
    "B2 = []\n",
    "\n",
    "for i in pgbr2:\n",
    "    B2.append(i.text)\n",
    "B2"
   ]
  },
  {
   "cell_type": "code",
   "execution_count": 561,
   "id": "6316c03d",
   "metadata": {},
   "outputs": [
    {
     "data": {
      "text/plain": [
       "40"
      ]
     },
     "execution_count": 561,
     "metadata": {},
     "output_type": "execute_result"
    }
   ],
   "source": [
    "prd2 = driver.find_elements_by_xpath('//a[@class=\"IRpwTa\"]')\n",
    "len(prd2)"
   ]
  },
  {
   "cell_type": "code",
   "execution_count": 562,
   "id": "424947e1",
   "metadata": {},
   "outputs": [
    {
     "data": {
      "text/plain": [
       "['Gradient, Toughened Glass Lens, UV Protection Retro Squ...',\n",
       " 'Polarized Round Sunglasses (48)',\n",
       " 'UV Protection, Gradient Round Sunglasses (Free Size)',\n",
       " 'Others Retro Square Sunglasses (Free Size)',\n",
       " 'UV Protection Rectangular Sunglasses (Free Size)',\n",
       " 'UV Protection Aviator Sunglasses (58)',\n",
       " 'UV Protection Round Sunglasses (54)',\n",
       " 'by Lenskart UV Protection Wayfarer Sunglasses (49)',\n",
       " 'Mirrored Aviator Sunglasses (55)',\n",
       " 'UV Protection Aviator, Wayfarer Sunglasses (Free Size)',\n",
       " 'UV Protection Butterfly Sunglasses (65)',\n",
       " 'UV Protection, Gradient Round Sunglasses (Free Size)',\n",
       " 'Gradient, UV Protection Wayfarer Sunglasses (Free Size)',\n",
       " 'Mirrored Aviator Sunglasses (Free Size)',\n",
       " 'UV Protection, Mirrored, Riding Glasses, Night Vision, ...',\n",
       " 'UV Protection, Riding Glasses Rectangular Sunglasses (F...',\n",
       " 'UV Protection Shield Sunglasses (Free Size)',\n",
       " 'Riding Glasses, UV Protection, Others Aviator Sunglasse...',\n",
       " 'UV Protection, Riding Glasses Rectangular, Wayfarer, Ov...',\n",
       " 'Gradient Round Sunglasses (Free Size)',\n",
       " 'UV Protection, Gradient, Mirrored, Riding Glasses Aviat...',\n",
       " 'UV Protection Rectangular Sunglasses (Free Size)',\n",
       " 'UV Protection, Gradient Retro Square Sunglasses (Free S...',\n",
       " 'UV Protection, Gradient Cat-eye Sunglasses (58)',\n",
       " 'UV Protection Aviator Sunglasses (Free Size)',\n",
       " 'UV Protection, Riding Glasses Retro Square, Spectacle ...',\n",
       " 'UV Protection Retro Square, Round Sunglasses (54)',\n",
       " 'UV Protection, Gradient Round Sunglasses (Free Size)',\n",
       " 'UV Protection Wayfarer Sunglasses (53)',\n",
       " 'UV Protection, Gradient Rectangular Sunglasses (Free Si...',\n",
       " 'UV Protection, Polarized, Mirrored Retro Square Sunglas...',\n",
       " 'UV Protection, Gradient Oval Sunglasses (58)',\n",
       " 'UV Protection Aviator Sunglasses (Free Size)',\n",
       " 'Polarized Round Sunglasses (48)',\n",
       " 'UV Protection Aviator Sunglasses (57)',\n",
       " 'UV Protection Wayfarer Sunglasses (53)',\n",
       " 'UV Protection, Mirrored Clubmaster Sunglasses (Free Siz...',\n",
       " 'UV Protection Retro Square Sunglasses (58)',\n",
       " 'Mirrored, UV Protection Wayfarer Sunglasses (Free Size)',\n",
       " 'Toughened Glass Lens, UV Protection Aviator Sunglasses ...']"
      ]
     },
     "execution_count": 562,
     "metadata": {},
     "output_type": "execute_result"
    }
   ],
   "source": [
    "prdct2 = []\n",
    "for i in prd2:\n",
    "    prdct2.append(i.text)\n",
    "prdct2"
   ]
  },
  {
   "cell_type": "code",
   "execution_count": 563,
   "id": "e917fa2f",
   "metadata": {},
   "outputs": [
    {
     "data": {
      "text/plain": [
       "40"
      ]
     },
     "execution_count": 563,
     "metadata": {},
     "output_type": "execute_result"
    }
   ],
   "source": [
    "pr2 = driver.find_elements_by_xpath('//div[@class=\"_30jeq3\"]')\n",
    "len(pr2)"
   ]
  },
  {
   "cell_type": "code",
   "execution_count": 564,
   "id": "6c8b5b03",
   "metadata": {},
   "outputs": [
    {
     "data": {
      "text/plain": [
       "['₹599',\n",
       " '₹165',\n",
       " '₹360',\n",
       " '₹549',\n",
       " '₹199',\n",
       " '₹869',\n",
       " '₹265',\n",
       " '₹1,179',\n",
       " '₹359',\n",
       " '₹229',\n",
       " '₹349',\n",
       " '₹426',\n",
       " '₹549',\n",
       " '₹359',\n",
       " '₹179',\n",
       " '₹426',\n",
       " '₹719',\n",
       " '₹201',\n",
       " '₹144',\n",
       " '₹426',\n",
       " '₹209',\n",
       " '₹192',\n",
       " '₹349',\n",
       " '₹459',\n",
       " '₹575',\n",
       " '₹375',\n",
       " '₹291',\n",
       " '₹426',\n",
       " '₹207',\n",
       " '₹348',\n",
       " '₹227',\n",
       " '₹472',\n",
       " '₹498',\n",
       " '₹163',\n",
       " '₹224',\n",
       " '₹246',\n",
       " '₹287',\n",
       " '₹449',\n",
       " '₹256',\n",
       " '₹1,066']"
      ]
     },
     "execution_count": 564,
     "metadata": {},
     "output_type": "execute_result"
    }
   ],
   "source": [
    "price2 = []\n",
    "\n",
    "for i in pr2:\n",
    "    price2.append(i.text)\n",
    "price2"
   ]
  },
  {
   "cell_type": "code",
   "execution_count": 565,
   "id": "6a930e47",
   "metadata": {},
   "outputs": [
    {
     "data": {
      "text/plain": [
       "40"
      ]
     },
     "execution_count": 565,
     "metadata": {},
     "output_type": "execute_result"
    }
   ],
   "source": [
    "disct2 = driver.find_elements_by_xpath('//div[@class=\"_3Ay6Sb\"]')\n",
    "len(disct2)"
   ]
  },
  {
   "cell_type": "code",
   "execution_count": 566,
   "id": "82f428e9",
   "metadata": {},
   "outputs": [
    {
     "data": {
      "text/plain": [
       "['80% off',\n",
       " '66% off',\n",
       " '81% off',\n",
       " '26% off',\n",
       " '80% off',\n",
       " '33% off',\n",
       " '79% off',\n",
       " '41% off',\n",
       " '76% off',\n",
       " '80% off',\n",
       " '86% off',\n",
       " '84% off',\n",
       " '31% off',\n",
       " '76% off',\n",
       " '87% off',\n",
       " '80% off',\n",
       " '20% off',\n",
       " '86% off',\n",
       " '79% off',\n",
       " '88% off',\n",
       " '79% off',\n",
       " '82% off',\n",
       " '82% off',\n",
       " '69% off',\n",
       " '28% off',\n",
       " '71% off',\n",
       " '85% off',\n",
       " '78% off',\n",
       " '79% off',\n",
       " '84% off',\n",
       " '82% off',\n",
       " '69% off',\n",
       " '75% off',\n",
       " '67% off',\n",
       " '77% off',\n",
       " '79% off',\n",
       " '85% off',\n",
       " '70% off',\n",
       " '87% off',\n",
       " '74% off']"
      ]
     },
     "execution_count": 566,
     "metadata": {},
     "output_type": "execute_result"
    }
   ],
   "source": [
    "discount2 = []\n",
    "for i in disct2:\n",
    "    discount2.append(i.text)\n",
    "discount2"
   ]
  },
  {
   "cell_type": "code",
   "execution_count": 567,
   "id": "2a087280",
   "metadata": {},
   "outputs": [
    {
     "data": {
      "text/plain": [
       "<selenium.webdriver.remote.webelement.WebElement (session=\"77b5baa1b3cc1dcd8f1e9b25258272cb\", element=\"8c66c6c8-04f4-454e-927c-1362cf8d1fd6\")>"
      ]
     },
     "execution_count": 567,
     "metadata": {},
     "output_type": "execute_result"
    }
   ],
   "source": [
    "next_btn = driver.find_element_by_xpath('/html/body/div[1]/div/div[3]/div[1]/div[2]/div[12]/div/div/nav/a[12]/span')\n",
    "next_btn"
   ]
  },
  {
   "cell_type": "code",
   "execution_count": 568,
   "id": "1d6f18f4",
   "metadata": {},
   "outputs": [],
   "source": [
    "next_btn.click()"
   ]
  },
  {
   "cell_type": "code",
   "execution_count": 569,
   "id": "43147da2",
   "metadata": {},
   "outputs": [
    {
     "data": {
      "text/plain": [
       "40"
      ]
     },
     "execution_count": 569,
     "metadata": {},
     "output_type": "execute_result"
    }
   ],
   "source": [
    "pgbr3 = driver.find_elements_by_xpath('//div[@class=\"_2WkVRV\"]')\n",
    "len(pgbr3)"
   ]
  },
  {
   "cell_type": "code",
   "execution_count": 570,
   "id": "fe1edba0",
   "metadata": {},
   "outputs": [
    {
     "data": {
      "text/plain": [
       "['PHENOMENAL',\n",
       " 'Billion',\n",
       " 'PIRASO',\n",
       " 'ROZZETTA CRAFT',\n",
       " 'Rich Club',\n",
       " 'PIRASO',\n",
       " 'ROYAL SON',\n",
       " 'AISLIN',\n",
       " 'GANSTA',\n",
       " 'kingsunglasses',\n",
       " 'Elligator',\n",
       " 'Flizz',\n",
       " 'ROZZETTA CRAFT',\n",
       " 'Fastrack',\n",
       " 'hipe',\n",
       " 'Freddy',\n",
       " 'ROYAL SON',\n",
       " 'Urbanic',\n",
       " 'ROYAL SON',\n",
       " 'VINCENT CHASE']"
      ]
     },
     "execution_count": 570,
     "metadata": {},
     "output_type": "execute_result"
    }
   ],
   "source": [
    "B3 = []\n",
    "for i in pgbr3:\n",
    "    B3.append(i.text)\n",
    "B3 = B3[0:20]\n",
    "B3"
   ]
  },
  {
   "cell_type": "code",
   "execution_count": 571,
   "id": "0740aa0e",
   "metadata": {},
   "outputs": [
    {
     "data": {
      "text/plain": [
       "39"
      ]
     },
     "execution_count": 571,
     "metadata": {},
     "output_type": "execute_result"
    }
   ],
   "source": [
    "prd3 = driver.find_elements_by_xpath('//a[@class=\"IRpwTa\"]')\n",
    "len(prd3)"
   ]
  },
  {
   "cell_type": "code",
   "execution_count": 572,
   "id": "385e6dc4",
   "metadata": {},
   "outputs": [
    {
     "data": {
      "text/plain": [
       "['UV Protection, Mirrored Clubmaster Sunglasses (Free Siz...',\n",
       " 'UV Protection Aviator Sunglasses (57)',\n",
       " 'UV Protection Aviator Sunglasses (54)',\n",
       " 'Polarized, Night Vision, Riding Glasses Sports, Wrap-ar...',\n",
       " 'UV Protection Round Sunglasses (48)',\n",
       " 'UV Protection Aviator Sunglasses (Free Size)',\n",
       " 'UV Protection Retro Square Sunglasses (58)',\n",
       " 'UV Protection, Gradient Round Sunglasses (58)',\n",
       " 'UV Protection, Riding Glasses Wayfarer Sunglasses (53)',\n",
       " 'Mirrored, UV Protection Wayfarer Sunglasses (Free Size)',\n",
       " 'UV Protection Round Sunglasses (55)',\n",
       " 'UV Protection Retro Square Sunglasses (Free Size)',\n",
       " 'UV Protection Round Sunglasses (Free Size)',\n",
       " 'UV Protection Aviator Sunglasses (Free Size)',\n",
       " 'UV Protection, Gradient, Mirrored, Riding Glasses, Nigh...',\n",
       " 'Mirrored Aviator Sunglasses (55)',\n",
       " 'Others Retro Square Sunglasses (Free Size)',\n",
       " 'Mirrored Aviator Sunglasses (Free Size)',\n",
       " 'by Lenskart Polarized, UV Protection Aviator Sunglasses...',\n",
       " 'UV Protection, Gradient Butterfly Sunglasses (57)']"
      ]
     },
     "execution_count": 572,
     "metadata": {},
     "output_type": "execute_result"
    }
   ],
   "source": [
    "prdct3 = []\n",
    "for i in prd3:\n",
    "    prdct3.append(i.text)\n",
    "prdct3 = prdct3[0:20]\n",
    "prdct3"
   ]
  },
  {
   "cell_type": "code",
   "execution_count": 573,
   "id": "0d329c75",
   "metadata": {},
   "outputs": [
    {
     "data": {
      "text/plain": [
       "40"
      ]
     },
     "execution_count": 573,
     "metadata": {},
     "output_type": "execute_result"
    }
   ],
   "source": [
    "pr3 = driver.find_elements_by_xpath('//div[@class=\"_30jeq3\"]')\n",
    "len(pr3)"
   ]
  },
  {
   "cell_type": "code",
   "execution_count": 574,
   "id": "937679b6",
   "metadata": {},
   "outputs": [
    {
     "data": {
      "text/plain": [
       "['₹287',\n",
       " '₹224',\n",
       " '₹200',\n",
       " '₹499',\n",
       " '₹220',\n",
       " '₹261',\n",
       " '₹449',\n",
       " '₹498',\n",
       " '₹209',\n",
       " '₹256',\n",
       " '₹239',\n",
       " '₹354',\n",
       " '₹426',\n",
       " '₹639',\n",
       " '₹189',\n",
       " '₹253',\n",
       " '₹359',\n",
       " '₹359',\n",
       " '₹359',\n",
       " '₹1,179']"
      ]
     },
     "execution_count": 574,
     "metadata": {},
     "output_type": "execute_result"
    }
   ],
   "source": [
    "price3 = []\n",
    "\n",
    "for i in pr3:\n",
    "    price3.append(i.text)\n",
    "price3 = price3[0:20]\n",
    "price3"
   ]
  },
  {
   "cell_type": "code",
   "execution_count": 575,
   "id": "d217fd1d",
   "metadata": {},
   "outputs": [
    {
     "data": {
      "text/plain": [
       "40"
      ]
     },
     "execution_count": 575,
     "metadata": {},
     "output_type": "execute_result"
    }
   ],
   "source": [
    "disct3 = driver.find_elements_by_xpath('//div[@class=\"_3Ay6Sb\"]')\n",
    "len(disct3)"
   ]
  },
  {
   "cell_type": "code",
   "execution_count": 576,
   "id": "f47f248d",
   "metadata": {},
   "outputs": [
    {
     "data": {
      "text/plain": [
       "['85% off',\n",
       " '77% off',\n",
       " '87% off',\n",
       " '75% off',\n",
       " '72% off',\n",
       " '83% off',\n",
       " '70% off',\n",
       " '67% off',\n",
       " '88% off',\n",
       " '87% off',\n",
       " '88% off',\n",
       " '83% off',\n",
       " '84% off',\n",
       " '20% off',\n",
       " '85% off',\n",
       " '80% off',\n",
       " '76% off',\n",
       " '54% off',\n",
       " '76% off',\n",
       " '41% off']"
      ]
     },
     "execution_count": 576,
     "metadata": {},
     "output_type": "execute_result"
    }
   ],
   "source": [
    "discount3 = []\n",
    "for i in disct3:\n",
    "    discount3.append(i.text)\n",
    "discount3 = discount3[0:20]\n",
    "discount3"
   ]
  },
  {
   "cell_type": "code",
   "execution_count": 577,
   "id": "fb54b7fa",
   "metadata": {},
   "outputs": [
    {
     "data": {
      "text/plain": [
       "100"
      ]
     },
     "execution_count": 577,
     "metadata": {},
     "output_type": "execute_result"
    }
   ],
   "source": [
    "brand = B1+B2+B3\n",
    "len(brand)"
   ]
  },
  {
   "cell_type": "code",
   "execution_count": 578,
   "id": "c7df7ba0",
   "metadata": {},
   "outputs": [
    {
     "data": {
      "text/plain": [
       "100"
      ]
     },
     "execution_count": 578,
     "metadata": {},
     "output_type": "execute_result"
    }
   ],
   "source": [
    "product = prdct1+prdct2+prdct3\n",
    "len(product)"
   ]
  },
  {
   "cell_type": "code",
   "execution_count": 579,
   "id": "f861fedb",
   "metadata": {},
   "outputs": [
    {
     "data": {
      "text/plain": [
       "100"
      ]
     },
     "execution_count": 579,
     "metadata": {},
     "output_type": "execute_result"
    }
   ],
   "source": [
    "price = price1+price2+price3\n",
    "len(price)"
   ]
  },
  {
   "cell_type": "code",
   "execution_count": 580,
   "id": "1e54c989",
   "metadata": {},
   "outputs": [
    {
     "data": {
      "text/plain": [
       "100"
      ]
     },
     "execution_count": 580,
     "metadata": {},
     "output_type": "execute_result"
    }
   ],
   "source": [
    "discount = discount1+discount2+discount3\n",
    "len(discount)"
   ]
  },
  {
   "cell_type": "code",
   "execution_count": 581,
   "id": "638cb7a3",
   "metadata": {},
   "outputs": [
    {
     "data": {
      "text/html": [
       "<div>\n",
       "<style scoped>\n",
       "    .dataframe tbody tr th:only-of-type {\n",
       "        vertical-align: middle;\n",
       "    }\n",
       "\n",
       "    .dataframe tbody tr th {\n",
       "        vertical-align: top;\n",
       "    }\n",
       "\n",
       "    .dataframe thead th {\n",
       "        text-align: right;\n",
       "    }\n",
       "</style>\n",
       "<table border=\"1\" class=\"dataframe\">\n",
       "  <thead>\n",
       "    <tr style=\"text-align: right;\">\n",
       "      <th></th>\n",
       "      <th>Brand</th>\n",
       "      <th>Product description</th>\n",
       "      <th>Price</th>\n",
       "      <th>Discount</th>\n",
       "    </tr>\n",
       "  </thead>\n",
       "  <tbody>\n",
       "    <tr>\n",
       "      <th>0</th>\n",
       "      <td>Kanishka</td>\n",
       "      <td>UV Protection Aviator Sunglasses (55)</td>\n",
       "      <td>₹145</td>\n",
       "      <td>87% off</td>\n",
       "    </tr>\n",
       "    <tr>\n",
       "      <th>1</th>\n",
       "      <td>VINCENT CHASE</td>\n",
       "      <td>by Lenskart Polarized, UV Protection Round Sun...</td>\n",
       "      <td>₹1,179</td>\n",
       "      <td>41% off</td>\n",
       "    </tr>\n",
       "    <tr>\n",
       "      <th>2</th>\n",
       "      <td>PIRASO</td>\n",
       "      <td>UV Protection Aviator Sunglasses (54)</td>\n",
       "      <td>₹200</td>\n",
       "      <td>87% off</td>\n",
       "    </tr>\n",
       "    <tr>\n",
       "      <th>3</th>\n",
       "      <td>Fastrack</td>\n",
       "      <td>UV Protection Wayfarer Sunglasses (Free Size)</td>\n",
       "      <td>₹609</td>\n",
       "      <td>32% off</td>\n",
       "    </tr>\n",
       "    <tr>\n",
       "      <th>4</th>\n",
       "      <td>Elligator</td>\n",
       "      <td>UV Protection Round Sunglasses (54)</td>\n",
       "      <td>₹248</td>\n",
       "      <td>90% off</td>\n",
       "    </tr>\n",
       "    <tr>\n",
       "      <th>...</th>\n",
       "      <td>...</td>\n",
       "      <td>...</td>\n",
       "      <td>...</td>\n",
       "      <td>...</td>\n",
       "    </tr>\n",
       "    <tr>\n",
       "      <th>95</th>\n",
       "      <td>Freddy</td>\n",
       "      <td>Mirrored Aviator Sunglasses (55)</td>\n",
       "      <td>₹253</td>\n",
       "      <td>80% off</td>\n",
       "    </tr>\n",
       "    <tr>\n",
       "      <th>96</th>\n",
       "      <td>ROYAL SON</td>\n",
       "      <td>Others Retro Square Sunglasses (Free Size)</td>\n",
       "      <td>₹359</td>\n",
       "      <td>76% off</td>\n",
       "    </tr>\n",
       "    <tr>\n",
       "      <th>97</th>\n",
       "      <td>Urbanic</td>\n",
       "      <td>Mirrored Aviator Sunglasses (Free Size)</td>\n",
       "      <td>₹359</td>\n",
       "      <td>54% off</td>\n",
       "    </tr>\n",
       "    <tr>\n",
       "      <th>98</th>\n",
       "      <td>ROYAL SON</td>\n",
       "      <td>by Lenskart Polarized, UV Protection Aviator S...</td>\n",
       "      <td>₹359</td>\n",
       "      <td>76% off</td>\n",
       "    </tr>\n",
       "    <tr>\n",
       "      <th>99</th>\n",
       "      <td>VINCENT CHASE</td>\n",
       "      <td>UV Protection, Gradient Butterfly Sunglasses (57)</td>\n",
       "      <td>₹1,179</td>\n",
       "      <td>41% off</td>\n",
       "    </tr>\n",
       "  </tbody>\n",
       "</table>\n",
       "<p>100 rows × 4 columns</p>\n",
       "</div>"
      ],
      "text/plain": [
       "            Brand                                Product description   Price  \\\n",
       "0        Kanishka              UV Protection Aviator Sunglasses (55)    ₹145   \n",
       "1   VINCENT CHASE  by Lenskart Polarized, UV Protection Round Sun...  ₹1,179   \n",
       "2          PIRASO              UV Protection Aviator Sunglasses (54)    ₹200   \n",
       "3        Fastrack      UV Protection Wayfarer Sunglasses (Free Size)    ₹609   \n",
       "4       Elligator                UV Protection Round Sunglasses (54)    ₹248   \n",
       "..            ...                                                ...     ...   \n",
       "95         Freddy                   Mirrored Aviator Sunglasses (55)    ₹253   \n",
       "96      ROYAL SON         Others Retro Square Sunglasses (Free Size)    ₹359   \n",
       "97        Urbanic            Mirrored Aviator Sunglasses (Free Size)    ₹359   \n",
       "98      ROYAL SON  by Lenskart Polarized, UV Protection Aviator S...    ₹359   \n",
       "99  VINCENT CHASE  UV Protection, Gradient Butterfly Sunglasses (57)  ₹1,179   \n",
       "\n",
       "   Discount  \n",
       "0   87% off  \n",
       "1   41% off  \n",
       "2   87% off  \n",
       "3   32% off  \n",
       "4   90% off  \n",
       "..      ...  \n",
       "95  80% off  \n",
       "96  76% off  \n",
       "97  54% off  \n",
       "98  76% off  \n",
       "99  41% off  \n",
       "\n",
       "[100 rows x 4 columns]"
      ]
     },
     "execution_count": 581,
     "metadata": {},
     "output_type": "execute_result"
    }
   ],
   "source": [
    "sunglass = pd.DataFrame()\n",
    "sunglass['Brand'] = brand\n",
    "sunglass['Product description'] = product\n",
    "sunglass['Price'] = price\n",
    "sunglass['Discount'] = discount\n",
    "sunglass"
   ]
  },
  {
   "cell_type": "markdown",
   "id": "cd1adde7",
   "metadata": {},
   "source": [
    "Scrape 100 reviews data from flipkart.com for iphone11 phone. You have to go the link"
   ]
  },
  {
   "cell_type": "code",
   "execution_count": 582,
   "id": "10184853",
   "metadata": {},
   "outputs": [],
   "source": [
    "driver = webdriver.Chrome(r'C:\\Users\\praja\\Downloads\\chromedriver_win32\\chromedriver.exe')"
   ]
  },
  {
   "cell_type": "code",
   "execution_count": 583,
   "id": "19b5cc94",
   "metadata": {},
   "outputs": [],
   "source": [
    "url = 'https://www.flipkart.com/apple-iphone-11-black-64-gb-includes-%20earpods-power%02adapter/p/itm0f37c2240b217?pid=MOBFKCTSVZAXUHGR&lid=LSTMOBFKC%20TSVZAXUHGREPBFGI&marketplace.'\n",
    "driver.get(url)"
   ]
  },
  {
   "cell_type": "code",
   "execution_count": 586,
   "id": "f934e193",
   "metadata": {},
   "outputs": [
    {
     "data": {
      "text/plain": [
       "<selenium.webdriver.remote.webelement.WebElement (session=\"4b751ab673e3d2e4a0fb958cc407b438\", element=\"b58d0063-3a2d-4263-8b1c-902464853a15\")>"
      ]
     },
     "execution_count": 586,
     "metadata": {},
     "output_type": "execute_result"
    }
   ],
   "source": [
    "result = driver.find_element_by_xpath('/html/body/div[1]/div/div[3]/div[1]/div[2]/div[8]/div/div/div[5]/div/a/div/span')\n",
    "result"
   ]
  },
  {
   "cell_type": "code",
   "execution_count": 587,
   "id": "86e0050d",
   "metadata": {},
   "outputs": [],
   "source": [
    "result.click()"
   ]
  },
  {
   "cell_type": "code",
   "execution_count": 588,
   "id": "5092e9bf",
   "metadata": {},
   "outputs": [
    {
     "data": {
      "text/plain": [
       "10"
      ]
     },
     "execution_count": 588,
     "metadata": {},
     "output_type": "execute_result"
    }
   ],
   "source": [
    "rt1 = driver.find_elements_by_xpath('//div[@class=\"_3LWZlK _1BLPMq\"]')\n",
    "len(rt1)"
   ]
  },
  {
   "cell_type": "code",
   "execution_count": 589,
   "id": "a5867647",
   "metadata": {},
   "outputs": [
    {
     "data": {
      "text/plain": [
       "['5', '5', '5', '5', '5', '5', '5', '4', '5', '5']"
      ]
     },
     "execution_count": 589,
     "metadata": {},
     "output_type": "execute_result"
    }
   ],
   "source": [
    "rate1 = []\n",
    "\n",
    "for i in rt1:\n",
    "    rate1.append(i.text)\n",
    "rate1"
   ]
  },
  {
   "cell_type": "code",
   "execution_count": 590,
   "id": "8d842a07",
   "metadata": {},
   "outputs": [
    {
     "data": {
      "text/plain": [
       "10"
      ]
     },
     "execution_count": 590,
     "metadata": {},
     "output_type": "execute_result"
    }
   ],
   "source": [
    " sum1 = driver.find_elements_by_xpath('//p[@class=\"_2-N8zT\"]')\n",
    " len(sum1)"
   ]
  },
  {
   "cell_type": "code",
   "execution_count": 591,
   "id": "402de4ce",
   "metadata": {},
   "outputs": [
    {
     "data": {
      "text/plain": [
       "['Brilliant',\n",
       " 'Simply awesome',\n",
       " 'Perfect product!',\n",
       " 'Best in the market!',\n",
       " 'Worth every penny',\n",
       " 'Fabulous!',\n",
       " 'Great product',\n",
       " 'Good choice',\n",
       " 'Highly recommended',\n",
       " 'Worth every penny']"
      ]
     },
     "execution_count": 591,
     "metadata": {},
     "output_type": "execute_result"
    }
   ],
   "source": [
    "summary1 = []\n",
    "for i in sum1:\n",
    "    summary1.append(i.text)\n",
    "summary1"
   ]
  },
  {
   "cell_type": "code",
   "execution_count": 592,
   "id": "3ccdfb20",
   "metadata": {},
   "outputs": [
    {
     "data": {
      "text/plain": [
       "10"
      ]
     },
     "execution_count": 592,
     "metadata": {},
     "output_type": "execute_result"
    }
   ],
   "source": [
    "rev1 = driver.find_elements_by_xpath('//div[@class=\"t-ZTKy\"]')\n",
    "len(rev1)"
   ]
  },
  {
   "cell_type": "code",
   "execution_count": 593,
   "id": "a58c4147",
   "metadata": {},
   "outputs": [
    {
     "data": {
      "text/plain": [
       "['The Best Phone for the Money,,The iPhone 11 offers superb cameras, a more durable design and excellent battery life for an affordable price.,,Compelling ultra-wide camera,New Night mode is excellent,Long battery life',\n",
       " 'Really satisfied with the Product I received... It’s totally genuine and the packaging was also really good so if ur planning to buy just go for it.',\n",
       " 'Amazing phone with great cameras and better battery which gives you the best performance. I just love the camera .',\n",
       " 'Great iPhone very snappy experience as apple kind. Upgraded from iPhone 7.,Pros,-Camera top class,- Battery top performed,-Chipset no need to say as apple kind,-Security as you expect from apple,- Display super bright industry leading colour,accuracy and super responsive,-Build quality as expect from apple sturdy,premium durable beautiful stylish.,-Os most stable os in smartphone industry,,Cons,-No 5G,-Display is not based on OLED technology,-Charger headphones and 1 apple stic...,READ MORE',\n",
       " 'Previously I was using one plus 3t it was a great phone,And then I decided to upgrade I am stuck between Samsung s10 plus or iPhone 11,I have seen the specs and everything were good except the display it’s somewhere between 720-1080 and it’s not even an amoled it’s an LCD display,But I decided to go with iPhone because I have never used an IOS device I have Been an android user from the past 9 years I ordered IPhone 11 (128gb) product red,My experience after using 3 weeks,1. The delivery ...,READ MORE',\n",
       " 'This is my first iOS phone. I am very happy with this product. Very much satisfied with this. I love this phone.',\n",
       " 'Amazing Powerful and Durable Gadget.,,I’m am very happy with the camera picture quality, Amazing face id unlocked in dark room, Strong battery with perfect screen size as you can carry easily in pocket. This is my third iPhone.,,I shifted from android Samsung Note series to iPhone because of the strong build quality and peace of mind for next 3-4 years.,,Don’t think to much just go for it and I suggest you to go for minimum 128gb variant or more 256gb.,,I’ve attached my puppy pics and no fi...,READ MORE',\n",
       " 'So far it’s been an AMAZING experience coming back to iOS after nearly a decade but it’s not as versatile as android though phone is sturdy dropped it accidentally a couple of times and nothing happened fortunately camera is awesome',\n",
       " 'What a camera .....just awesome ..you can feel this iPhone just awesome . Good for gaming also ...try pubg in hd it’s just wow',\n",
       " 'i11 is worthy to buy, too much happy with the product. Thank u flipkart I received the item on time..loved it..']"
      ]
     },
     "execution_count": 593,
     "metadata": {},
     "output_type": "execute_result"
    }
   ],
   "source": [
    "review1 = []\n",
    "for i in rev1:\n",
    "    review1.append(i.text.replace('\\n',','))\n",
    "review1 "
   ]
  },
  {
   "cell_type": "code",
   "execution_count": 594,
   "id": "a4d04c3f",
   "metadata": {},
   "outputs": [
    {
     "data": {
      "text/plain": [
       "<selenium.webdriver.remote.webelement.WebElement (session=\"4b751ab673e3d2e4a0fb958cc407b438\", element=\"7eb467e3-1ed5-4e8d-b345-e149db6efcf1\")>"
      ]
     },
     "execution_count": 594,
     "metadata": {},
     "output_type": "execute_result"
    }
   ],
   "source": [
    "next_btn = driver.find_element_by_xpath('/html/body/div[1]/div/div[3]/div/div/div[2]/div[13]/div/div/nav/a[11]')\n",
    "next_btn"
   ]
  },
  {
   "cell_type": "code",
   "execution_count": 595,
   "id": "47927dbe",
   "metadata": {},
   "outputs": [],
   "source": [
    "next_btn.click()"
   ]
  },
  {
   "cell_type": "code",
   "execution_count": 596,
   "id": "9954398a",
   "metadata": {},
   "outputs": [
    {
     "data": {
      "text/plain": [
       "10"
      ]
     },
     "execution_count": 596,
     "metadata": {},
     "output_type": "execute_result"
    }
   ],
   "source": [
    "rt2 = driver.find_elements_by_xpath('//div[@class=\"_3LWZlK _1BLPMq\"]')\n",
    "len(rt2)"
   ]
  },
  {
   "cell_type": "code",
   "execution_count": 597,
   "id": "5197a2ad",
   "metadata": {},
   "outputs": [
    {
     "data": {
      "text/plain": [
       "['5', '5', '5', '5', '5', '5', '5', '4', '5', '5']"
      ]
     },
     "execution_count": 597,
     "metadata": {},
     "output_type": "execute_result"
    }
   ],
   "source": [
    "rate2 = []\n",
    "for i in rt2:\n",
    "    rate2.append(i.text)\n",
    "rate2"
   ]
  },
  {
   "cell_type": "code",
   "execution_count": 598,
   "id": "3bc8dfb8",
   "metadata": {},
   "outputs": [
    {
     "data": {
      "text/plain": [
       "10"
      ]
     },
     "execution_count": 598,
     "metadata": {},
     "output_type": "execute_result"
    }
   ],
   "source": [
    "sum2 = driver.find_elements_by_xpath('//p[@class=\"_2-N8zT\"]')\n",
    "len(sum2)"
   ]
  },
  {
   "cell_type": "code",
   "execution_count": 599,
   "id": "02cb1c5a",
   "metadata": {},
   "outputs": [
    {
     "data": {
      "text/plain": [
       "['Brilliant',\n",
       " 'Simply awesome',\n",
       " 'Perfect product!',\n",
       " 'Best in the market!',\n",
       " 'Worth every penny',\n",
       " 'Fabulous!',\n",
       " 'Great product',\n",
       " 'Good choice',\n",
       " 'Highly recommended',\n",
       " 'Worth every penny']"
      ]
     },
     "execution_count": 599,
     "metadata": {},
     "output_type": "execute_result"
    }
   ],
   "source": [
    "summary2 = []\n",
    "for i in sum2:\n",
    "    summary2.append(i.text)\n",
    "summary2"
   ]
  },
  {
   "cell_type": "code",
   "execution_count": 600,
   "id": "089be002",
   "metadata": {},
   "outputs": [
    {
     "data": {
      "text/plain": [
       "10"
      ]
     },
     "execution_count": 600,
     "metadata": {},
     "output_type": "execute_result"
    }
   ],
   "source": [
    "rev2 = driver.find_elements_by_xpath('//div[@class=\"t-ZTKy\"]')\n",
    "len(rev2)"
   ]
  },
  {
   "cell_type": "code",
   "execution_count": 601,
   "id": "a3ad767c",
   "metadata": {},
   "outputs": [
    {
     "data": {
      "text/plain": [
       "['The Best Phone for the Money,,The iPhone 11 offers superb cameras, a more durable design and excellent battery life for an affordable price.,,Compelling ultra-wide camera,New Night mode is excellent,Long battery life',\n",
       " 'Really satisfied with the Product I received... It’s totally genuine and the packaging was also really good so if ur planning to buy just go for it.',\n",
       " 'Amazing phone with great cameras and better battery which gives you the best performance. I just love the camera .',\n",
       " 'Great iPhone very snappy experience as apple kind. Upgraded from iPhone 7.,Pros,-Camera top class,- Battery top performed,-Chipset no need to say as apple kind,-Security as you expect from apple,- Display super bright industry leading colour,accuracy and super responsive,-Build quality as expect from apple sturdy,premium durable beautiful stylish.,-Os most stable os in smartphone industry,,Cons,-No 5G,-Display is not based on OLED technology,-Charger headphones and 1 apple stic...,READ MORE',\n",
       " 'Previously I was using one plus 3t it was a great phone,And then I decided to upgrade I am stuck between Samsung s10 plus or iPhone 11,I have seen the specs and everything were good except the display it’s somewhere between 720-1080 and it’s not even an amoled it’s an LCD display,But I decided to go with iPhone because I have never used an IOS device I have Been an android user from the past 9 years I ordered IPhone 11 (128gb) product red,My experience after using 3 weeks,1. The delivery ...,READ MORE',\n",
       " 'This is my first iOS phone. I am very happy with this product. Very much satisfied with this. I love this phone.',\n",
       " 'Amazing Powerful and Durable Gadget.,,I’m am very happy with the camera picture quality, Amazing face id unlocked in dark room, Strong battery with perfect screen size as you can carry easily in pocket. This is my third iPhone.,,I shifted from android Samsung Note series to iPhone because of the strong build quality and peace of mind for next 3-4 years.,,Don’t think to much just go for it and I suggest you to go for minimum 128gb variant or more 256gb.,,I’ve attached my puppy pics and no fi...,READ MORE',\n",
       " 'So far it’s been an AMAZING experience coming back to iOS after nearly a decade but it’s not as versatile as android though phone is sturdy dropped it accidentally a couple of times and nothing happened fortunately camera is awesome',\n",
       " 'What a camera .....just awesome ..you can feel this iPhone just awesome . Good for gaming also ...try pubg in hd it’s just wow',\n",
       " 'i11 is worthy to buy, too much happy with the product. Thank u flipkart I received the item on time..loved it..']"
      ]
     },
     "execution_count": 601,
     "metadata": {},
     "output_type": "execute_result"
    }
   ],
   "source": [
    "review2 = []\n",
    "for i in rev2:\n",
    "    review2.append(i.text.replace('\\n',','))\n",
    "review2"
   ]
  },
  {
   "cell_type": "code",
   "execution_count": 604,
   "id": "e38898de",
   "metadata": {},
   "outputs": [
    {
     "data": {
      "text/plain": [
       "<selenium.webdriver.remote.webelement.WebElement (session=\"4b751ab673e3d2e4a0fb958cc407b438\", element=\"d7a41dc1-ff8a-4497-885f-733dcbf9f673\")>"
      ]
     },
     "execution_count": 604,
     "metadata": {},
     "output_type": "execute_result"
    }
   ],
   "source": [
    "next_btn = driver.find_element_by_xpath('/html/body/div[1]/div/div[3]/div/div/div[2]/div[13]/div/div/nav/a[12]/span')\n",
    "next_btn"
   ]
  },
  {
   "cell_type": "code",
   "execution_count": 605,
   "id": "06767a3d",
   "metadata": {},
   "outputs": [],
   "source": [
    "next_btn.click()"
   ]
  },
  {
   "cell_type": "code",
   "execution_count": 606,
   "id": "8c8d04c7",
   "metadata": {},
   "outputs": [
    {
     "data": {
      "text/plain": [
       "10"
      ]
     },
     "execution_count": 606,
     "metadata": {},
     "output_type": "execute_result"
    }
   ],
   "source": [
    "rt3 = driver.find_elements_by_xpath('//div[@class=\"_3LWZlK _1BLPMq\"]')\n",
    "len(rt3)"
   ]
  },
  {
   "cell_type": "code",
   "execution_count": 607,
   "id": "2d174e3c",
   "metadata": {},
   "outputs": [
    {
     "data": {
      "text/plain": [
       "['5', '5', '4', '5', '5', '5', '4', '5', '5', '5']"
      ]
     },
     "execution_count": 607,
     "metadata": {},
     "output_type": "execute_result"
    }
   ],
   "source": [
    "rate3 = []\n",
    "for i in rt3:\n",
    "    rate3.append(i.text)\n",
    "rate3"
   ]
  },
  {
   "cell_type": "code",
   "execution_count": 608,
   "id": "83b16b2b",
   "metadata": {},
   "outputs": [
    {
     "data": {
      "text/plain": [
       "10"
      ]
     },
     "execution_count": 608,
     "metadata": {},
     "output_type": "execute_result"
    }
   ],
   "source": [
    "sum3 = driver.find_elements_by_xpath('//p[@class=\"_2-N8zT\"]') \n",
    "len(sum3)"
   ]
  },
  {
   "cell_type": "code",
   "execution_count": 609,
   "id": "3f9cd040",
   "metadata": {},
   "outputs": [
    {
     "data": {
      "text/plain": [
       "['Wonderful',\n",
       " 'Terrific',\n",
       " 'Nice product',\n",
       " 'Perfect product!',\n",
       " 'Classy product',\n",
       " 'Brilliant',\n",
       " 'Good choice',\n",
       " 'Must buy!',\n",
       " 'Perfect product!',\n",
       " 'Wonderful']"
      ]
     },
     "execution_count": 609,
     "metadata": {},
     "output_type": "execute_result"
    }
   ],
   "source": [
    "summary3 = []\n",
    "for i in sum3:\n",
    "    summary3.append(i.text)\n",
    "summary3"
   ]
  },
  {
   "cell_type": "code",
   "execution_count": 610,
   "id": "08ffb8d3",
   "metadata": {},
   "outputs": [
    {
     "data": {
      "text/plain": [
       "10"
      ]
     },
     "execution_count": 610,
     "metadata": {},
     "output_type": "execute_result"
    }
   ],
   "source": [
    "rev3 = driver.find_elements_by_xpath('//div[@class=\"t-ZTKy\"]')\n",
    "len(rev3)"
   ]
  },
  {
   "cell_type": "code",
   "execution_count": 611,
   "id": "fc8704cc",
   "metadata": {},
   "outputs": [
    {
     "data": {
      "text/plain": [
       "['This is my first ever I phone. Before this I was using my google nexus 5. But moving from android to iOS is a great experience. It’s worth at this price. I will highly recommend it if you want to move to iOS. The best part of this phone is it’s camera and it’s battery life. This two things have won my heart. I loved it. Happy to have it in my hand. Still exploring its features. And can’t forget to mention Flipkart service. Very prompt service and fast delivery.',\n",
       " 'Really worth of money. i just love it. It is the best phone ever.',\n",
       " 'Awesome Phone. Slightly high price but worth. Better than iPhone XR.,Camera is superb and wide angle camera is very clear.,12MP selfie camera is also very good.,A13 Chip gives a very good and smooth performance.',\n",
       " 'Battery backup is extraordinary, camera is decent & performance offered by A13 bionic is awsome. The display is good in practical usage like the visibility of display is very good in direct sun light compare to pro models. Iam extremely satisfied for the money I spent.',\n",
       " 'Superb Product !!!,A big and worthy upgrade from mi 3S to iphone 11 .,Totally loved it !',\n",
       " 'I have migrated from OP 7pro... and trust me, iPhone 11 is totally worth it.. following are the reasons:-,1)there is ABSOLUTELY NO ISSUE WITH THE DISPLAY... its crisp, sharp and I found it to be much much better than OP7 pro. Netflix, Prime video all run crisply... you won’t miss a thing. True Tone works flawlessly...the display brightness is perfect. OP have not calibrated their screens properly.,2) iPhone 11 series have really good cameras... others have spoken in depth about them.,3) bat...,READ MORE',\n",
       " 'Looking so good 👍 😍 super 👌 stylish 😎 phone,Clean box 📦 good 👍 delivery 👌 fast delivery,Original box Original iphone 📱 👌 😍😍😍',\n",
       " 'It’s an amazing product from apple and the camera is simply superb. Phone is faster.Night shot is simply superb and detailing and colour differentiation from camera is an added advantage,,This review I have written from iPhone 11 only and I am glad to say outside.,,Cons wise if we see HD+ display only, no battery percentage indicator as in older iPhone 8.,No assistive touch control button in it,No oleophobic coating on back panel glass and finger prints are visible but since I bought mint gr...,READ MORE',\n",
       " 'After 1 month use I found camera quality best compared to my previous Samsung note 10+.Display not good as note 10 also charging too slow.Apple should add fast charger like 11 plus and pro.Best phone for daily use',\n",
       " 'I just directly switch from iphone 6s to iphone 11 .The best premium smartphone I recommend to everyone. Excellent quality and colors the iphone have in 11 series.,Camera quality is just awesome and the major feel when we hold in our hands. The sound quality and volume is also higher then the previous models.,I will recommend to buy iphone 11 instead of pro models , there is nothing much difference as this model contains everything which fulfill our needs.,,Only one thing that I dislike abo...,READ MORE']"
      ]
     },
     "execution_count": 611,
     "metadata": {},
     "output_type": "execute_result"
    }
   ],
   "source": [
    "review3 = []\n",
    "for i in rev3:\n",
    "    review3.append(i.text.replace('\\n',','))\n",
    "review3"
   ]
  },
  {
   "cell_type": "code",
   "execution_count": 612,
   "id": "34232931",
   "metadata": {},
   "outputs": [
    {
     "data": {
      "text/plain": [
       "<selenium.webdriver.remote.webelement.WebElement (session=\"4b751ab673e3d2e4a0fb958cc407b438\", element=\"31114ead-ef84-4575-bcff-1de32c8efc2c\")>"
      ]
     },
     "execution_count": 612,
     "metadata": {},
     "output_type": "execute_result"
    }
   ],
   "source": [
    "next_btn = driver.find_element_by_xpath('/html/body/div[1]/div/div[3]/div/div/div[2]/div[13]/div/div/nav/a[12]/span')\n",
    "next_btn"
   ]
  },
  {
   "cell_type": "code",
   "execution_count": 613,
   "id": "1e4ee3f6",
   "metadata": {},
   "outputs": [],
   "source": [
    "next_btn.click()"
   ]
  },
  {
   "cell_type": "code",
   "execution_count": 614,
   "id": "676895d5",
   "metadata": {},
   "outputs": [
    {
     "data": {
      "text/plain": [
       "10"
      ]
     },
     "execution_count": 614,
     "metadata": {},
     "output_type": "execute_result"
    }
   ],
   "source": [
    "rt4 = driver.find_elements_by_xpath('//div[@class=\"_3LWZlK _1BLPMq\" or @class=\"_3LWZlK _1rdVr6 _1BLPMq\"]')\n",
    "len(rt4)"
   ]
  },
  {
   "cell_type": "code",
   "execution_count": 615,
   "id": "ecebba1e",
   "metadata": {},
   "outputs": [
    {
     "data": {
      "text/plain": [
       "['5', '5', '5', '5', '5', '5', '5', '4', '1', '5']"
      ]
     },
     "execution_count": 615,
     "metadata": {},
     "output_type": "execute_result"
    }
   ],
   "source": [
    "rate4 = []\n",
    "for i in rt4:\n",
    "    rate4.append(i.text)\n",
    "rate4"
   ]
  },
  {
   "cell_type": "code",
   "execution_count": 616,
   "id": "38fa60e5",
   "metadata": {},
   "outputs": [
    {
     "data": {
      "text/plain": [
       "10"
      ]
     },
     "execution_count": 616,
     "metadata": {},
     "output_type": "execute_result"
    }
   ],
   "source": [
    "sum4 = driver.find_elements_by_xpath('//p[@class=\"_2-N8zT\"]')\n",
    "len(sum4)"
   ]
  },
  {
   "cell_type": "code",
   "execution_count": 617,
   "id": "97754ca0",
   "metadata": {},
   "outputs": [
    {
     "data": {
      "text/plain": [
       "['Terrific purchase',\n",
       " 'Simply awesome',\n",
       " 'Great product',\n",
       " 'Terrific purchase',\n",
       " 'Mind-blowing purchase',\n",
       " 'Excellent',\n",
       " 'Simply awesome',\n",
       " 'Good quality product',\n",
       " 'Very poor',\n",
       " 'Classy product']"
      ]
     },
     "execution_count": 617,
     "metadata": {},
     "output_type": "execute_result"
    }
   ],
   "source": [
    "summary4 = []\n",
    "for i in sum4:\n",
    "    summary4.append(i.text)\n",
    "summary4"
   ]
  },
  {
   "cell_type": "code",
   "execution_count": 618,
   "id": "3597efc8",
   "metadata": {},
   "outputs": [
    {
     "data": {
      "text/plain": [
       "10"
      ]
     },
     "execution_count": 618,
     "metadata": {},
     "output_type": "execute_result"
    }
   ],
   "source": [
    "rev4 = driver.find_elements_by_xpath('//div[@class=\"t-ZTKy\"]')\n",
    "len(rev4)"
   ]
  },
  {
   "cell_type": "code",
   "execution_count": 619,
   "id": "3caee0b4",
   "metadata": {},
   "outputs": [
    {
     "data": {
      "text/plain": [
       "['Upgraded from iphone 6 to 11 best phone for iphone users battery is much better than other iphones camera is awesome love to use it.camera is so clear in night.',\n",
       " \"It's very high performances devise i am like the service of flipkart delevary very fast and packing very nice perfect phone\",\n",
       " 'Well you all know the specifications . One of a kind. Best iPhone till date. Many enhancements to the camera app with many options. Love the glass body with matte finish in the lens area on the back. Lovely colours to choose from. Best battery in an iPhone till date, enough to last more than a day in normal usage. I tested my iPhone 11 battery and lasted for than 24 hours after full charge still with 30% battery charge left. Watched movies for some time. Normal usage on calls, browsing, musi...,READ MORE',\n",
       " 'The built quality is not very premium.,The battery back is great .,The LCD panel is not so sharp but the brightness level is very High .,Camera is super duper awesome.,The red colour which people think is bright is actually very soothing and excellent colour to choose from .,The A13 Bionic chip is really a flagship processor and can beat any phone which even has 12 gb ram .,Camera module is very great and looks very stylish.',\n",
       " 'This will help you more. See if you are planning to buy iPhone 11. I will say. Yes. But there are some plans I just want to disclose before you buy. 1) If you are an existing iPhone X/XS/XS Max/ XR user, better you guys do not think it to buy. You guys have more or less better gadget. 2) If you are an android user and planning to buy premium phone. I will suggest them to please buy iPhone instead of buying an Android. I bet you will never go back to android after using IOS. Now I want to shar...,READ MORE',\n",
       " 'Amazing camera and feel super machine I am not describe my feeling but this is amazing Phone I am so lucky I have this',\n",
       " 'Really good actually this is my first apple product am using its really awesome performance wise excellent. Am really happy with this iphone11',\n",
       " 'it is very good at performance. Camera is best like before and very smooth response even in water. Don’t buy 12 mini buy iPhone 11 , it is far better than 12 mini believe me ! Have a nice day \\uf8ff ☺️',\n",
       " 'Reviewing again after 5 months. At the beginning the battery and performance was good but it degraded soon. Also I was facing heating issues. The mobile will heat up like a stove sometimes. You cannot even play Pubg even in low settings properly, performance is not a problem but heating is. Also if you play that game for 10 mins the brightness will be automatically down due to over heating even when the auto brightness is set to off. This will not be solved even if u manually increase the bri...,READ MORE',\n",
       " 'We are on apple ecosystem for almost eight years now with couple of iPads and iPhones, including Xr.,,Bought iPhone 11 as a gift to my daughter who loves it. We chose for a purple coloured one. Believe me it is gorgeous and towards the lighter shade. Dazzling and brilliant!,,The phone is great and does excellent RAM management like any other Apple device.,,The screen, though a LCD and lesser ppi as compared to other flagship phones of competitor brands, is a delight to watch with perfect re...,READ MORE']"
      ]
     },
     "execution_count": 619,
     "metadata": {},
     "output_type": "execute_result"
    }
   ],
   "source": [
    "review4 = []\n",
    "for i in rev4:\n",
    "    review4.append(i.text.replace('\\n',','))\n",
    "review4"
   ]
  },
  {
   "cell_type": "code",
   "execution_count": 620,
   "id": "bb8164d8",
   "metadata": {},
   "outputs": [
    {
     "data": {
      "text/plain": [
       "<selenium.webdriver.remote.webelement.WebElement (session=\"4b751ab673e3d2e4a0fb958cc407b438\", element=\"ec591335-1351-40ae-8908-3591ba346616\")>"
      ]
     },
     "execution_count": 620,
     "metadata": {},
     "output_type": "execute_result"
    }
   ],
   "source": [
    "next_btn = driver.find_element_by_xpath('/html/body/div[1]/div/div[3]/div/div/div[2]/div[13]/div/div/nav/a[12]/span')\n",
    "next_btn"
   ]
  },
  {
   "cell_type": "code",
   "execution_count": 621,
   "id": "83dfd73f",
   "metadata": {},
   "outputs": [],
   "source": [
    "next_btn.click()"
   ]
  },
  {
   "cell_type": "code",
   "execution_count": 707,
   "id": "a1ad1fcb",
   "metadata": {},
   "outputs": [
    {
     "data": {
      "text/plain": [
       "10"
      ]
     },
     "execution_count": 707,
     "metadata": {},
     "output_type": "execute_result"
    }
   ],
   "source": [
    "rt5 = driver.find_elements_by_xpath('//div[@class=\"_3LWZlK _1BLPMq\"]')\n",
    "len(rt5)"
   ]
  },
  {
   "cell_type": "code",
   "execution_count": 708,
   "id": "a4284d9e",
   "metadata": {},
   "outputs": [
    {
     "data": {
      "text/plain": [
       "['5', '5', '5', '5', '5', '5', '5', '5', '4', '5']"
      ]
     },
     "execution_count": 708,
     "metadata": {},
     "output_type": "execute_result"
    }
   ],
   "source": [
    "rate5 = []\n",
    "for i in rt5:\n",
    "    rate5.append(i.text)\n",
    "rate5"
   ]
  },
  {
   "cell_type": "code",
   "execution_count": 709,
   "id": "1207d9ad",
   "metadata": {},
   "outputs": [
    {
     "data": {
      "text/plain": [
       "10"
      ]
     },
     "execution_count": 709,
     "metadata": {},
     "output_type": "execute_result"
    }
   ],
   "source": [
    "sum5 = driver.find_elements_by_xpath('//p[@class=\"_2-N8zT\"]')\n",
    "len(sum5)"
   ]
  },
  {
   "cell_type": "code",
   "execution_count": 710,
   "id": "8f06dca3",
   "metadata": {},
   "outputs": [
    {
     "data": {
      "text/plain": [
       "['Perfect product!',\n",
       " 'Must buy!',\n",
       " 'Fabulous!',\n",
       " 'Mind-blowing purchase',\n",
       " 'Mind-blowing purchase',\n",
       " 'Wonderful',\n",
       " 'Must buy!',\n",
       " 'Great product',\n",
       " 'Very Good',\n",
       " 'Classy product']"
      ]
     },
     "execution_count": 710,
     "metadata": {},
     "output_type": "execute_result"
    }
   ],
   "source": [
    "summary5 = []\n",
    "for i in sum5:\n",
    "    summary5.append(i.text)\n",
    "summary5"
   ]
  },
  {
   "cell_type": "code",
   "execution_count": 711,
   "id": "ba807089",
   "metadata": {},
   "outputs": [
    {
     "data": {
      "text/plain": [
       "10"
      ]
     },
     "execution_count": 711,
     "metadata": {},
     "output_type": "execute_result"
    }
   ],
   "source": [
    "rev5 = driver.find_elements_by_xpath('//div[@class=\"t-ZTKy\"]')\n",
    "len(rev5)"
   ]
  },
  {
   "cell_type": "code",
   "execution_count": 712,
   "id": "7a19d40c",
   "metadata": {},
   "outputs": [
    {
     "data": {
      "text/plain": [
       "['It is just awesome mobile for this price from Apple,,,After 10 days review,,Battery enough for 1 day even 24*7 Internet will be on and mostly internet usage,,Camera is just awesome cool , android 64 MP is equal to this just 12 MP,,A13 Bionic chip will give more high performance without hanging,,Audio stereo speakers will give Dolby atoms sound with crystal clear,,Video recording is like cinematic shots of every sec can be a 4K 60fps. Just awesome this phone,iPhone 11 loved one',\n",
       " 'Best Apple iPhone that i have bought at a very reasonable price, camera quality is next level just awesome n of superior quality android phones not even close(RIP) to that and also battery is really good but packaging by Flipkart of iPhone was very poor of such a expensive product, firstly im bit worried about the quality of product if i purchased it through online how was the product but i think now this was mine best decision to bought it through Flipkart online because i got genuine Apple...,READ MORE',\n",
       " \"I can say I'm damn impressed with iPhone 11. As they says iPhone 11 have the toughest glass ever in the smartphone which you'll find on the front and back and it's totally smooth. The fit and finish is full apple quality - there's no sense that any cheaping out has happened in the construction. Without saying it's camera features this review won't complete. The iPhone 11 has a dual camera system, consisting of a wide angle len's that's pretty much same as found on the iPhone XR last year, but...,READ MORE\",\n",
       " 'Best Quality Product OF iPhone Series , Sound Quality & Camera quality is very awesome, Battery Life is very Sufficient for 24 hr Backup With Full Internet Access , I love this this Product too much , It is very fast & making me Very fast in all my daily Routine,Highlights;,1.Camera: 5 STAR,2.Video Recording: 5 star,3.Night mODE sHOOTING & Camera:4 star,4. Audio Quality: Awesome,5. Battery : 5 Star,6. Touch:5 Star,7. Processor: Very Fast,The M...,READ MORE',\n",
       " 'First thanks to Flipkart for this amazing deal and phone is outstanding. I upgraded from iPhone 7 and this is like very big upgrade. But the packaging was very basic I expected a good packaging as they only wrapped one layer of bubble wrap which I don’t think is enough to protect this expensive phone. And I recommend this phone and seller as well.,,And I’m posting this review after using it for 4 days.',\n",
       " 'Superfast delivery by Flipkart. Thanks.,,1. iPhone 11 is a pretty solid phone for the money you are paying.,2. All the bad reviews about the display is confusing. It’s not that bad.,3. I switched from a Oneplus 7t. I have no complaints about the display quality of iPhone. Yes, it’s not OLED, so, we are missing on the deep blacks. But that’s it. It is a very colour accurate display. Gets adequately bright and I could not find any pixelation.,4. Performance is one of the best, if not best, in ...,READ MORE',\n",
       " 'I rate this product 5* as it has got amazing user experience with the best performing A13 bionic processor. The screen responds and graphics rendering is top notch. With casual gaming and internet browsing, the battery lasts for approx. 1 day. Camera is very good. You will fall in love with the portrait mode. You can call me a loyal Apple customer or whatever but I won’t stop praising the products and overall experience. That user experience matters and is worth every penny you pay.,,Below ar...,READ MORE',\n",
       " \"Again back to apple iphone after a gap of 2-3 years. It's pleasure to use iOS and the quality product by Apple. Iphone 11 still works like a beast in 2021 also. It really capable of doing day to day usage as well as hard core gaming. Battery is awesome. I'm really too much satisfied with it. Apart fto the very gorgious IPS LCD (AMOLED will be better) everything is mind boggling. Iphone💕.\",\n",
       " 'impressive super phone and best in class camera ,sound and face unlock is super fast just see and phone is unlock and fast in daily apps use',\n",
       " 'Well while switching from android to iOS the first thing you need to be careful about is that you will loose all your whatsapp chat backups as both are different operating systems. Camera clarity is awesome and though being an lcd screen clarity and resolution is good. Battery backup is also good unlike previous gen iPhone. So far the experience is good will Padre after a few months of usage.,,P.S the black is more of a dark grey shade and not jet black']"
      ]
     },
     "execution_count": 712,
     "metadata": {},
     "output_type": "execute_result"
    }
   ],
   "source": [
    "review5 = []\n",
    "for i in rev5:\n",
    "    review5.append(i.text.replace('\\n',','))\n",
    "review5"
   ]
  },
  {
   "cell_type": "code",
   "execution_count": 628,
   "id": "07d98187",
   "metadata": {},
   "outputs": [
    {
     "data": {
      "text/plain": [
       "<selenium.webdriver.remote.webelement.WebElement (session=\"4b751ab673e3d2e4a0fb958cc407b438\", element=\"ec591335-1351-40ae-8908-3591ba346616\")>"
      ]
     },
     "execution_count": 628,
     "metadata": {},
     "output_type": "execute_result"
    }
   ],
   "source": [
    "next_btn = driver.find_element_by_xpath('/html/body/div[1]/div/div[3]/div/div/div[2]/div[13]/div/div/nav/a[12]/span')\n",
    "next_btn"
   ]
  },
  {
   "cell_type": "code",
   "execution_count": 629,
   "id": "24a7dcf9",
   "metadata": {},
   "outputs": [],
   "source": [
    "next_btn.click()"
   ]
  },
  {
   "cell_type": "code",
   "execution_count": 630,
   "id": "3f39623f",
   "metadata": {},
   "outputs": [
    {
     "data": {
      "text/plain": [
       "10"
      ]
     },
     "execution_count": 630,
     "metadata": {},
     "output_type": "execute_result"
    }
   ],
   "source": [
    "rt6 = driver.find_elements_by_xpath('//div[@class=\"_3LWZlK _1BLPMq\"]')\n",
    "len(rt6)"
   ]
  },
  {
   "cell_type": "code",
   "execution_count": 631,
   "id": "77b26e8d",
   "metadata": {},
   "outputs": [
    {
     "data": {
      "text/plain": [
       "['5', '5', '5', '5', '5', '5', '5', '5', '4', '5']"
      ]
     },
     "execution_count": 631,
     "metadata": {},
     "output_type": "execute_result"
    }
   ],
   "source": [
    "rate6 = []\n",
    "for i in rt6:\n",
    "    rate6.append(i.text)\n",
    "rate6"
   ]
  },
  {
   "cell_type": "code",
   "execution_count": 632,
   "id": "1021dd59",
   "metadata": {},
   "outputs": [
    {
     "data": {
      "text/plain": [
       "10"
      ]
     },
     "execution_count": 632,
     "metadata": {},
     "output_type": "execute_result"
    }
   ],
   "source": [
    "sum6 = driver.find_elements_by_xpath('//p[@class=\"_2-N8zT\"]')\n",
    "len(sum6)"
   ]
  },
  {
   "cell_type": "code",
   "execution_count": 633,
   "id": "f65b4fd7",
   "metadata": {},
   "outputs": [
    {
     "data": {
      "text/plain": [
       "['Perfect product!',\n",
       " 'Must buy!',\n",
       " 'Fabulous!',\n",
       " 'Mind-blowing purchase',\n",
       " 'Mind-blowing purchase',\n",
       " 'Wonderful',\n",
       " 'Must buy!',\n",
       " 'Great product',\n",
       " 'Very Good',\n",
       " 'Classy product']"
      ]
     },
     "execution_count": 633,
     "metadata": {},
     "output_type": "execute_result"
    }
   ],
   "source": [
    "summary6 = []\n",
    "for i in sum6:\n",
    "    summary6.append(i.text)\n",
    "summary6"
   ]
  },
  {
   "cell_type": "code",
   "execution_count": 634,
   "id": "5dc9ea5c",
   "metadata": {},
   "outputs": [
    {
     "data": {
      "text/plain": [
       "10"
      ]
     },
     "execution_count": 634,
     "metadata": {},
     "output_type": "execute_result"
    }
   ],
   "source": [
    "rev6 = driver.find_elements_by_xpath('//div[@class=\"t-ZTKy\"]')\n",
    "len(rev6)"
   ]
  },
  {
   "cell_type": "code",
   "execution_count": 635,
   "id": "d4e525b4",
   "metadata": {},
   "outputs": [
    {
     "data": {
      "text/plain": [
       "['It is just awesome mobile for this price from Apple,,,After 10 days review,,Battery enough for 1 day even 24*7 Internet will be on and mostly internet usage,,Camera is just awesome cool , android 64 MP is equal to this just 12 MP,,A13 Bionic chip will give more high performance without hanging,,Audio stereo speakers will give Dolby atoms sound with crystal clear,,Video recording is like cinematic shots of every sec can be a 4K 60fps. Just awesome this phone,iPhone 11 loved one',\n",
       " 'Best Apple iPhone that i have bought at a very reasonable price, camera quality is next level just awesome n of superior quality android phones not even close(RIP) to that and also battery is really good but packaging by Flipkart of iPhone was very poor of such a expensive product, firstly im bit worried about the quality of product if i purchased it through online how was the product but i think now this was mine best decision to bought it through Flipkart online because i got genuine Apple...,READ MORE',\n",
       " \"I can say I'm damn impressed with iPhone 11. As they says iPhone 11 have the toughest glass ever in the smartphone which you'll find on the front and back and it's totally smooth. The fit and finish is full apple quality - there's no sense that any cheaping out has happened in the construction. Without saying it's camera features this review won't complete. The iPhone 11 has a dual camera system, consisting of a wide angle len's that's pretty much same as found on the iPhone XR last year, but...,READ MORE\",\n",
       " 'Best Quality Product OF iPhone Series , Sound Quality & Camera quality is very awesome, Battery Life is very Sufficient for 24 hr Backup With Full Internet Access , I love this this Product too much , It is very fast & making me Very fast in all my daily Routine,Highlights;,1.Camera: 5 STAR,2.Video Recording: 5 star,3.Night mODE sHOOTING & Camera:4 star,4. Audio Quality: Awesome,5. Battery : 5 Star,6. Touch:5 Star,7. Processor: Very Fast,The M...,READ MORE',\n",
       " 'First thanks to Flipkart for this amazing deal and phone is outstanding. I upgraded from iPhone 7 and this is like very big upgrade. But the packaging was very basic I expected a good packaging as they only wrapped one layer of bubble wrap which I don’t think is enough to protect this expensive phone. And I recommend this phone and seller as well.,,And I’m posting this review after using it for 4 days.',\n",
       " 'Superfast delivery by Flipkart. Thanks.,,1. iPhone 11 is a pretty solid phone for the money you are paying.,2. All the bad reviews about the display is confusing. It’s not that bad.,3. I switched from a Oneplus 7t. I have no complaints about the display quality of iPhone. Yes, it’s not OLED, so, we are missing on the deep blacks. But that’s it. It is a very colour accurate display. Gets adequately bright and I could not find any pixelation.,4. Performance is one of the best, if not best, in ...,READ MORE',\n",
       " 'I rate this product 5* as it has got amazing user experience with the best performing A13 bionic processor. The screen responds and graphics rendering is top notch. With casual gaming and internet browsing, the battery lasts for approx. 1 day. Camera is very good. You will fall in love with the portrait mode. You can call me a loyal Apple customer or whatever but I won’t stop praising the products and overall experience. That user experience matters and is worth every penny you pay.,,Below ar...,READ MORE',\n",
       " \"Again back to apple iphone after a gap of 2-3 years. It's pleasure to use iOS and the quality product by Apple. Iphone 11 still works like a beast in 2021 also. It really capable of doing day to day usage as well as hard core gaming. Battery is awesome. I'm really too much satisfied with it. Apart fto the very gorgious IPS LCD (AMOLED will be better) everything is mind boggling. Iphone💕.\",\n",
       " 'impressive super phone and best in class camera ,sound and face unlock is super fast just see and phone is unlock and fast in daily apps use',\n",
       " 'Well while switching from android to iOS the first thing you need to be careful about is that you will loose all your whatsapp chat backups as both are different operating systems. Camera clarity is awesome and though being an lcd screen clarity and resolution is good. Battery backup is also good unlike previous gen iPhone. So far the experience is good will Padre after a few months of usage.,,P.S the black is more of a dark grey shade and not jet black']"
      ]
     },
     "execution_count": 635,
     "metadata": {},
     "output_type": "execute_result"
    }
   ],
   "source": [
    "review6 = []\n",
    "for i in rev6:\n",
    "    review6.append(i.text.replace('\\n',','))\n",
    "review6"
   ]
  },
  {
   "cell_type": "code",
   "execution_count": 636,
   "id": "0c48ade6",
   "metadata": {},
   "outputs": [
    {
     "data": {
      "text/plain": [
       "<selenium.webdriver.remote.webelement.WebElement (session=\"4b751ab673e3d2e4a0fb958cc407b438\", element=\"4a855d39-ca02-4789-afe7-4f36fd67d066\")>"
      ]
     },
     "execution_count": 636,
     "metadata": {},
     "output_type": "execute_result"
    }
   ],
   "source": [
    "next_btn = driver.find_element_by_xpath('/html/body/div[1]/div/div[3]/div/div/div[2]/div[13]/div/div/nav/a[12]/span')\n",
    "next_btn"
   ]
  },
  {
   "cell_type": "code",
   "execution_count": 637,
   "id": "f70485d8",
   "metadata": {},
   "outputs": [],
   "source": [
    "next_btn.click()"
   ]
  },
  {
   "cell_type": "code",
   "execution_count": 673,
   "id": "ce8629c3",
   "metadata": {},
   "outputs": [
    {
     "data": {
      "text/plain": [
       "10"
      ]
     },
     "execution_count": 673,
     "metadata": {},
     "output_type": "execute_result"
    }
   ],
   "source": [
    "rt7 = driver.find_elements_by_xpath('//div[@class=\"_3LWZlK _1BLPMq\" or @class=\"_3LWZlK _1rdVr6 _1BLPMq\"]')\n",
    "len(rt7)"
   ]
  },
  {
   "cell_type": "code",
   "execution_count": 674,
   "id": "384d8eef",
   "metadata": {},
   "outputs": [
    {
     "data": {
      "text/plain": [
       "['5', '5', '1', '5', '5', '5', '4', '5', '5', '5']"
      ]
     },
     "execution_count": 674,
     "metadata": {},
     "output_type": "execute_result"
    }
   ],
   "source": [
    "rate7 = []\n",
    "for i in rt7:\n",
    "    rate7.append(i.text)\n",
    "rate7"
   ]
  },
  {
   "cell_type": "code",
   "execution_count": 675,
   "id": "7affac39",
   "metadata": {},
   "outputs": [
    {
     "data": {
      "text/plain": [
       "10"
      ]
     },
     "execution_count": 675,
     "metadata": {},
     "output_type": "execute_result"
    }
   ],
   "source": [
    "sum7 = driver.find_elements_by_xpath('//p[@class=\"_2-N8zT\"]')\n",
    "len(sum7)"
   ]
  },
  {
   "cell_type": "code",
   "execution_count": 676,
   "id": "bad1fcec",
   "metadata": {},
   "outputs": [
    {
     "data": {
      "text/plain": [
       "['Awesome',\n",
       " 'Perfect product!',\n",
       " 'Very poor',\n",
       " 'Fabulous!',\n",
       " 'Excellent',\n",
       " 'Must buy!',\n",
       " 'Value-for-money',\n",
       " 'Best in the market!',\n",
       " 'Brilliant',\n",
       " 'Terrific purchase']"
      ]
     },
     "execution_count": 676,
     "metadata": {},
     "output_type": "execute_result"
    }
   ],
   "source": [
    "summary7 = []\n",
    "for i in sum7:\n",
    "    summary7.append(i.text)\n",
    "summary7"
   ]
  },
  {
   "cell_type": "code",
   "execution_count": 677,
   "id": "48486531",
   "metadata": {},
   "outputs": [
    {
     "data": {
      "text/plain": [
       "10"
      ]
     },
     "execution_count": 677,
     "metadata": {},
     "output_type": "execute_result"
    }
   ],
   "source": [
    "rev7 = driver.find_elements_by_xpath('//div[@class=\"t-ZTKy\"]')\n",
    "len(rev7)"
   ]
  },
  {
   "cell_type": "code",
   "execution_count": 678,
   "id": "8fea37a9",
   "metadata": {},
   "outputs": [
    {
     "data": {
      "text/plain": [
       "['Always love the apple products, upgraded from old iPhone 6S plus to this after having my first baby. I just love to click baby’s photos with it. Overall I just love this phone. Battery back up is okay, sound quality is good. Haven’t tested yet waterproof yet. Only one thing I hate is apple could have given charger & headphones in box.',\n",
       " 'Value for money,5 star rating,Excellent camera,Battery backup full day in single charge.,,Tougher and water resistant design, glossy back.,The screen has excellent brightness and contrast.,Apple A13 Bionic is the fastest smartphone chip on the planet.,Excellent battery life, fast charging support.,Stereo speakers with great quality.',\n",
       " 'Please DONT buy from here,,,I purchased Apple iPhone 11. with an exchange of IPhone 7, the exchange did not go well, iPhone 7 had a small scratch out side screen which i could never identify till date, but the FLIPKART person could, so he reduced 50% from exchange rate. I decided not to trade in, but paid money.,,iPhone 11 Detail Below,---------------------------------------------,It came with no charging, then i have put for charging, it took lot of time for charging, the phone also showe...,READ MORE',\n",
       " 'awesome phone to have. it has got many smart features apart from mind blowing looks, camera, display, battery and sound. have fallen in love with this phone. must buy phone if you have got enough money. thanks to flipkart and apple of course..',\n",
       " 'Its a fabulous mobile look awesome performance unbeaten camera like dslr battery good i think this is a beast of mobile',\n",
       " 'Dear friends... I want to share my experience with you about this amazing I phone 11....this is my first iPhone and special things about this mobile is it has great camera, battery backup and awesome display.... I mean everything is perfect.loved it 👍👍👍',\n",
       " \"Just got this iphone 11,And it is most powerful mobile phone I have used ever,,So,go for it if you want a phone with best specification like camera,battery backup,display, A13 bionic chip,,That's my review about this phone but yours can be differ from me....\",\n",
       " \"The best all rounder iphone. Flipkart is doing a great job. They're delivery services are blazing fast. I got delivery on the same day. Genuine Apple Product. Working great. Talking about review There's no need of review for iphones. They're simply the best.\",\n",
       " 'Amazing phone and on great deal I received with super fast delivery by Flipkart...',\n",
       " 'finally an iPhone with very nice battery backup. update from iPhone 7 and happy to have it. camera is not up to the mark in low light but overall a recommended phone if your budget allows 😀']"
      ]
     },
     "execution_count": 678,
     "metadata": {},
     "output_type": "execute_result"
    }
   ],
   "source": [
    "review7 = []\n",
    "for i in rev7:\n",
    "    review7.append(i.text.replace('\\n',','))\n",
    "review7"
   ]
  },
  {
   "cell_type": "code",
   "execution_count": 681,
   "id": "5e3d4d1d",
   "metadata": {},
   "outputs": [
    {
     "data": {
      "text/plain": [
       "<selenium.webdriver.remote.webelement.WebElement (session=\"4b751ab673e3d2e4a0fb958cc407b438\", element=\"827f6f98-82d9-4baf-b36c-82a3f54bc95d\")>"
      ]
     },
     "execution_count": 681,
     "metadata": {},
     "output_type": "execute_result"
    }
   ],
   "source": [
    "next_btn = driver.find_element_by_xpath('/html/body/div[1]/div/div[3]/div/div/div[2]/div[13]/div/div/nav/a[12]/span')\n",
    "next_btn"
   ]
  },
  {
   "cell_type": "code",
   "execution_count": 682,
   "id": "cd971b9c",
   "metadata": {},
   "outputs": [],
   "source": [
    "next_btn.click()"
   ]
  },
  {
   "cell_type": "code",
   "execution_count": 683,
   "id": "b1667bbc",
   "metadata": {},
   "outputs": [
    {
     "data": {
      "text/plain": [
       "10"
      ]
     },
     "execution_count": 683,
     "metadata": {},
     "output_type": "execute_result"
    }
   ],
   "source": [
    "rt8 = driver.find_elements_by_xpath('//div[@class=\"_3LWZlK _1BLPMq\" or @class=\"_3LWZlK _1rdVr6 _1BLPMq\"]')\n",
    "len(rt8)"
   ]
  },
  {
   "cell_type": "code",
   "execution_count": 684,
   "id": "0f5a698d",
   "metadata": {},
   "outputs": [
    {
     "data": {
      "text/plain": [
       "['4', '5', '5', '5', '5', '4', '5', '1', '5', '5']"
      ]
     },
     "execution_count": 684,
     "metadata": {},
     "output_type": "execute_result"
    }
   ],
   "source": [
    "rate8 = []\n",
    "for i in rt8:\n",
    "    rate8.append(i.text)\n",
    "rate8"
   ]
  },
  {
   "cell_type": "code",
   "execution_count": 685,
   "id": "80dc4786",
   "metadata": {},
   "outputs": [
    {
     "data": {
      "text/plain": [
       "10"
      ]
     },
     "execution_count": 685,
     "metadata": {},
     "output_type": "execute_result"
    }
   ],
   "source": [
    "sum8 = driver.find_elements_by_xpath('//p[@class=\"_2-N8zT\"]')\n",
    "len(sum8)"
   ]
  },
  {
   "cell_type": "code",
   "execution_count": 686,
   "id": "af17befa",
   "metadata": {},
   "outputs": [
    {
     "data": {
      "text/plain": [
       "['Good quality product',\n",
       " 'Terrific',\n",
       " 'Best in the market!',\n",
       " 'Perfect product!',\n",
       " 'Awesome',\n",
       " 'Value-for-money',\n",
       " 'Just wow!',\n",
       " 'Worthless',\n",
       " 'Super!',\n",
       " 'Excellent']"
      ]
     },
     "execution_count": 686,
     "metadata": {},
     "output_type": "execute_result"
    }
   ],
   "source": [
    "summary8 = []\n",
    "for i in sum8:\n",
    "    summary8.append(i.text)\n",
    "summary8"
   ]
  },
  {
   "cell_type": "code",
   "execution_count": 687,
   "id": "6adbb790",
   "metadata": {},
   "outputs": [
    {
     "data": {
      "text/plain": [
       "10"
      ]
     },
     "execution_count": 687,
     "metadata": {},
     "output_type": "execute_result"
    }
   ],
   "source": [
    "rev8 = driver.find_elements_by_xpath('//div[@class=\"t-ZTKy\"]')\n",
    "len(rev8)"
   ]
  },
  {
   "cell_type": "code",
   "execution_count": 688,
   "id": "685e5ec1",
   "metadata": {},
   "outputs": [
    {
     "data": {
      "text/plain": [
       "[\"I'm switching this phone to oppo reno 10x zoom,It's really impressive,Rarely I'm missing smooth display touch response like oppo reno but,I really loved it.,Camera really impressive\",\n",
       " 'Simply Awesome,,I have upgraded from iPhone 7 to iPhone 11.,,3110 mah Battery is good. I am not a heavy gamer. For official purpose, this is better than 12 mini.,,Totally impressed with battery performance.',\n",
       " 'Damn this phone is a blast . Upgraded from android to ios and is a duperb experience. Battery backup is top notch and display also pretty good',\n",
       " 'Worth the money’ starting first from its performance it beats out all phones , second the smoothness of camera is awesome, contrast ratio is much than expected. Price will not matter if u r a quality person, if not other phones are available with better discount',\n",
       " 'I dreamt about this day from a long time.... Getting an iPhone with my own money.... Super happy and worth spending every penny',\n",
       " \"I'm Really happy with the product,Delivery was fast as well,..it was a gift for my sister and she loved it so much.\",\n",
       " 'Great iphone.,I am writing this review after 2 months of usage.,Camera is excellent, especially the nightmode,Display perfect,Battery backup awesome,Sound quality very good,Overall Apple gives you a perfect iphone in this range.,Really in love with iPhone 11',\n",
       " \"Phone is awesome no doubt. But Camera & Display is not great. Performance is mind blowing.,But the phone is heating too much when charging or when you regularly used. It's experience after using 1 week. It's heating extrem when I play PUBG for 30 minutes.,Go for iPhone 11 pro or 12. Otherwise go for Android phone you will get much better phone in less price.\",\n",
       " 'Did an upgrade from 6s plus to iphone 11.,Ao far the experience is well and good. Felt smoother than 6s plus. The camera quality is superb. Battery backup is descent. Not a heavy user, and gets power more than a day. Go for it if you need an alrounder iphone in a competitve price.',\n",
       " \"It was amazing experience for me. Honestly i am using iPhone first time so I don't have that much past experience about that. But after using 7 days this mobile i want to give some honest feedback.,1- Display 9 out of 10,2- Camera 9.5 out of 10,3- Battery 7 out of 10,4- Performance 9.5 out of 10,5- Features & Functions 10 out of 10,6- Outer looks and colour 10 out of 10,Rest i think i will understand after using this for few months.,I will highly recommend you guys if you have budget then you...,READ MORE\"]"
      ]
     },
     "execution_count": 688,
     "metadata": {},
     "output_type": "execute_result"
    }
   ],
   "source": [
    "review8 = []\n",
    "for i in rev8:\n",
    "    review8.append(i.text.replace('\\n',','))\n",
    "review8"
   ]
  },
  {
   "cell_type": "code",
   "execution_count": 689,
   "id": "9acc712f",
   "metadata": {},
   "outputs": [
    {
     "data": {
      "text/plain": [
       "<selenium.webdriver.remote.webelement.WebElement (session=\"4b751ab673e3d2e4a0fb958cc407b438\", element=\"5f53fbb8-e418-4d4d-827c-5c8ecc8af2ee\")>"
      ]
     },
     "execution_count": 689,
     "metadata": {},
     "output_type": "execute_result"
    }
   ],
   "source": [
    "next_btn = driver.find_element_by_xpath('/html/body/div[1]/div/div[3]/div/div/div[2]/div[13]/div/div/nav/a[12]/span')\n",
    "next_btn"
   ]
  },
  {
   "cell_type": "code",
   "execution_count": 690,
   "id": "954afe8d",
   "metadata": {},
   "outputs": [],
   "source": [
    "next_btn.click()"
   ]
  },
  {
   "cell_type": "code",
   "execution_count": 691,
   "id": "e6e5b43e",
   "metadata": {},
   "outputs": [
    {
     "data": {
      "text/plain": [
       "10"
      ]
     },
     "execution_count": 691,
     "metadata": {},
     "output_type": "execute_result"
    }
   ],
   "source": [
    "rt9 = driver.find_elements_by_xpath('//div[@class=\"_3LWZlK _1BLPMq\"]')\n",
    "len(rt9)"
   ]
  },
  {
   "cell_type": "code",
   "execution_count": 692,
   "id": "cf142d28",
   "metadata": {},
   "outputs": [
    {
     "data": {
      "text/plain": [
       "['5', '4', '5', '5', '5', '5', '5', '5', '4', '5']"
      ]
     },
     "execution_count": 692,
     "metadata": {},
     "output_type": "execute_result"
    }
   ],
   "source": [
    "rate9 = []\n",
    "for i in rt9:\n",
    "    rate9.append(i.text)\n",
    "rate9"
   ]
  },
  {
   "cell_type": "code",
   "execution_count": 693,
   "id": "ba915dc9",
   "metadata": {},
   "outputs": [
    {
     "data": {
      "text/plain": [
       "10"
      ]
     },
     "execution_count": 693,
     "metadata": {},
     "output_type": "execute_result"
    }
   ],
   "source": [
    "sum9 = driver.find_elements_by_xpath('//p[@class=\"_2-N8zT\"]')\n",
    "len(sum9)"
   ]
  },
  {
   "cell_type": "code",
   "execution_count": 694,
   "id": "ed2e61ab",
   "metadata": {},
   "outputs": [
    {
     "data": {
      "text/plain": [
       "['Wonderful',\n",
       " 'Nice product',\n",
       " 'Mind-blowing purchase',\n",
       " 'Classy product',\n",
       " 'Terrific',\n",
       " 'Worth every penny',\n",
       " 'Excellent',\n",
       " 'Fabulous!',\n",
       " 'Pretty good',\n",
       " 'Highly recommended']"
      ]
     },
     "execution_count": 694,
     "metadata": {},
     "output_type": "execute_result"
    }
   ],
   "source": [
    "summary9 = []\n",
    "for i in sum9:\n",
    "    summary9.append(i.text)\n",
    "summary9"
   ]
  },
  {
   "cell_type": "code",
   "execution_count": 695,
   "id": "d5358fe3",
   "metadata": {},
   "outputs": [
    {
     "data": {
      "text/plain": [
       "10"
      ]
     },
     "execution_count": 695,
     "metadata": {},
     "output_type": "execute_result"
    }
   ],
   "source": [
    "rev9 = driver.find_elements_by_xpath('//div[@class=\"t-ZTKy\"]')\n",
    "len(rev9)"
   ]
  },
  {
   "cell_type": "code",
   "execution_count": 696,
   "id": "e0a6a33f",
   "metadata": {},
   "outputs": [
    {
     "data": {
      "text/plain": [
       "['Super and marvellous phone look very cute and nice sound. I love this phone i think white is good colur.Excellent camer 5*😍😘♥️♥️',\n",
       " \"If you are looking for a premium phone under 55k, this is the one for you.Got the iPhone 11 during the Republic day sale. Performance is top notch in this price range. Camera's do a perfect job in taking good quality photos and videos. Battery backup too is satisfactory. Writing this review after using for a week. Any further observations would be updated.\",\n",
       " 'awesome Phone Smooth Touch Too good Sexyy looks one word Awesome',\n",
       " 'Gifted my man on his 30th birthday 🎂 He loves it.. Him happy so i am more than happy 😍😘❤️🥰',\n",
       " 'I bought iPhone 11 On March 2021, And I am Writing this review after using the phone for 4 Months. I would Say Everything is fine, Top Performance, Nice Camera as Anyone would Expect from any series of iPhone but when the Question comes to Battery it is complicated. The Battery is fully optimised and it comes 3110 mAh capacity but the problem is with the charger. Honestly Apple Removed charger from in Box items in the name of Environment and they are also forcing us to buy any 20W PD 3rd part...,READ MORE',\n",
       " 'Here is the thing,,The only reason why you should buy this phone is for the camera, iOS, and if you have headaches looking at AMOLED display.,,I’m not an avid gamer but watch a lot of movies on smartphone. However, my migraine attacks increased considerably after using AMOLED Smartphone. That’s why I made a calculated decision to buy iPhone 11. It has the best LCD display and the blacks, though not as natural as an AMOLED, is better than some of the other smartphones.,,Adding to this the ste...,READ MORE',\n",
       " \"Just go for it.,This phone is really amazing. I ordered it for my wife and we click photos on this thing which are better than dslr. I own OnePlus 6t but it's camera sucks. iPhone is really amazing when it comes to camera. It's worth spending 50k on this. Cons- only display is lcd. While using u don't feel it but if u compare with other phone then u can see difference quite easily.,Changing from Android to iphone is bit difficult coz most of things u don't know but I liked it. Some of the a...,READ MORE\",\n",
       " 'Everything is perfect pictures come out so clearly and at first I wasn’t sure when I got it then when I started to use it and get the hang of it it was amazing!! I can’t wait to see what the next future phones will be like. The screen display on this bad boy are unbelievable they are so clear and never fail me. The performance is super cool there is a lot of cool features as well I like this phone because I feel that it is easy to use and one of my favorite things about this phone is the Face...,READ MORE',\n",
       " \"I've used this phone for over a month now and here are my takeaways.,I would like to first talk about the best things about this phone and then the cons of it.,,Pros:,This phone is a performance beast. It handles large games and applications effortlessly and you won't find any stutters or lags while playing graphic intensive games like pubg, cod , mortal kombat and asphalt.,,This phone has only 4gb ram and yet the ram management is amazing, it can keep 3 heavy games in memory without reload...,READ MORE\",\n",
       " 'Thanks Flipkart For this amazing deal! I had a dream of owning a iphone since i had known about.,Im very happy with my purchase & it is totally worth it.,Amazing experience all over !!,,Anyone who’s thinking of buying it in 2021, i would simply say go for it without any second thoughts ❤️']"
      ]
     },
     "execution_count": 696,
     "metadata": {},
     "output_type": "execute_result"
    }
   ],
   "source": [
    "review9 = []\n",
    "for i in rev9:\n",
    "    review9.append(i.text.replace('\\n',','))\n",
    "review9"
   ]
  },
  {
   "cell_type": "code",
   "execution_count": 697,
   "id": "4c8c7d35",
   "metadata": {},
   "outputs": [
    {
     "data": {
      "text/plain": [
       "<selenium.webdriver.remote.webelement.WebElement (session=\"4b751ab673e3d2e4a0fb958cc407b438\", element=\"37287d79-da7b-4002-b531-26b4a4ab0f81\")>"
      ]
     },
     "execution_count": 697,
     "metadata": {},
     "output_type": "execute_result"
    }
   ],
   "source": [
    "next_btn = driver.find_element_by_xpath('/html/body/div[1]/div/div[3]/div/div/div[2]/div[13]/div/div/nav/a[12]/span')\n",
    "next_btn"
   ]
  },
  {
   "cell_type": "code",
   "execution_count": 698,
   "id": "1776814d",
   "metadata": {},
   "outputs": [],
   "source": [
    "next_btn.click()"
   ]
  },
  {
   "cell_type": "code",
   "execution_count": 699,
   "id": "28dfdce8",
   "metadata": {},
   "outputs": [
    {
     "data": {
      "text/plain": [
       "10"
      ]
     },
     "execution_count": 699,
     "metadata": {},
     "output_type": "execute_result"
    }
   ],
   "source": [
    "rt10 = driver.find_elements_by_xpath('//div[@class=\"_3LWZlK _1BLPMq\"]')\n",
    "len(rt10)"
   ]
  },
  {
   "cell_type": "code",
   "execution_count": 700,
   "id": "0821385f",
   "metadata": {},
   "outputs": [
    {
     "data": {
      "text/plain": [
       "['5', '5', '5', '5', '5', '5', '5', '5', '3', '5']"
      ]
     },
     "execution_count": 700,
     "metadata": {},
     "output_type": "execute_result"
    }
   ],
   "source": [
    "rate10 = []\n",
    "for i in rt10:\n",
    "    rate10.append(i.text)\n",
    "rate10"
   ]
  },
  {
   "cell_type": "code",
   "execution_count": 701,
   "id": "06ecbe2c",
   "metadata": {},
   "outputs": [
    {
     "data": {
      "text/plain": [
       "10"
      ]
     },
     "execution_count": 701,
     "metadata": {},
     "output_type": "execute_result"
    }
   ],
   "source": [
    "sum10 = driver.find_elements_by_xpath('//p[@class=\"_2-N8zT\"]')\n",
    "len(sum10)"
   ]
  },
  {
   "cell_type": "code",
   "execution_count": 702,
   "id": "0e091b46",
   "metadata": {},
   "outputs": [
    {
     "data": {
      "text/plain": [
       "['Excellent',\n",
       " 'Worth every penny',\n",
       " 'Fabulous!',\n",
       " 'Brilliant',\n",
       " 'Mind-blowing purchase',\n",
       " 'Just wow!',\n",
       " 'Terrific purchase',\n",
       " 'Awesome',\n",
       " 'Decent product',\n",
       " 'Wonderful']"
      ]
     },
     "execution_count": 702,
     "metadata": {},
     "output_type": "execute_result"
    }
   ],
   "source": [
    "summary10 = []\n",
    "for i in sum10:\n",
    "    summary10.append(i.text)\n",
    "summary10"
   ]
  },
  {
   "cell_type": "code",
   "execution_count": 703,
   "id": "12d7839d",
   "metadata": {},
   "outputs": [
    {
     "data": {
      "text/plain": [
       "10"
      ]
     },
     "execution_count": 703,
     "metadata": {},
     "output_type": "execute_result"
    }
   ],
   "source": [
    "rev10 = driver.find_elements_by_xpath('//div[@class=\"t-ZTKy\"]')\n",
    "len(rev10)"
   ]
  },
  {
   "cell_type": "code",
   "execution_count": 704,
   "id": "68daf211",
   "metadata": {},
   "outputs": [
    {
     "data": {
      "text/plain": [
       "['A perfect phone and a good battery super camera and the sound is dynamic overall the phone is perfect for upgrading from lower iPhone model to iPhone 11',\n",
       " 'Undoubtedly Iphone 11 is the most successful model till now and its performance is extraordinary and the security features are very impressive, display is more vibrant sound quality Camera Quality 5*****, but Iphone should add accessories too and act like scrooge.',\n",
       " 'I purchased the iPhone 11 a month back. I must say Apple has impressed me yet again . I have been an Apple user for past 5 years . The phone is power packed with amazing features . What impressed me the most was the battery backup the phone offers . Battery can easily run upto 1.5 days in single charge with moderate to,Heavy usage . If you’re looking for a value for money device , I don’t see any other phone in the price range which can match the iPhone 11 .,One thing I didn’t like was that ...,READ MORE',\n",
       " 'A wort full value for money decision it’s . Simply go for it in 2021 its still a good decision . Awesome camera , Super smothered performance, Heck of build quality. And Most important it protects your privacy.',\n",
       " 'Excellent camera 📸 And Display touching very Nice And Smooth and very improvement against,I phone 11 and new processor is very fast',\n",
       " 'The ultimate performance,Camera is superb,The battery backup also very good i never saw iphone gives this much of battery backup,If any one wana buy iphone 11 definitely i will recommend this mobile,It has the better battery and powerfull processer peak performance glorious camera and the display also 100% high quality lcd display if u had money for for 12 if u dont wana invest much money on that then go for iphone 11 it has maximum same specs only main difference between the 12 and 11 is...,READ MORE',\n",
       " 'I use a Note10+ and have been using both iOS and Android devices.,,Camera has really good features and portraits are super good, better than Samsung flagship. Overall camera setup can still be enhanced and hopeful for better upgrades on software in next release,,Operating system is quite a breeze and user experience of daily usage is very high as compared to Android. I moved to iOS very swiftly in 2 days for all my office work from Note10+,,Battery holds up quite well with 4 hrs of call and ...,READ MORE',\n",
       " 'The phone is completely good,As far as camera Apple is king of it,And its a beast in performance,And the battery is pretty good too',\n",
       " 'Everything u ll like it when u use this iPhone. Simple changes only not many to lower models but it’s nice to use. Little heavy compared to previous models like 7,8',\n",
       " 'Nice value for money good and best price I phone mind blowing camera processor very fast other android mobile I am happy India top selling phone 2020']"
      ]
     },
     "execution_count": 704,
     "metadata": {},
     "output_type": "execute_result"
    }
   ],
   "source": [
    "review10 = []\n",
    "for i in rev10:\n",
    "    review10.append(i.text.replace('\\n',','))\n",
    "review10"
   ]
  },
  {
   "cell_type": "code",
   "execution_count": 713,
   "id": "80612bc3",
   "metadata": {},
   "outputs": [
    {
     "data": {
      "text/plain": [
       "(100, 100, 100)"
      ]
     },
     "execution_count": 713,
     "metadata": {},
     "output_type": "execute_result"
    }
   ],
   "source": [
    "rate = rate1+rate2+rate3+rate4+rate5+rate6+rate7+rate8+rate9+rate10\n",
    "summary = summary1+summary2+summary3+summary4+summary5+summary6+summary7+summary8+summary9+summary10\n",
    "review = review1+review2+review3+review4+review5+review6+review7+review8+review9+review10\n",
    "len(rate),len(summary),len(review)"
   ]
  },
  {
   "cell_type": "code",
   "execution_count": 714,
   "id": "c524e237",
   "metadata": {},
   "outputs": [
    {
     "data": {
      "text/html": [
       "<div>\n",
       "<style scoped>\n",
       "    .dataframe tbody tr th:only-of-type {\n",
       "        vertical-align: middle;\n",
       "    }\n",
       "\n",
       "    .dataframe tbody tr th {\n",
       "        vertical-align: top;\n",
       "    }\n",
       "\n",
       "    .dataframe thead th {\n",
       "        text-align: right;\n",
       "    }\n",
       "</style>\n",
       "<table border=\"1\" class=\"dataframe\">\n",
       "  <thead>\n",
       "    <tr style=\"text-align: right;\">\n",
       "      <th></th>\n",
       "      <th>Rating</th>\n",
       "      <th>Review Summary</th>\n",
       "      <th>Full Review</th>\n",
       "    </tr>\n",
       "  </thead>\n",
       "  <tbody>\n",
       "    <tr>\n",
       "      <th>0</th>\n",
       "      <td>5</td>\n",
       "      <td>Brilliant</td>\n",
       "      <td>The Best Phone for the Money,,The iPhone 11 of...</td>\n",
       "    </tr>\n",
       "    <tr>\n",
       "      <th>1</th>\n",
       "      <td>5</td>\n",
       "      <td>Simply awesome</td>\n",
       "      <td>Really satisfied with the Product I received.....</td>\n",
       "    </tr>\n",
       "    <tr>\n",
       "      <th>2</th>\n",
       "      <td>5</td>\n",
       "      <td>Perfect product!</td>\n",
       "      <td>Amazing phone with great cameras and better ba...</td>\n",
       "    </tr>\n",
       "    <tr>\n",
       "      <th>3</th>\n",
       "      <td>5</td>\n",
       "      <td>Best in the market!</td>\n",
       "      <td>Great iPhone very snappy experience as apple k...</td>\n",
       "    </tr>\n",
       "    <tr>\n",
       "      <th>4</th>\n",
       "      <td>5</td>\n",
       "      <td>Worth every penny</td>\n",
       "      <td>Previously I was using one plus 3t it was a gr...</td>\n",
       "    </tr>\n",
       "    <tr>\n",
       "      <th>...</th>\n",
       "      <td>...</td>\n",
       "      <td>...</td>\n",
       "      <td>...</td>\n",
       "    </tr>\n",
       "    <tr>\n",
       "      <th>95</th>\n",
       "      <td>5</td>\n",
       "      <td>Just wow!</td>\n",
       "      <td>The ultimate performance,Camera is superb,The ...</td>\n",
       "    </tr>\n",
       "    <tr>\n",
       "      <th>96</th>\n",
       "      <td>5</td>\n",
       "      <td>Terrific purchase</td>\n",
       "      <td>I use a Note10+ and have been using both iOS a...</td>\n",
       "    </tr>\n",
       "    <tr>\n",
       "      <th>97</th>\n",
       "      <td>5</td>\n",
       "      <td>Awesome</td>\n",
       "      <td>The phone is completely good,As far as camera ...</td>\n",
       "    </tr>\n",
       "    <tr>\n",
       "      <th>98</th>\n",
       "      <td>3</td>\n",
       "      <td>Decent product</td>\n",
       "      <td>Everything u ll like it when u use this iPhone...</td>\n",
       "    </tr>\n",
       "    <tr>\n",
       "      <th>99</th>\n",
       "      <td>5</td>\n",
       "      <td>Wonderful</td>\n",
       "      <td>Nice value for money good and best price I pho...</td>\n",
       "    </tr>\n",
       "  </tbody>\n",
       "</table>\n",
       "<p>100 rows × 3 columns</p>\n",
       "</div>"
      ],
      "text/plain": [
       "   Rating       Review Summary  \\\n",
       "0       5            Brilliant   \n",
       "1       5       Simply awesome   \n",
       "2       5     Perfect product!   \n",
       "3       5  Best in the market!   \n",
       "4       5    Worth every penny   \n",
       "..    ...                  ...   \n",
       "95      5            Just wow!   \n",
       "96      5    Terrific purchase   \n",
       "97      5              Awesome   \n",
       "98      3       Decent product   \n",
       "99      5            Wonderful   \n",
       "\n",
       "                                          Full Review  \n",
       "0   The Best Phone for the Money,,The iPhone 11 of...  \n",
       "1   Really satisfied with the Product I received.....  \n",
       "2   Amazing phone with great cameras and better ba...  \n",
       "3   Great iPhone very snappy experience as apple k...  \n",
       "4   Previously I was using one plus 3t it was a gr...  \n",
       "..                                                ...  \n",
       "95  The ultimate performance,Camera is superb,The ...  \n",
       "96  I use a Note10+ and have been using both iOS a...  \n",
       "97  The phone is completely good,As far as camera ...  \n",
       "98  Everything u ll like it when u use this iPhone...  \n",
       "99  Nice value for money good and best price I pho...  \n",
       "\n",
       "[100 rows x 3 columns]"
      ]
     },
     "execution_count": 714,
     "metadata": {},
     "output_type": "execute_result"
    }
   ],
   "source": [
    "iphone = pd.DataFrame()\n",
    "iphone['Rating'] = rate\n",
    "iphone['Review Summary'] = summary\n",
    "iphone['Full Review'] = review\n",
    "iphone"
   ]
  },
  {
   "cell_type": "markdown",
   "id": "2ba82b31",
   "metadata": {},
   "source": [
    "Scrape data for first 100 sneakers you find when you visit flipkart.com andsearch for “sneakers” in the\n",
    "search field."
   ]
  },
  {
   "cell_type": "code",
   "execution_count": 715,
   "id": "caa680fe",
   "metadata": {},
   "outputs": [],
   "source": [
    "driver = webdriver.Chrome(r'C:\\Users\\praja\\Downloads\\chromedriver_win32\\chromedriver.exe')"
   ]
  },
  {
   "cell_type": "code",
   "execution_count": 716,
   "id": "f864ee28",
   "metadata": {},
   "outputs": [],
   "source": [
    "url = 'https://www.flipkart.com/'\n",
    "driver.get(url)"
   ]
  },
  {
   "cell_type": "code",
   "execution_count": 717,
   "id": "1b2f5511",
   "metadata": {},
   "outputs": [
    {
     "data": {
      "text/plain": [
       "<selenium.webdriver.remote.webelement.WebElement (session=\"473de88b7bb35e07c3092e9496efdace\", element=\"8e3594c8-dc52-4112-a6db-bc397a5c4a4c\")>"
      ]
     },
     "execution_count": 717,
     "metadata": {},
     "output_type": "execute_result"
    }
   ],
   "source": [
    "search = driver.find_element_by_xpath('/html/body/div[1]/div/div[1]/div[1]/div[2]/div[2]/form/div/div/input')\n",
    "search"
   ]
  },
  {
   "cell_type": "code",
   "execution_count": 718,
   "id": "33325e41",
   "metadata": {},
   "outputs": [],
   "source": [
    "search.send_keys('sneakers')"
   ]
  },
  {
   "cell_type": "code",
   "execution_count": 729,
   "id": "38a64266",
   "metadata": {},
   "outputs": [
    {
     "data": {
      "text/plain": [
       "<selenium.webdriver.remote.webelement.WebElement (session=\"473de88b7bb35e07c3092e9496efdace\", element=\"03a9b13a-f976-42a4-a6ac-5ae9aa767d4c\")>"
      ]
     },
     "execution_count": 729,
     "metadata": {},
     "output_type": "execute_result"
    }
   ],
   "source": [
    "search_btn = driver.find_element_by_xpath('/html/body/div[1]/div/div[1]/div[1]/div[2]/div[2]/form/div/button')\n",
    "search_btn"
   ]
  },
  {
   "cell_type": "code",
   "execution_count": 730,
   "id": "a81ab13f",
   "metadata": {},
   "outputs": [],
   "source": [
    "search_btn.click()"
   ]
  },
  {
   "cell_type": "code",
   "execution_count": 731,
   "id": "9f252732",
   "metadata": {},
   "outputs": [
    {
     "data": {
      "text/plain": [
       "40"
      ]
     },
     "execution_count": 731,
     "metadata": {},
     "output_type": "execute_result"
    }
   ],
   "source": [
    "brnd1 = driver.find_elements_by_xpath('//div[@class=\"_2WkVRV\"]')\n",
    "len(brnd1)"
   ]
  },
  {
   "cell_type": "code",
   "execution_count": 732,
   "id": "81b73538",
   "metadata": {},
   "outputs": [
    {
     "data": {
      "text/plain": [
       "['Echor',\n",
       " 'RED TAPE',\n",
       " 'Magnolia',\n",
       " 'URBANBOX',\n",
       " 'Labbin',\n",
       " 'luxury fashion',\n",
       " 'Stefano Rads',\n",
       " 'RED TAPE',\n",
       " 'SCATCHITE',\n",
       " 'BIRDE',\n",
       " 'Numenzo',\n",
       " 'RED TAPE',\n",
       " 'Shoes Bank',\n",
       " 'ASTEROID',\n",
       " 'HOTSTYLE',\n",
       " 'RED TAPE',\n",
       " 'Trendmode',\n",
       " 'Extoes',\n",
       " 'D-SNEAKERZ',\n",
       " 'Advick',\n",
       " 'ganpati traders',\n",
       " 'World Wear Footwear',\n",
       " 'Arohi',\n",
       " 'RED TAPE',\n",
       " 'RapidBox',\n",
       " 'Kraasa',\n",
       " 'Rzisbo',\n",
       " 'WROGN',\n",
       " 'Echor',\n",
       " 'TR',\n",
       " 'India hub',\n",
       " 'RED TAPE',\n",
       " 'CLYMB',\n",
       " 'Kraasa',\n",
       " 'ASTEROID',\n",
       " 'RED TAPE',\n",
       " 'ESSENCE',\n",
       " 'Lee Won',\n",
       " 'Robbie jones',\n",
       " 'WROGN']"
      ]
     },
     "execution_count": 732,
     "metadata": {},
     "output_type": "execute_result"
    }
   ],
   "source": [
    "B1 = []\n",
    "for i in brnd1:\n",
    "    B1.append(i.text)\n",
    "B1"
   ]
  },
  {
   "cell_type": "code",
   "execution_count": 733,
   "id": "2207782d",
   "metadata": {},
   "outputs": [
    {
     "data": {
      "text/plain": [
       "40"
      ]
     },
     "execution_count": 733,
     "metadata": {},
     "output_type": "execute_result"
    }
   ],
   "source": [
    "desc1 = driver.find_elements_by_xpath('//a[@class=\"IRpwTa\" or @class=\"IRpwTa _2-ICcC\"]') \n",
    "len(desc1)"
   ]
  },
  {
   "cell_type": "code",
   "execution_count": 734,
   "id": "74fe8f79",
   "metadata": {},
   "outputs": [
    {
     "data": {
      "text/plain": [
       "[\"Men's Sneakers Fashion Lightweight Running Shoes Tennis...\",\n",
       " 'Sneakers For Men',\n",
       " 'Sneakers For Men',\n",
       " 'Sneakers Sneakers For Men',\n",
       " 'Sneakers For Men',\n",
       " 'Luxury Fashionable casual sneaker shoes Sneakers For Me...',\n",
       " 'Classy Sneakers For Men',\n",
       " 'Sneakers For Men',\n",
       " 'Sneakers Sneakers For Men',\n",
       " 'Sports Running Shoes Sneakers For Men',\n",
       " '411 Casual Sneakers For Men',\n",
       " 'Classic Sneakers For Men',\n",
       " \"White Sneaker For Men's/Boy's Sneakers For Men\",\n",
       " \"Original Luxury Branded Fashionable Men's Casual Walkin...\",\n",
       " 'Sneakers For Men',\n",
       " 'Classic Sneakers For Men',\n",
       " 'Sneakers For Men',\n",
       " 'Modern Trendy Shoes Combo pack of 4 Sneakers For Men',\n",
       " \"Casual , Partywear Sneakers Shoes For Men's And Boys Wh...\",\n",
       " 'Sneakers For Men',\n",
       " 'Sneakers For Men',\n",
       " 'Latest Collection-1216 Stylish Casual Sports Sneakers F...',\n",
       " 'Sneakers For Men',\n",
       " 'Sneakers For Men',\n",
       " 'Sneakers For Men',\n",
       " 'Series 7 Sneakers For Men',\n",
       " 'Sneakers For Men',\n",
       " 'Athleisure Sneakers For Men',\n",
       " \"Men's Sneakers Fashion Lightweight Running Shoes Tennis...\",\n",
       " 'Sneakers For Men',\n",
       " 'luxury fashionable casual sneaker shoes Sneakers For Me...',\n",
       " 'Sneakers For Men',\n",
       " 'Sneakers For Men',\n",
       " 'Shark-41 Sneakers For Men',\n",
       " \"Original Luxury Branded Fashionable Men's Casual Walkin...\",\n",
       " 'Classic Sneakers For Men',\n",
       " 'Sneakers For Men',\n",
       " 'FASHION Sneakers For Men',\n",
       " 'Sneakers For Men',\n",
       " 'Sneakers For Men']"
      ]
     },
     "execution_count": 734,
     "metadata": {},
     "output_type": "execute_result"
    }
   ],
   "source": [
    "description1 = []\n",
    "for i in desc1:\n",
    "    description1.append(i.text)\n",
    "description1"
   ]
  },
  {
   "cell_type": "code",
   "execution_count": 735,
   "id": "a516d8c0",
   "metadata": {},
   "outputs": [
    {
     "data": {
      "text/plain": [
       "40"
      ]
     },
     "execution_count": 735,
     "metadata": {},
     "output_type": "execute_result"
    }
   ],
   "source": [
    "pr1 = driver.find_elements_by_xpath('//div[@class=\"_30jeq3\"]')\n",
    "len(pr1)"
   ]
  },
  {
   "cell_type": "code",
   "execution_count": 736,
   "id": "94845353",
   "metadata": {},
   "outputs": [
    {
     "data": {
      "text/plain": [
       "['₹569',\n",
       " '₹1,648',\n",
       " '₹398',\n",
       " '₹220',\n",
       " '₹499',\n",
       " '₹449',\n",
       " '₹242',\n",
       " '₹1,258',\n",
       " '₹398',\n",
       " '₹299',\n",
       " '₹426',\n",
       " '₹1,708',\n",
       " '₹345',\n",
       " '₹499',\n",
       " '₹299',\n",
       " '₹1,678',\n",
       " '₹359',\n",
       " '₹948',\n",
       " '₹348',\n",
       " '₹828',\n",
       " '₹189',\n",
       " '₹199',\n",
       " '₹398',\n",
       " '₹1,258',\n",
       " '₹640',\n",
       " '₹444',\n",
       " '₹549',\n",
       " '₹699',\n",
       " '₹499',\n",
       " '₹599',\n",
       " '₹449',\n",
       " '₹1,258',\n",
       " '₹649',\n",
       " '₹444',\n",
       " '₹499',\n",
       " '₹1,678',\n",
       " '₹399',\n",
       " '₹299',\n",
       " '₹474',\n",
       " '₹699']"
      ]
     },
     "execution_count": 736,
     "metadata": {},
     "output_type": "execute_result"
    }
   ],
   "source": [
    "price1 = []\n",
    "for i in pr1:\n",
    "    price1.append(i.text)\n",
    "price1"
   ]
  },
  {
   "cell_type": "code",
   "execution_count": 737,
   "id": "8000addf",
   "metadata": {},
   "outputs": [
    {
     "data": {
      "text/plain": [
       "40"
      ]
     },
     "execution_count": 737,
     "metadata": {},
     "output_type": "execute_result"
    }
   ],
   "source": [
    "disct1 = driver.find_elements_by_xpath('//div[@class=\"_3Ay6Sb\"]')\n",
    "len(disct1)"
   ]
  },
  {
   "cell_type": "code",
   "execution_count": 738,
   "id": "bed698e6",
   "metadata": {},
   "outputs": [
    {
     "data": {
      "text/plain": [
       "['43% off',\n",
       " '70% off',\n",
       " '60% off',\n",
       " '77% off',\n",
       " '50% off',\n",
       " '65% off',\n",
       " '65% off',\n",
       " '70% off',\n",
       " '60% off',\n",
       " '40% off',\n",
       " '78% off',\n",
       " '70% off',\n",
       " '65% off',\n",
       " '50% off',\n",
       " '70% off',\n",
       " '70% off',\n",
       " '64% off',\n",
       " '36% off',\n",
       " '47% off',\n",
       " '66% off',\n",
       " '62% off',\n",
       " '60% off',\n",
       " '60% off',\n",
       " '70% off',\n",
       " '35% off',\n",
       " '55% off',\n",
       " '45% off',\n",
       " '65% off',\n",
       " '50% off',\n",
       " '70% off',\n",
       " '65% off',\n",
       " '70% off',\n",
       " '56% off',\n",
       " '55% off',\n",
       " '75% off',\n",
       " '70% off',\n",
       " '60% off',\n",
       " '40% off',\n",
       " '52% off',\n",
       " '65% off']"
      ]
     },
     "execution_count": 738,
     "metadata": {},
     "output_type": "execute_result"
    }
   ],
   "source": [
    "discount1 = []\n",
    "for i in disct1:\n",
    "    discount1.append(i.text)\n",
    "discount1"
   ]
  },
  {
   "cell_type": "code",
   "execution_count": 739,
   "id": "1556f74b",
   "metadata": {},
   "outputs": [
    {
     "data": {
      "text/plain": [
       "<selenium.webdriver.remote.webelement.WebElement (session=\"473de88b7bb35e07c3092e9496efdace\", element=\"b22f01ca-1fb3-4b80-bbbb-4730c96bf6b1\")>"
      ]
     },
     "execution_count": 739,
     "metadata": {},
     "output_type": "execute_result"
    }
   ],
   "source": [
    "next_btn = driver.find_element_by_xpath('/html/body/div[1]/div/div[3]/div[1]/div[2]/div[12]/div/div/nav/a[11]/span')\n",
    "next_btn"
   ]
  },
  {
   "cell_type": "code",
   "execution_count": 740,
   "id": "114d9961",
   "metadata": {},
   "outputs": [],
   "source": [
    "next_btn.click()"
   ]
  },
  {
   "cell_type": "code",
   "execution_count": 741,
   "id": "b504bbcf",
   "metadata": {},
   "outputs": [
    {
     "data": {
      "text/plain": [
       "40"
      ]
     },
     "execution_count": 741,
     "metadata": {},
     "output_type": "execute_result"
    }
   ],
   "source": [
    "brnd2 = driver.find_elements_by_xpath('//div[@class=\"_2WkVRV\"]')\n",
    "len(brnd2)"
   ]
  },
  {
   "cell_type": "code",
   "execution_count": 742,
   "id": "50c40730",
   "metadata": {},
   "outputs": [
    {
     "data": {
      "text/plain": [
       "['BRUTON',\n",
       " 'BRUTON',\n",
       " 'believe',\n",
       " 'ESSENCE',\n",
       " 'Numenzo',\n",
       " 'BRUTON',\n",
       " 'Robbie jones',\n",
       " 'ESSENCE',\n",
       " 'BRUTON',\n",
       " 'Robbie jones',\n",
       " 'SPARX',\n",
       " 'JK PORT',\n",
       " 'DUNKASTON',\n",
       " 'WOODLAND',\n",
       " 'aadi',\n",
       " 'Shoes Icon',\n",
       " 'Echor',\n",
       " 'Airland',\n",
       " 'BIRDE',\n",
       " 'RED TAPE',\n",
       " 'World Wear Footwear',\n",
       " 'HRDK',\n",
       " 'Kraasa',\n",
       " 'ASIAN',\n",
       " 'BRUTON',\n",
       " 'KANEGGYE',\n",
       " 'Vellinto',\n",
       " 'K- FOOTLANCE',\n",
       " 'URBANBOX',\n",
       " 'India hub',\n",
       " 'RapidBox',\n",
       " 'RED TAPE',\n",
       " 'Starlinc',\n",
       " 'WHITE WALKERS',\n",
       " 'RapidBox',\n",
       " 'RED TAPE',\n",
       " 'LE GREEM',\n",
       " 'ESSENCE',\n",
       " 'Layasa',\n",
       " 'RED TAPE']"
      ]
     },
     "execution_count": 742,
     "metadata": {},
     "output_type": "execute_result"
    }
   ],
   "source": [
    "B2 = []\n",
    "for i in brnd2:\n",
    "    B2.append(i.text)\n",
    "B2"
   ]
  },
  {
   "cell_type": "code",
   "execution_count": 743,
   "id": "af11c9c5",
   "metadata": {},
   "outputs": [
    {
     "data": {
      "text/plain": [
       "40"
      ]
     },
     "execution_count": 743,
     "metadata": {},
     "output_type": "execute_result"
    }
   ],
   "source": [
    "desc2 = driver.find_elements_by_xpath('//a[@class=\"IRpwTa\" or @class=\"IRpwTa _2-ICcC\"]')\n",
    "len(desc2)"
   ]
  },
  {
   "cell_type": "code",
   "execution_count": 744,
   "id": "8d46b821",
   "metadata": {},
   "outputs": [
    {
     "data": {
      "text/plain": [
       "['Lightweight Pack Of 1 Trendy Sneakers Sneakers Sneakers...',\n",
       " 'Combo Pack of 5 Casual Sneakers With Sneakers For Men',\n",
       " 'Sneakers for men(black_6) Sneakers For Men',\n",
       " 'Luxury Fashionable casual sneaker shoes and shoes Sneak...',\n",
       " 'White Sneaker For Men Sneakers For Men',\n",
       " 'Modern Trendy Sneakers Shoes Sneakers For Men',\n",
       " 'Casual Sneakers Black Shoes For Men Sneakers For Men',\n",
       " 'Sneakers For Men',\n",
       " 'Modern & Trendy Collection Combo Pack of 02 Shoes for M...',\n",
       " 'Sneakers For Men',\n",
       " 'SM439G Sneakers For Men',\n",
       " 'Fashionable Mens Grey Casual Shoes, Party Wear Shoe,For...',\n",
       " 'Sneakers For Men',\n",
       " 'Sneakers For Men',\n",
       " 'Sneakers For Men',\n",
       " 'Sneakers For Men',\n",
       " \"Echor Men's Sneakers Fashion Lightweight Running Shoes ...\",\n",
       " 'Sneakers Shoes For Men Black Sneakers For Men',\n",
       " 'Combo Pack of 2 Casual shoes Sneakers For Men',\n",
       " 'Classic Sneakers For Men',\n",
       " 'Combo Pack of 4 Latest Collection Stylish Casual Loafer...',\n",
       " 'Sneakers For Men',\n",
       " 'Shark-41 Sneakers For Men',\n",
       " 'Sneakers For Men',\n",
       " 'Combo Pack Of 2 Latest Stylish Casual Shoes for Men Lac...',\n",
       " 'Sneakers For Men',\n",
       " 'Casual Sneakrs For Men Sneakers For Men',\n",
       " 'Sneakers For Men',\n",
       " 'STYLISH-WHITE-9 Sneakers For Men',\n",
       " 'Luxury Fashionable casual sneaker shoes Sneakers For Me...',\n",
       " 'Stylish & Trendy Sneakers For Men',\n",
       " 'Sneakers For Men',\n",
       " 'Sneakers For Men',\n",
       " 'Sneakers For Men',\n",
       " 'Sneakers For Men',\n",
       " 'Sneakers For Men',\n",
       " 'Comfortable & Ultra Light Weight Sneaker Sneakers For M...',\n",
       " 'Sneakers For Men',\n",
       " 'Walking shoes,Casual Sneakers For Men',\n",
       " 'Sneakers For Men']"
      ]
     },
     "execution_count": 744,
     "metadata": {},
     "output_type": "execute_result"
    }
   ],
   "source": [
    "description2 = []\n",
    "for i in desc2:\n",
    "    description2.append(i.text)\n",
    "description2\n"
   ]
  },
  {
   "cell_type": "code",
   "execution_count": 745,
   "id": "96c7b584",
   "metadata": {},
   "outputs": [
    {
     "data": {
      "text/plain": [
       "40"
      ]
     },
     "execution_count": 745,
     "metadata": {},
     "output_type": "execute_result"
    }
   ],
   "source": [
    "pr2 = driver.find_elements_by_xpath('//div[@class=\"_30jeq3\"]')\n",
    "len(pr2)\n"
   ]
  },
  {
   "cell_type": "code",
   "execution_count": 746,
   "id": "1f591f5e",
   "metadata": {},
   "outputs": [
    {
     "data": {
      "text/plain": [
       "['₹178',\n",
       " '₹715',\n",
       " '₹424',\n",
       " '₹399',\n",
       " '₹407',\n",
       " '₹299',\n",
       " '₹451',\n",
       " '₹399',\n",
       " '₹447',\n",
       " '₹499',\n",
       " '₹799',\n",
       " '₹599',\n",
       " '₹374',\n",
       " '₹1,497',\n",
       " '₹399',\n",
       " '₹259',\n",
       " '₹499',\n",
       " '₹190',\n",
       " '₹509',\n",
       " '₹1,678',\n",
       " '₹599',\n",
       " '₹367',\n",
       " '₹449',\n",
       " '₹649',\n",
       " '₹530',\n",
       " '₹399',\n",
       " '₹749',\n",
       " '₹440',\n",
       " '₹166',\n",
       " '₹429',\n",
       " '₹630',\n",
       " '₹1,379',\n",
       " '₹237',\n",
       " '₹599',\n",
       " '₹630',\n",
       " '₹1,409',\n",
       " '₹426',\n",
       " '₹399',\n",
       " '₹399',\n",
       " '₹1,258']"
      ]
     },
     "execution_count": 746,
     "metadata": {},
     "output_type": "execute_result"
    }
   ],
   "source": [
    "price2 = []\n",
    "for i in pr2:\n",
    "    price2.append(i.text)\n",
    "price2"
   ]
  },
  {
   "cell_type": "code",
   "execution_count": 747,
   "id": "bdaa1174",
   "metadata": {},
   "outputs": [
    {
     "data": {
      "text/plain": [
       "40"
      ]
     },
     "execution_count": 747,
     "metadata": {},
     "output_type": "execute_result"
    }
   ],
   "source": [
    "disct2 = driver.find_elements_by_xpath('//div[@class=\"_3Ay6Sb\"]')\n",
    "len(disct2)"
   ]
  },
  {
   "cell_type": "code",
   "execution_count": 410,
   "id": "def3b6dd",
   "metadata": {},
   "outputs": [
    {
     "ename": "SyntaxError",
     "evalue": "invalid syntax (Temp/ipykernel_28668/1553603250.py, line 3)",
     "output_type": "error",
     "traceback": [
      "\u001b[1;36m  File \u001b[1;32m\"C:\\Users\\praja\\AppData\\Local\\Temp/ipykernel_28668/1553603250.py\"\u001b[1;36m, line \u001b[1;32m3\u001b[0m\n\u001b[1;33m    len(i.text)>0?discount2.append(i.text):discount2.append(null)\u001b[0m\n\u001b[1;37m                 ^\u001b[0m\n\u001b[1;31mSyntaxError\u001b[0m\u001b[1;31m:\u001b[0m invalid syntax\n"
     ]
    }
   ],
   "source": [
    "discount2 = []\n",
    "for i in disct2:\n",
    "    len(i.text)>0?discount2.append(i.text):discount2.append(null)\n",
    "discount2"
   ]
  },
  {
   "cell_type": "code",
   "execution_count": 276,
   "id": "e6a36e52",
   "metadata": {},
   "outputs": [
    {
     "data": {
      "text/plain": [
       "<selenium.webdriver.remote.webelement.WebElement (session=\"d57f866b9479d972e7af1211829a8ce1\", element=\"45ed2d8e-e2df-4c3f-9c14-7fcc75f0762b\")>"
      ]
     },
     "execution_count": 276,
     "metadata": {},
     "output_type": "execute_result"
    }
   ],
   "source": [
    "next_btn = driver.find_element_by_xpath('/html/body/div[1]/div/div[3]/div[1]/div[2]/div[12]/div/div/nav/a[12]/span')\n",
    "next_btn"
   ]
  },
  {
   "cell_type": "code",
   "execution_count": 277,
   "id": "4f92bbff",
   "metadata": {},
   "outputs": [],
   "source": [
    "next_btn.click()"
   ]
  },
  {
   "cell_type": "code",
   "execution_count": 278,
   "id": "8d150393",
   "metadata": {},
   "outputs": [
    {
     "data": {
      "text/plain": [
       "40"
      ]
     },
     "execution_count": 278,
     "metadata": {},
     "output_type": "execute_result"
    }
   ],
   "source": [
    "brnd3 = driver.find_elements_by_xpath('//div[@class=\"_2WkVRV\"]')\n",
    "len(brnd3)"
   ]
  },
  {
   "cell_type": "code",
   "execution_count": 279,
   "id": "c6eeb101",
   "metadata": {},
   "outputs": [
    {
     "data": {
      "text/plain": [
       "['Layasa',\n",
       " 'RODDICK SHOES',\n",
       " 'Zsyto',\n",
       " 'RED TAPE',\n",
       " 'BIRDE',\n",
       " 'WHITE WALKERS',\n",
       " 'SPARX',\n",
       " 'RED TAPE',\n",
       " 'PUMA',\n",
       " 'Xtoon',\n",
       " 'ASIAN',\n",
       " 'Advick',\n",
       " 'PUMA',\n",
       " 'World Wear Footwear',\n",
       " 'Robbie jones',\n",
       " 'RED TAPE',\n",
       " 'KNIGHT WALKERS',\n",
       " 'BIRDE',\n",
       " 'RapidBox',\n",
       " 'RED TAPE']"
      ]
     },
     "execution_count": 279,
     "metadata": {},
     "output_type": "execute_result"
    }
   ],
   "source": [
    "B3 = []\n",
    "for i in brnd3:\n",
    "    B3.append(i.text)\n",
    "B3 = B3[0:20]\n",
    "B3"
   ]
  },
  {
   "cell_type": "code",
   "execution_count": 282,
   "id": "7cce8781",
   "metadata": {},
   "outputs": [
    {
     "data": {
      "text/plain": [
       "40"
      ]
     },
     "execution_count": 282,
     "metadata": {},
     "output_type": "execute_result"
    }
   ],
   "source": [
    "desc3 = driver.find_elements_by_xpath('//a[@class=\"IRpwTa\" or @class=\"IRpwTa _2-ICcC\"]')\n",
    "len(desc3)"
   ]
  },
  {
   "cell_type": "code",
   "execution_count": 283,
   "id": "432ecc7d",
   "metadata": {},
   "outputs": [
    {
     "data": {
      "text/plain": [
       "['Walking shoes,Casual Sneakers For Men',\n",
       " 'Fashion Outdoor Canvas Casual Light Weight Lace-up Even...',\n",
       " 'Sneakers For Men',\n",
       " 'Sneakers For Men',\n",
       " 'Combo Pack of 2 Casual shoes Sneakers For Men',\n",
       " 'Stylish & Trending Outdoor Walking Comfortable Sneakers...',\n",
       " 'SM-482 Sneakers For Men',\n",
       " 'Sneakers For Men',\n",
       " 'Glory Sneakers For Men',\n",
       " \"white Casual shoes,Sneakers for men's Sneakers For Men\",\n",
       " 'Sneakers For Men',\n",
       " 'Sneakers For Men',\n",
       " 'Deco Sneakers For Men',\n",
       " '5011-Latest Collection Stylish Casual Loafer Sneakers S...',\n",
       " 'Casual Sneakers White Shoes For Men Sneakers For Men',\n",
       " 'Classic Sneakers For Men',\n",
       " 'Sneakers For Men',\n",
       " 'Combo Pack of 2 Casual Shoes Sneakers For Men',\n",
       " 'Sneakers For Men',\n",
       " 'Sneakers For Men']"
      ]
     },
     "execution_count": 283,
     "metadata": {},
     "output_type": "execute_result"
    }
   ],
   "source": [
    "description3 = []\n",
    "for i in desc3:\n",
    "    description3.append(i.text)\n",
    "description3 = description3[0:20]\n",
    "description3"
   ]
  },
  {
   "cell_type": "code",
   "execution_count": 284,
   "id": "4ee6abc3",
   "metadata": {},
   "outputs": [
    {
     "data": {
      "text/plain": [
       "40"
      ]
     },
     "execution_count": 284,
     "metadata": {},
     "output_type": "execute_result"
    }
   ],
   "source": [
    "pr3 = driver.find_elements_by_xpath('//div[@class=\"_30jeq3\"]')\n",
    "len(pr3)"
   ]
  },
  {
   "cell_type": "code",
   "execution_count": 285,
   "id": "24d56b0d",
   "metadata": {},
   "outputs": [
    {
     "data": {
      "text/plain": [
       "['₹399',\n",
       " '₹499',\n",
       " '₹328',\n",
       " '₹1,648',\n",
       " '₹509',\n",
       " '₹599',\n",
       " '₹1,134',\n",
       " '₹1,258',\n",
       " '₹2,984',\n",
       " '₹498',\n",
       " '₹649',\n",
       " '₹828',\n",
       " '₹1,468',\n",
       " '₹259',\n",
       " '₹474',\n",
       " '₹1,678',\n",
       " '₹649',\n",
       " '₹535',\n",
       " '₹680',\n",
       " '₹1,258']"
      ]
     },
     "execution_count": 285,
     "metadata": {},
     "output_type": "execute_result"
    }
   ],
   "source": [
    "price3 = []\n",
    "for i in pr3:\n",
    "    price3.append(i.text)\n",
    "price3 = price3[0:20]\n",
    "price3"
   ]
  },
  {
   "cell_type": "code",
   "execution_count": 286,
   "id": "792e38b9",
   "metadata": {},
   "outputs": [
    {
     "data": {
      "text/plain": [
       "39"
      ]
     },
     "execution_count": 286,
     "metadata": {},
     "output_type": "execute_result"
    }
   ],
   "source": [
    "disct3 = driver.find_elements_by_xpath('//div[@class=\"_3Ay6Sb\"]')\n",
    "len(disct3)"
   ]
  },
  {
   "cell_type": "code",
   "execution_count": 287,
   "id": "95ed224a",
   "metadata": {},
   "outputs": [
    {
     "data": {
      "text/plain": [
       "['60% off',\n",
       " '50% off',\n",
       " '74% off',\n",
       " '70% off',\n",
       " '66% off',\n",
       " '50% off',\n",
       " '15% off',\n",
       " '70% off',\n",
       " '66% off',\n",
       " '50% off',\n",
       " '66% off',\n",
       " '51% off',\n",
       " '48% off',\n",
       " '52% off',\n",
       " '70% off',\n",
       " '56% off',\n",
       " '64% off',\n",
       " '31% off',\n",
       " '70% off',\n",
       " '75% off']"
      ]
     },
     "execution_count": 287,
     "metadata": {},
     "output_type": "execute_result"
    }
   ],
   "source": [
    "discount3 = []\n",
    "for i in disct3:\n",
    "    discount3.append(i.text)\n",
    "discount3 = discount3[0:20]\n",
    "discount3"
   ]
  },
  {
   "cell_type": "code",
   "execution_count": 288,
   "id": "178d793d",
   "metadata": {},
   "outputs": [
    {
     "data": {
      "text/plain": [
       "100"
      ]
     },
     "execution_count": 288,
     "metadata": {},
     "output_type": "execute_result"
    }
   ],
   "source": [
    "brand = B1+B2+B3\n",
    "len(brand)"
   ]
  },
  {
   "cell_type": "code",
   "execution_count": 289,
   "id": "b056f3ed",
   "metadata": {},
   "outputs": [
    {
     "data": {
      "text/plain": [
       "100"
      ]
     },
     "execution_count": 289,
     "metadata": {},
     "output_type": "execute_result"
    }
   ],
   "source": [
    "description = description1+description2+description3\n",
    "len(description)"
   ]
  },
  {
   "cell_type": "code",
   "execution_count": 290,
   "id": "28574467",
   "metadata": {},
   "outputs": [
    {
     "data": {
      "text/plain": [
       "100"
      ]
     },
     "execution_count": 290,
     "metadata": {},
     "output_type": "execute_result"
    }
   ],
   "source": [
    "price = price1+price2+price3\n",
    "len(price)"
   ]
  },
  {
   "cell_type": "code",
   "execution_count": 291,
   "id": "41e6d05c",
   "metadata": {},
   "outputs": [
    {
     "data": {
      "text/plain": [
       "98"
      ]
     },
     "execution_count": 291,
     "metadata": {},
     "output_type": "execute_result"
    }
   ],
   "source": [
    "discount = discount1+discount2+discount3\n",
    "len(discount)"
   ]
  },
  {
   "cell_type": "code",
   "execution_count": 293,
   "id": "963edd98",
   "metadata": {},
   "outputs": [
    {
     "ename": "ValueError",
     "evalue": "Length of values (98) does not match length of index (100)",
     "output_type": "error",
     "traceback": [
      "\u001b[1;31m---------------------------------------------------------------------------\u001b[0m",
      "\u001b[1;31mValueError\u001b[0m                                Traceback (most recent call last)",
      "\u001b[1;32m~\\AppData\\Local\\Temp/ipykernel_28668/1946177663.py\u001b[0m in \u001b[0;36m<module>\u001b[1;34m\u001b[0m\n\u001b[0;32m      3\u001b[0m \u001b[0msneaker\u001b[0m\u001b[1;33m[\u001b[0m\u001b[1;34m'Description'\u001b[0m\u001b[1;33m]\u001b[0m \u001b[1;33m=\u001b[0m \u001b[0mdescription\u001b[0m\u001b[1;33m\u001b[0m\u001b[1;33m\u001b[0m\u001b[0m\n\u001b[0;32m      4\u001b[0m \u001b[0msneaker\u001b[0m\u001b[1;33m[\u001b[0m\u001b[1;34m'Price'\u001b[0m\u001b[1;33m]\u001b[0m \u001b[1;33m=\u001b[0m \u001b[0mprice\u001b[0m\u001b[1;33m\u001b[0m\u001b[1;33m\u001b[0m\u001b[0m\n\u001b[1;32m----> 5\u001b[1;33m \u001b[0msneaker\u001b[0m\u001b[1;33m[\u001b[0m\u001b[1;34m'Discount'\u001b[0m\u001b[1;33m]\u001b[0m \u001b[1;33m=\u001b[0m \u001b[0mdiscount\u001b[0m\u001b[1;33m\u001b[0m\u001b[1;33m\u001b[0m\u001b[0m\n\u001b[0m\u001b[0;32m      6\u001b[0m \u001b[0msneaker\u001b[0m\u001b[1;33m\u001b[0m\u001b[1;33m\u001b[0m\u001b[0m\n",
      "\u001b[1;32m~\\anaconda3\\lib\\site-packages\\pandas\\core\\frame.py\u001b[0m in \u001b[0;36m__setitem__\u001b[1;34m(self, key, value)\u001b[0m\n\u001b[0;32m   3610\u001b[0m         \u001b[1;32melse\u001b[0m\u001b[1;33m:\u001b[0m\u001b[1;33m\u001b[0m\u001b[1;33m\u001b[0m\u001b[0m\n\u001b[0;32m   3611\u001b[0m             \u001b[1;31m# set column\u001b[0m\u001b[1;33m\u001b[0m\u001b[1;33m\u001b[0m\u001b[0m\n\u001b[1;32m-> 3612\u001b[1;33m             \u001b[0mself\u001b[0m\u001b[1;33m.\u001b[0m\u001b[0m_set_item\u001b[0m\u001b[1;33m(\u001b[0m\u001b[0mkey\u001b[0m\u001b[1;33m,\u001b[0m \u001b[0mvalue\u001b[0m\u001b[1;33m)\u001b[0m\u001b[1;33m\u001b[0m\u001b[1;33m\u001b[0m\u001b[0m\n\u001b[0m\u001b[0;32m   3613\u001b[0m \u001b[1;33m\u001b[0m\u001b[0m\n\u001b[0;32m   3614\u001b[0m     \u001b[1;32mdef\u001b[0m \u001b[0m_setitem_slice\u001b[0m\u001b[1;33m(\u001b[0m\u001b[0mself\u001b[0m\u001b[1;33m,\u001b[0m \u001b[0mkey\u001b[0m\u001b[1;33m:\u001b[0m \u001b[0mslice\u001b[0m\u001b[1;33m,\u001b[0m \u001b[0mvalue\u001b[0m\u001b[1;33m)\u001b[0m\u001b[1;33m:\u001b[0m\u001b[1;33m\u001b[0m\u001b[1;33m\u001b[0m\u001b[0m\n",
      "\u001b[1;32m~\\anaconda3\\lib\\site-packages\\pandas\\core\\frame.py\u001b[0m in \u001b[0;36m_set_item\u001b[1;34m(self, key, value)\u001b[0m\n\u001b[0;32m   3782\u001b[0m         \u001b[0mensure\u001b[0m \u001b[0mhomogeneity\u001b[0m\u001b[1;33m.\u001b[0m\u001b[1;33m\u001b[0m\u001b[1;33m\u001b[0m\u001b[0m\n\u001b[0;32m   3783\u001b[0m         \"\"\"\n\u001b[1;32m-> 3784\u001b[1;33m         \u001b[0mvalue\u001b[0m \u001b[1;33m=\u001b[0m \u001b[0mself\u001b[0m\u001b[1;33m.\u001b[0m\u001b[0m_sanitize_column\u001b[0m\u001b[1;33m(\u001b[0m\u001b[0mvalue\u001b[0m\u001b[1;33m)\u001b[0m\u001b[1;33m\u001b[0m\u001b[1;33m\u001b[0m\u001b[0m\n\u001b[0m\u001b[0;32m   3785\u001b[0m \u001b[1;33m\u001b[0m\u001b[0m\n\u001b[0;32m   3786\u001b[0m         if (\n",
      "\u001b[1;32m~\\anaconda3\\lib\\site-packages\\pandas\\core\\frame.py\u001b[0m in \u001b[0;36m_sanitize_column\u001b[1;34m(self, value)\u001b[0m\n\u001b[0;32m   4507\u001b[0m \u001b[1;33m\u001b[0m\u001b[0m\n\u001b[0;32m   4508\u001b[0m         \u001b[1;32mif\u001b[0m \u001b[0mis_list_like\u001b[0m\u001b[1;33m(\u001b[0m\u001b[0mvalue\u001b[0m\u001b[1;33m)\u001b[0m\u001b[1;33m:\u001b[0m\u001b[1;33m\u001b[0m\u001b[1;33m\u001b[0m\u001b[0m\n\u001b[1;32m-> 4509\u001b[1;33m             \u001b[0mcom\u001b[0m\u001b[1;33m.\u001b[0m\u001b[0mrequire_length_match\u001b[0m\u001b[1;33m(\u001b[0m\u001b[0mvalue\u001b[0m\u001b[1;33m,\u001b[0m \u001b[0mself\u001b[0m\u001b[1;33m.\u001b[0m\u001b[0mindex\u001b[0m\u001b[1;33m)\u001b[0m\u001b[1;33m\u001b[0m\u001b[1;33m\u001b[0m\u001b[0m\n\u001b[0m\u001b[0;32m   4510\u001b[0m         \u001b[1;32mreturn\u001b[0m \u001b[0msanitize_array\u001b[0m\u001b[1;33m(\u001b[0m\u001b[0mvalue\u001b[0m\u001b[1;33m,\u001b[0m \u001b[0mself\u001b[0m\u001b[1;33m.\u001b[0m\u001b[0mindex\u001b[0m\u001b[1;33m,\u001b[0m \u001b[0mcopy\u001b[0m\u001b[1;33m=\u001b[0m\u001b[1;32mTrue\u001b[0m\u001b[1;33m,\u001b[0m \u001b[0mallow_2d\u001b[0m\u001b[1;33m=\u001b[0m\u001b[1;32mTrue\u001b[0m\u001b[1;33m)\u001b[0m\u001b[1;33m\u001b[0m\u001b[1;33m\u001b[0m\u001b[0m\n\u001b[0;32m   4511\u001b[0m \u001b[1;33m\u001b[0m\u001b[0m\n",
      "\u001b[1;32m~\\anaconda3\\lib\\site-packages\\pandas\\core\\common.py\u001b[0m in \u001b[0;36mrequire_length_match\u001b[1;34m(data, index)\u001b[0m\n\u001b[0;32m    529\u001b[0m     \"\"\"\n\u001b[0;32m    530\u001b[0m     \u001b[1;32mif\u001b[0m \u001b[0mlen\u001b[0m\u001b[1;33m(\u001b[0m\u001b[0mdata\u001b[0m\u001b[1;33m)\u001b[0m \u001b[1;33m!=\u001b[0m \u001b[0mlen\u001b[0m\u001b[1;33m(\u001b[0m\u001b[0mindex\u001b[0m\u001b[1;33m)\u001b[0m\u001b[1;33m:\u001b[0m\u001b[1;33m\u001b[0m\u001b[1;33m\u001b[0m\u001b[0m\n\u001b[1;32m--> 531\u001b[1;33m         raise ValueError(\n\u001b[0m\u001b[0;32m    532\u001b[0m             \u001b[1;34m\"Length of values \"\u001b[0m\u001b[1;33m\u001b[0m\u001b[1;33m\u001b[0m\u001b[0m\n\u001b[0;32m    533\u001b[0m             \u001b[1;34mf\"({len(data)}) \"\u001b[0m\u001b[1;33m\u001b[0m\u001b[1;33m\u001b[0m\u001b[0m\n",
      "\u001b[1;31mValueError\u001b[0m: Length of values (98) does not match length of index (100)"
     ]
    }
   ],
   "source": [
    "sneaker = pd.DataFrame()\n",
    "sneaker['Brand'] = brand\n",
    "sneaker['Description'] = description\n",
    "sneaker['Price'] = price\n",
    "sneaker['Discount'] = discount\n",
    "sneaker"
   ]
  },
  {
   "cell_type": "markdown",
   "id": "3ac9739c",
   "metadata": {},
   "source": [
    "Go to the link - https://www.myntra.com/shoes\n",
    "Set Price filter to “Rs. 7149 to Rs. 14099 ” , Color filter to “Black”, as shown inthe below image."
   ]
  },
  {
   "cell_type": "code",
   "execution_count": 749,
   "id": "e213fada",
   "metadata": {},
   "outputs": [],
   "source": [
    "driver = webdriver.Chrome(r'C:\\Users\\praja\\Downloads\\chromedriver_win32\\chromedriver.exe')"
   ]
  },
  {
   "cell_type": "code",
   "execution_count": 750,
   "id": "7684d74a",
   "metadata": {},
   "outputs": [],
   "source": [
    "url = 'https://www.myntra.com/shoes'\n",
    "driver.get(url)"
   ]
  },
  {
   "cell_type": "code",
   "execution_count": 751,
   "id": "9d6a32dc",
   "metadata": {},
   "outputs": [
    {
     "data": {
      "text/plain": [
       "<selenium.webdriver.remote.webelement.WebElement (session=\"8e3f41f214d447f82bc4e3717b2eddcf\", element=\"3c88ffae-51d1-4199-a680-7870c2aa4e39\")>"
      ]
     },
     "execution_count": 751,
     "metadata": {},
     "output_type": "execute_result"
    }
   ],
   "source": [
    "price_filter = driver.find_element_by_xpath('/html/body/div[2]/div/div[1]/main/div[3]/div[1]/section/div/div[5]/ul/li[2]/label')\n",
    "price_filter"
   ]
  },
  {
   "cell_type": "code",
   "execution_count": 752,
   "id": "c4b1973c",
   "metadata": {},
   "outputs": [],
   "source": [
    "price_filter.click()"
   ]
  },
  {
   "cell_type": "code",
   "execution_count": 753,
   "id": "7f956598",
   "metadata": {},
   "outputs": [
    {
     "data": {
      "text/plain": [
       "<selenium.webdriver.remote.webelement.WebElement (session=\"8e3f41f214d447f82bc4e3717b2eddcf\", element=\"98af7319-e82a-4d5f-a888-2b1f5353812b\")>"
      ]
     },
     "execution_count": 753,
     "metadata": {},
     "output_type": "execute_result"
    }
   ],
   "source": [
    "color_filter = driver.find_element_by_xpath('/html/body/div[2]/div/div[1]/main/div[3]/div[1]/section/div/div[6]/ul/li[1]/label')\n",
    "color_filter"
   ]
  },
  {
   "cell_type": "code",
   "execution_count": 754,
   "id": "507960b7",
   "metadata": {},
   "outputs": [],
   "source": [
    "color_filter.click()"
   ]
  },
  {
   "cell_type": "code",
   "execution_count": 757,
   "id": "05deb46e",
   "metadata": {},
   "outputs": [
    {
     "data": {
      "text/plain": [
       "50"
      ]
     },
     "execution_count": 757,
     "metadata": {},
     "output_type": "execute_result"
    }
   ],
   "source": [
    "brnd1 = driver.find_elements_by_xpath('//h3[@class=\"product-brand\"]')\n",
    "len(brnd1)"
   ]
  },
  {
   "cell_type": "code",
   "execution_count": 758,
   "id": "05b29002",
   "metadata": {},
   "outputs": [
    {
     "data": {
      "text/plain": [
       "['Street Style Store',\n",
       " 'HRX by Hrithik Roshan',\n",
       " 'Anouk',\n",
       " 'AfroJack',\n",
       " 'MENGLER',\n",
       " 'Nike',\n",
       " 'ZAPATOZ',\n",
       " 'mr.wonker',\n",
       " 'Puma',\n",
       " 'one8 x PUMA',\n",
       " 'Fentacia',\n",
       " 'El Paso',\n",
       " 'HRX by Hrithik Roshan',\n",
       " 'HRX by Hrithik Roshan',\n",
       " 'Ducati',\n",
       " 'Fentacia',\n",
       " 'Red Tape',\n",
       " 'Mactree',\n",
       " 'Puma',\n",
       " 'U.S. Polo Assn.',\n",
       " 'Fentacia',\n",
       " 'Nike',\n",
       " 'Puma',\n",
       " 'Eego Italy',\n",
       " 'Mactree',\n",
       " 'HRX by Hrithik Roshan',\n",
       " 'Puma',\n",
       " 'AfroJack',\n",
       " 'El Paso',\n",
       " 'Campus',\n",
       " 'ELIXIR MAN',\n",
       " 'Ducati',\n",
       " 'Sir Corbett',\n",
       " 'CLYMB',\n",
       " 'Provogue',\n",
       " 'El Paso',\n",
       " 'Alishtezia',\n",
       " 'Nike',\n",
       " 'Converse',\n",
       " 'Anouk',\n",
       " 'Puma',\n",
       " 'HRX by Hrithik Roshan',\n",
       " 'Alishtezia',\n",
       " 'one8 x PUMA',\n",
       " 'Shezone',\n",
       " 'mr.wonker',\n",
       " 'HRX by Hrithik Roshan',\n",
       " 'HRX by Hrithik Roshan',\n",
       " 'Puma',\n",
       " 'HRX by Hrithik Roshan']"
      ]
     },
     "execution_count": 758,
     "metadata": {},
     "output_type": "execute_result"
    }
   ],
   "source": [
    "br1 = []\n",
    "for i in brnd1:\n",
    "    br1.append(i.text)\n",
    "br1"
   ]
  },
  {
   "cell_type": "code",
   "execution_count": 759,
   "id": "81d3dc99",
   "metadata": {},
   "outputs": [
    {
     "data": {
      "text/plain": [
       "50"
      ]
     },
     "execution_count": 759,
     "metadata": {},
     "output_type": "execute_result"
    }
   ],
   "source": [
    "descrpt1 = driver.find_elements_by_xpath('//h4[@class=\"product-product\"]')\n",
    "len(descrpt1)"
   ]
  },
  {
   "cell_type": "code",
   "execution_count": 760,
   "id": "8ea7ffc9",
   "metadata": {},
   "outputs": [
    {
     "data": {
      "text/plain": [
       "['Women Suede High-Top Flat Boots',\n",
       " 'Men FlexStreet Athleisure Shoe',\n",
       " 'Men Solid Tasseled Loafers',\n",
       " 'Men Colourblocked Sneakers',\n",
       " 'Men Walking Shoes',\n",
       " 'Men Court Lite 2 Tennis Shoes',\n",
       " 'Women Heeled Boots',\n",
       " 'Men Running Shoes',\n",
       " 'Men Propel 3D IDP Sneakers',\n",
       " 'Men Focus One8 IDP Run Shoes',\n",
       " 'Men Woven Flat Boots',\n",
       " 'Women Solid Heeled Boots',\n",
       " 'Men Solid Sneakers',\n",
       " 'Men Urban Street Shoes',\n",
       " 'Men Solid Mid-Top Sneakers',\n",
       " 'Men Lightweight Flat Boots',\n",
       " 'Men Solid Leather Derbys',\n",
       " 'Men Solid Leather Loafers',\n",
       " 'Men Black Sneakers',\n",
       " 'Men LEBRON 2.0 Walking Shoes',\n",
       " 'Men Formal Loafers',\n",
       " 'Unisex PRECISION V FLYEASE',\n",
       " 'Men Liberate NITRO Running',\n",
       " 'Men Trekking Shoes',\n",
       " 'Men Suede Loafers',\n",
       " 'Men Metalite Running Shoe',\n",
       " 'Women Running Shoes',\n",
       " 'Men Slip-On Sneakers Casual Shoes',\n",
       " 'Women High-Top Flat Boots',\n",
       " 'Men Running Shoes',\n",
       " 'Men Sneakers',\n",
       " 'Men Solid Sneakers',\n",
       " 'Semi-Formal Shoes',\n",
       " 'Men Running Shoes',\n",
       " 'Men Solid Horsebit Loafers',\n",
       " 'Women Textured Flat Boots',\n",
       " 'Woman Black Block Heeled Boots',\n",
       " 'Kids Revolution 4 Running',\n",
       " 'Men All Star Sneakers',\n",
       " 'Men Textured Mojaris',\n",
       " 'Men Clasp IDP Sneakers',\n",
       " 'Men Urban Street Shoes',\n",
       " 'Women Walking Shoes',\n",
       " 'Men Trot IDP Slip-on Run Shoes',\n",
       " 'Stiletto Pumps',\n",
       " 'Men Solid Formal Loafers',\n",
       " 'Marble Knit Running Shoes',\n",
       " 'Men Fly Sneaker',\n",
       " 'Men Fire Run IDP Sneakers',\n",
       " 'Women Running Shoes']"
      ]
     },
     "execution_count": 760,
     "metadata": {},
     "output_type": "execute_result"
    }
   ],
   "source": [
    "descript1 = []\n",
    "for i in descrpt1:\n",
    "    descript1.append(i.text)\n",
    "descript1"
   ]
  },
  {
   "cell_type": "code",
   "execution_count": 761,
   "id": "1f3c8800",
   "metadata": {},
   "outputs": [
    {
     "data": {
      "text/plain": [
       "50"
      ]
     },
     "execution_count": 761,
     "metadata": {},
     "output_type": "execute_result"
    }
   ],
   "source": [
    "pr1 = driver.find_elements_by_xpath('//div[@class=\"product-price\"]')\n",
    "len(pr1)"
   ]
  },
  {
   "cell_type": "code",
   "execution_count": 762,
   "id": "aedbabbe",
   "metadata": {},
   "outputs": [
    {
     "data": {
      "text/plain": [
       "['Rs. 1199',\n",
       " 'Rs. 1959',\n",
       " 'Rs. 1399',\n",
       " 'Rs. 749',\n",
       " 'Rs. 699',\n",
       " 'Rs. 4995',\n",
       " 'Rs. 689',\n",
       " 'Rs. 739',\n",
       " 'Rs. 2199',\n",
       " 'Rs. 2149',\n",
       " 'Rs. 809',\n",
       " 'Rs. 1082',\n",
       " 'Rs. 1839',\n",
       " 'Rs. 1719',\n",
       " 'Rs. 2384',\n",
       " 'Rs. 1199',\n",
       " 'Rs. 1699',\n",
       " 'Rs. 898',\n",
       " 'Rs. 1799',\n",
       " 'Rs. 2399',\n",
       " 'Rs. 999',\n",
       " 'Rs. 5495',\n",
       " 'Rs. 6499',\n",
       " 'Rs. 999',\n",
       " 'Rs. 898',\n",
       " 'Rs. 2239',\n",
       " 'Rs. 1999',\n",
       " 'Rs. 799',\n",
       " 'Rs. 1234',\n",
       " 'Rs. 996',\n",
       " 'Rs. 579',\n",
       " 'Rs. 2499',\n",
       " 'Rs. 884',\n",
       " 'Rs. 794',\n",
       " 'Rs. 806',\n",
       " 'Rs. 1082',\n",
       " 'Rs. 989',\n",
       " 'Rs. 999',\n",
       " 'Rs. 3249',\n",
       " 'Rs. 1649',\n",
       " 'Rs. 2249',\n",
       " 'Rs. 1759',\n",
       " 'Rs. 799',\n",
       " 'Rs. 2499',\n",
       " 'Rs. 1499',\n",
       " 'Rs. 665',\n",
       " 'Rs. 1619',\n",
       " 'Rs. 1719',\n",
       " 'Rs. 1949',\n",
       " 'Rs. 1119']"
      ]
     },
     "execution_count": 762,
     "metadata": {},
     "output_type": "execute_result"
    }
   ],
   "source": [
    "price1 = []\n",
    "for i in pr1:\n",
    "    price1.append(i.text.split('.')[0]+i.text.split('Rs')[1])\n",
    "price1\n",
    "    \n"
   ]
  },
  {
   "cell_type": "code",
   "execution_count": 763,
   "id": "4ab1d965",
   "metadata": {},
   "outputs": [
    {
     "data": {
      "text/plain": [
       "<selenium.webdriver.remote.webelement.WebElement (session=\"8e3f41f214d447f82bc4e3717b2eddcf\", element=\"2b308580-7712-4714-b993-10b1552104db\")>"
      ]
     },
     "execution_count": 763,
     "metadata": {},
     "output_type": "execute_result"
    }
   ],
   "source": [
    "next_btn = driver.find_element_by_xpath('/html/body/div[2]/div/div[1]/main/div[3]/div[2]/div/div[2]/section/div[2]/ul/li[12]/a')\n",
    "next_btn"
   ]
  },
  {
   "cell_type": "code",
   "execution_count": 764,
   "id": "65947450",
   "metadata": {},
   "outputs": [],
   "source": [
    "next_btn.click()"
   ]
  },
  {
   "cell_type": "code",
   "execution_count": 765,
   "id": "f58336c1",
   "metadata": {},
   "outputs": [
    {
     "data": {
      "text/plain": [
       "50"
      ]
     },
     "execution_count": 765,
     "metadata": {},
     "output_type": "execute_result"
    }
   ],
   "source": [
    "brnd2 = driver.find_elements_by_xpath('//h3[@class=\"product-brand\"]')\n",
    "len(brnd2)"
   ]
  },
  {
   "cell_type": "code",
   "execution_count": 766,
   "id": "f7e06965",
   "metadata": {},
   "outputs": [
    {
     "data": {
      "text/plain": [
       "['HRX by Hrithik Roshan',\n",
       " 'Puma',\n",
       " 'HRX by Hrithik Roshan',\n",
       " 'AfroJack',\n",
       " 'House of Pataudi',\n",
       " 'Roadster',\n",
       " 'San Frissco',\n",
       " 'HRX by Hrithik Roshan',\n",
       " 'her by invictus',\n",
       " 'Mactree',\n",
       " 'ZAPATOZ',\n",
       " 'Shoetopia',\n",
       " 'Domyos By Decathlon',\n",
       " 'Fentacia',\n",
       " 'HRX by Hrithik Roshan',\n",
       " 'Puma',\n",
       " 'mr.wonker',\n",
       " 'HRX by Hrithik Roshan',\n",
       " 'Puma',\n",
       " 'U.S. Polo Assn.',\n",
       " 'HRX by Hrithik Roshan',\n",
       " 'U.S. Polo Assn.',\n",
       " 'HRX by Hrithik Roshan',\n",
       " 'Campus',\n",
       " 'Mactree',\n",
       " 'Metro',\n",
       " 'San Frissco',\n",
       " 'Mactree',\n",
       " 'Vishudh',\n",
       " 'Mochi',\n",
       " 'Slazenger',\n",
       " 'Red Tape',\n",
       " 'HIGHLANDER',\n",
       " 'HIGHLANDER',\n",
       " 'Slazenger',\n",
       " 'Domyos By Decathlon',\n",
       " 'Slazenger',\n",
       " 'CLYMB',\n",
       " 'Slazenger',\n",
       " 'Mast & Harbour',\n",
       " 'Alishtezia',\n",
       " 'Teakwood Leathers',\n",
       " 'AfroJack',\n",
       " 'Mactree',\n",
       " 'HRX by Hrithik Roshan',\n",
       " 'Red Tape',\n",
       " 'DEAS',\n",
       " 'House of Pataudi',\n",
       " 'Vishudh',\n",
       " 'Sparx']"
      ]
     },
     "execution_count": 766,
     "metadata": {},
     "output_type": "execute_result"
    }
   ],
   "source": [
    "br2 = []\n",
    "for i in brnd2:\n",
    "    br2.append(i.text)\n",
    "br2"
   ]
  },
  {
   "cell_type": "code",
   "execution_count": 767,
   "id": "90854f7a",
   "metadata": {},
   "outputs": [
    {
     "data": {
      "text/plain": [
       "50"
      ]
     },
     "execution_count": 767,
     "metadata": {},
     "output_type": "execute_result"
    }
   ],
   "source": [
    "descrpt2 = driver.find_elements_by_xpath('//h4[@class=\"product-product\"]')\n",
    "len(descrpt2)"
   ]
  },
  {
   "cell_type": "code",
   "execution_count": 768,
   "id": "559df70d",
   "metadata": {},
   "outputs": [
    {
     "data": {
      "text/plain": [
       "['Men Fly Sneaker',\n",
       " 'Men Fire Run IDP Sneakers',\n",
       " 'Women Running Shoes',\n",
       " 'Men Printed Sneakers',\n",
       " 'Men Leather Textured Mules',\n",
       " 'Men Denim Slip-On Sneakers',\n",
       " 'Men Semi-Formal Slip-Ons',\n",
       " 'Men Knit Run 1.0 Running Shoe',\n",
       " 'Women Croc Textured Pumps',\n",
       " 'Men Solid Genuine Leather Formal Slip-Ons',\n",
       " 'Women Walking Shoes',\n",
       " 'Women Walking Shoes',\n",
       " 'Men Training & Gym Shoes',\n",
       " 'Men Perforations Loafers',\n",
       " 'Women Fly Sneakers',\n",
       " 'Men Trackracer 2.0 IDP Sneaker',\n",
       " 'Men Running Shoes',\n",
       " 'Men Alpha Running shoe',\n",
       " 'Unisex Striped Sneakers',\n",
       " 'Men Slip-On Sneakers',\n",
       " 'Men Urban Outdoor Running Shoe',\n",
       " 'Men Colourblocked Sneakers',\n",
       " 'Men Hoop Life Sneakers',\n",
       " 'Men Running Shoes',\n",
       " 'Men Solid Genuine Leather Formal Loafers',\n",
       " 'Women Sandals',\n",
       " 'Men Solid Formal Loafers',\n",
       " 'Men Slip-On Sneakers',\n",
       " 'Women Heels',\n",
       " 'Men Solid Leather Formal Derbys',\n",
       " 'Men Woven Design Running Shoes',\n",
       " 'Unisex Kids Walking Shoes',\n",
       " 'Men Woven Design Sneakers',\n",
       " 'Men Sneakers',\n",
       " 'Men Woven Design Running Shoes',\n",
       " 'Fitness Slip-on Sports Shoes',\n",
       " 'Men Woven Design Running Shoes',\n",
       " 'Men Running Shoes',\n",
       " 'Men Woven Design Running Shoes',\n",
       " 'Men Slip-On Sneakers',\n",
       " 'Women Suede Block Sandals',\n",
       " 'Men Flat Boots',\n",
       " 'Men Slip-On Sneakers',\n",
       " 'Men Solid Genuine Leather Formal Derbys',\n",
       " 'Men Woven Design Sneakers',\n",
       " 'Men Solid Leather Formal Derbys',\n",
       " 'Women Mules Flats',\n",
       " 'Men Embroidered Mojaris',\n",
       " 'Women Open Toe Flats',\n",
       " 'Men SM-487 Running Shoes']"
      ]
     },
     "execution_count": 768,
     "metadata": {},
     "output_type": "execute_result"
    }
   ],
   "source": [
    "descript2 = []\n",
    "for i in descrpt2:\n",
    "    descript2.append(i.text)\n",
    "descript2"
   ]
  },
  {
   "cell_type": "code",
   "execution_count": 769,
   "id": "83d19812",
   "metadata": {},
   "outputs": [
    {
     "data": {
      "text/plain": [
       "50"
      ]
     },
     "execution_count": 769,
     "metadata": {},
     "output_type": "execute_result"
    }
   ],
   "source": [
    "pr2 = driver.find_elements_by_xpath('//div[@class=\"product-price\"]')\n",
    "len(pr2)"
   ]
  },
  {
   "cell_type": "code",
   "execution_count": 770,
   "id": "dc43a187",
   "metadata": {},
   "outputs": [
    {
     "data": {
      "text/plain": [
       "['Rs. 1719',\n",
       " 'Rs. 1949',\n",
       " 'Rs. 1119',\n",
       " 'Rs. 749',\n",
       " 'Rs. 1519',\n",
       " 'Rs. 1754',\n",
       " 'Rs. 1837',\n",
       " 'Rs. 1574',\n",
       " 'Rs. 1349',\n",
       " 'Rs. 998',\n",
       " 'Rs. 599',\n",
       " 'Rs. 749',\n",
       " 'Rs. 1879',\n",
       " 'Rs. 854',\n",
       " 'Rs. 1719',\n",
       " 'Rs. 1749',\n",
       " 'Rs. 665',\n",
       " 'Rs. 1919',\n",
       " 'Rs. 1999',\n",
       " 'Rs. 2089',\n",
       " 'Rs. 2749',\n",
       " 'Rs. 1949',\n",
       " 'Rs. 2449',\n",
       " 'Rs. 839',\n",
       " 'Rs. 998',\n",
       " 'Rs. 1990',\n",
       " 'Rs. 1798',\n",
       " 'Rs. 878',\n",
       " 'Rs. 629',\n",
       " 'Rs. 1794',\n",
       " 'Rs. 999',\n",
       " 'Rs. 924',\n",
       " 'Rs. 658',\n",
       " 'Rs. 895',\n",
       " 'Rs. 999',\n",
       " 'Rs. 1749',\n",
       " 'Rs. 1299',\n",
       " 'Rs. 649',\n",
       " 'Rs. 999',\n",
       " 'Rs. 1449',\n",
       " 'Rs. 679',\n",
       " 'Rs. 5249',\n",
       " 'Rs. 699',\n",
       " 'Rs. 998',\n",
       " 'Rs. 1319',\n",
       " 'Rs. 1699',\n",
       " 'Rs. 579',\n",
       " 'Rs. 2599',\n",
       " 'Rs. 499',\n",
       " 'Rs. 1529']"
      ]
     },
     "execution_count": 770,
     "metadata": {},
     "output_type": "execute_result"
    }
   ],
   "source": [
    "price2 = []\n",
    "for i in pr2:\n",
    "    price2.append(i.text.split('.')[0]+i.text.split('Rs')[1])\n",
    "price2\n"
   ]
  },
  {
   "cell_type": "code",
   "execution_count": 771,
   "id": "c0b79739",
   "metadata": {},
   "outputs": [
    {
     "data": {
      "text/plain": [
       "100"
      ]
     },
     "execution_count": 771,
     "metadata": {},
     "output_type": "execute_result"
    }
   ],
   "source": [
    "brand = br1+br2\n",
    "len(brand)"
   ]
  },
  {
   "cell_type": "code",
   "execution_count": 772,
   "id": "93e30f32",
   "metadata": {},
   "outputs": [
    {
     "data": {
      "text/plain": [
       "100"
      ]
     },
     "execution_count": 772,
     "metadata": {},
     "output_type": "execute_result"
    }
   ],
   "source": [
    "description = descript1 + descript2\n",
    "len(description)"
   ]
  },
  {
   "cell_type": "code",
   "execution_count": 773,
   "id": "b9454454",
   "metadata": {},
   "outputs": [
    {
     "data": {
      "text/plain": [
       "100"
      ]
     },
     "execution_count": 773,
     "metadata": {},
     "output_type": "execute_result"
    }
   ],
   "source": [
    "price = price1 + price2\n",
    "len(price)"
   ]
  },
  {
   "cell_type": "code",
   "execution_count": 774,
   "id": "e102b541",
   "metadata": {},
   "outputs": [
    {
     "data": {
      "text/html": [
       "<div>\n",
       "<style scoped>\n",
       "    .dataframe tbody tr th:only-of-type {\n",
       "        vertical-align: middle;\n",
       "    }\n",
       "\n",
       "    .dataframe tbody tr th {\n",
       "        vertical-align: top;\n",
       "    }\n",
       "\n",
       "    .dataframe thead th {\n",
       "        text-align: right;\n",
       "    }\n",
       "</style>\n",
       "<table border=\"1\" class=\"dataframe\">\n",
       "  <thead>\n",
       "    <tr style=\"text-align: right;\">\n",
       "      <th></th>\n",
       "      <th>Brand</th>\n",
       "      <th>Description</th>\n",
       "      <th>Price</th>\n",
       "    </tr>\n",
       "  </thead>\n",
       "  <tbody>\n",
       "    <tr>\n",
       "      <th>0</th>\n",
       "      <td>Street Style Store</td>\n",
       "      <td>Women Suede High-Top Flat Boots</td>\n",
       "      <td>Rs. 1199</td>\n",
       "    </tr>\n",
       "    <tr>\n",
       "      <th>1</th>\n",
       "      <td>HRX by Hrithik Roshan</td>\n",
       "      <td>Men FlexStreet Athleisure Shoe</td>\n",
       "      <td>Rs. 1959</td>\n",
       "    </tr>\n",
       "    <tr>\n",
       "      <th>2</th>\n",
       "      <td>Anouk</td>\n",
       "      <td>Men Solid Tasseled Loafers</td>\n",
       "      <td>Rs. 1399</td>\n",
       "    </tr>\n",
       "    <tr>\n",
       "      <th>3</th>\n",
       "      <td>AfroJack</td>\n",
       "      <td>Men Colourblocked Sneakers</td>\n",
       "      <td>Rs. 749</td>\n",
       "    </tr>\n",
       "    <tr>\n",
       "      <th>4</th>\n",
       "      <td>MENGLER</td>\n",
       "      <td>Men Walking Shoes</td>\n",
       "      <td>Rs. 699</td>\n",
       "    </tr>\n",
       "    <tr>\n",
       "      <th>...</th>\n",
       "      <td>...</td>\n",
       "      <td>...</td>\n",
       "      <td>...</td>\n",
       "    </tr>\n",
       "    <tr>\n",
       "      <th>95</th>\n",
       "      <td>Red Tape</td>\n",
       "      <td>Men Solid Leather Formal Derbys</td>\n",
       "      <td>Rs. 1699</td>\n",
       "    </tr>\n",
       "    <tr>\n",
       "      <th>96</th>\n",
       "      <td>DEAS</td>\n",
       "      <td>Women Mules Flats</td>\n",
       "      <td>Rs. 579</td>\n",
       "    </tr>\n",
       "    <tr>\n",
       "      <th>97</th>\n",
       "      <td>House of Pataudi</td>\n",
       "      <td>Men Embroidered Mojaris</td>\n",
       "      <td>Rs. 2599</td>\n",
       "    </tr>\n",
       "    <tr>\n",
       "      <th>98</th>\n",
       "      <td>Vishudh</td>\n",
       "      <td>Women Open Toe Flats</td>\n",
       "      <td>Rs. 499</td>\n",
       "    </tr>\n",
       "    <tr>\n",
       "      <th>99</th>\n",
       "      <td>Sparx</td>\n",
       "      <td>Men SM-487 Running Shoes</td>\n",
       "      <td>Rs. 1529</td>\n",
       "    </tr>\n",
       "  </tbody>\n",
       "</table>\n",
       "<p>100 rows × 3 columns</p>\n",
       "</div>"
      ],
      "text/plain": [
       "                    Brand                      Description     Price\n",
       "0      Street Style Store  Women Suede High-Top Flat Boots  Rs. 1199\n",
       "1   HRX by Hrithik Roshan   Men FlexStreet Athleisure Shoe  Rs. 1959\n",
       "2                   Anouk       Men Solid Tasseled Loafers  Rs. 1399\n",
       "3                AfroJack       Men Colourblocked Sneakers   Rs. 749\n",
       "4                 MENGLER                Men Walking Shoes   Rs. 699\n",
       "..                    ...                              ...       ...\n",
       "95               Red Tape  Men Solid Leather Formal Derbys  Rs. 1699\n",
       "96                   DEAS                Women Mules Flats   Rs. 579\n",
       "97       House of Pataudi          Men Embroidered Mojaris  Rs. 2599\n",
       "98                Vishudh             Women Open Toe Flats   Rs. 499\n",
       "99                  Sparx         Men SM-487 Running Shoes  Rs. 1529\n",
       "\n",
       "[100 rows x 3 columns]"
      ]
     },
     "execution_count": 774,
     "metadata": {},
     "output_type": "execute_result"
    }
   ],
   "source": [
    "shoe = pd.DataFrame()\n",
    "shoe['Brand'] = brand\n",
    "shoe['Description'] = description\n",
    "shoe['Price'] = price\n",
    "shoe"
   ]
  },
  {
   "cell_type": "markdown",
   "id": "6acdab40",
   "metadata": {},
   "source": [
    "Go to webpage https://www.amazon.in/"
   ]
  },
  {
   "cell_type": "code",
   "execution_count": 775,
   "id": "1423cce5",
   "metadata": {},
   "outputs": [],
   "source": [
    "driver = webdriver.Chrome(r'C:\\Users\\praja\\Downloads\\chromedriver_win32\\chromedriver.exe')"
   ]
  },
  {
   "cell_type": "code",
   "execution_count": 776,
   "id": "09c170cb",
   "metadata": {},
   "outputs": [],
   "source": [
    "url = 'https://www.amazon.in/'\n",
    "driver.get(url)"
   ]
  },
  {
   "cell_type": "code",
   "execution_count": 777,
   "id": "527bc4c1",
   "metadata": {},
   "outputs": [
    {
     "data": {
      "text/plain": [
       "<selenium.webdriver.remote.webelement.WebElement (session=\"7c0a2a7138949e825d642135ce8db842\", element=\"8af1ce8e-c131-4fc4-b477-5d56a6a1721f\")>"
      ]
     },
     "execution_count": 777,
     "metadata": {},
     "output_type": "execute_result"
    }
   ],
   "source": [
    "search_item = driver.find_element_by_xpath('/html/body/div[1]/header/div/div[1]/div[2]/div/form/div[2]/div[1]/input')\n",
    "search_item"
   ]
  },
  {
   "cell_type": "code",
   "execution_count": 778,
   "id": "23df8887",
   "metadata": {},
   "outputs": [],
   "source": [
    "search_item.send_keys('Laptop')"
   ]
  },
  {
   "cell_type": "code",
   "execution_count": 779,
   "id": "806ccd66",
   "metadata": {},
   "outputs": [
    {
     "data": {
      "text/plain": [
       "<selenium.webdriver.remote.webelement.WebElement (session=\"7c0a2a7138949e825d642135ce8db842\", element=\"34740435-ff3b-444b-b07c-293a18c745c5\")>"
      ]
     },
     "execution_count": 779,
     "metadata": {},
     "output_type": "execute_result"
    }
   ],
   "source": [
    "search_btn = driver.find_element_by_xpath('/html/body/div[1]/header/div/div[1]/div[2]/div/form/div[3]/div/span/input')\n",
    "search_btn"
   ]
  },
  {
   "cell_type": "code",
   "execution_count": 780,
   "id": "1a0a95f8",
   "metadata": {},
   "outputs": [],
   "source": [
    "search_btn.click()"
   ]
  },
  {
   "cell_type": "code",
   "execution_count": 783,
   "id": "965ac66e",
   "metadata": {},
   "outputs": [
    {
     "data": {
      "text/plain": [
       "<selenium.webdriver.remote.webelement.WebElement (session=\"7c0a2a7138949e825d642135ce8db842\", element=\"0c004433-5fcc-489d-a592-a5577f4e8bc4\")>"
      ]
     },
     "execution_count": 783,
     "metadata": {},
     "output_type": "execute_result"
    }
   ],
   "source": [
    "cpu_filter = driver.find_element_by_xpath('/html/body/div[1]/div[2]/div[1]/div[2]/div/div[3]/span/div[1]/span/div/div/div[6]/div/div/div[1]/div/span[1]/a[11]/div/span')\n",
    "cpu_filter"
   ]
  },
  {
   "cell_type": "code",
   "execution_count": 784,
   "id": "83e9dc7d",
   "metadata": {},
   "outputs": [
    {
     "ename": "ElementNotInteractableException",
     "evalue": "Message: element not interactable\n  (Session info: chrome=97.0.4692.71)\nStacktrace:\nBacktrace:\n\tOrdinal0 [0x006C6903+2517251]\n\tOrdinal0 [0x0065F8E1+2095329]\n\tOrdinal0 [0x00562710+1058576]\n\tOrdinal0 [0x0058E324+1237796]\n\tOrdinal0 [0x00584037+1196087]\n\tOrdinal0 [0x005A64D3+1336531]\n\tOrdinal0 [0x00583A36+1194550]\n\tOrdinal0 [0x005A65BA+1336762]\n\tOrdinal0 [0x005B5BBF+1399743]\n\tOrdinal0 [0x005A639B+1336219]\n\tOrdinal0 [0x005827A7+1189799]\n\tOrdinal0 [0x00583609+1193481]\n\tGetHandleVerifier [0x00855904+1577972]\n\tGetHandleVerifier [0x00900B97+2279047]\n\tGetHandleVerifier [0x00756D09+534521]\n\tGetHandleVerifier [0x00755DB9+530601]\n\tOrdinal0 [0x00664FF9+2117625]\n\tOrdinal0 [0x006698A8+2136232]\n\tOrdinal0 [0x006699E2+2136546]\n\tOrdinal0 [0x00673541+2176321]\n\tBaseThreadInitThunk [0x76056739+25]\n\tRtlGetFullPathName_UEx [0x774D8AFF+1215]\n\tRtlGetFullPathName_UEx [0x774D8ACD+1165]\n",
     "output_type": "error",
     "traceback": [
      "\u001b[1;31m---------------------------------------------------------------------------\u001b[0m",
      "\u001b[1;31mElementNotInteractableException\u001b[0m           Traceback (most recent call last)",
      "\u001b[1;32m~\\AppData\\Local\\Temp/ipykernel_28668/1394841898.py\u001b[0m in \u001b[0;36m<module>\u001b[1;34m\u001b[0m\n\u001b[1;32m----> 1\u001b[1;33m \u001b[0mcpu_filter\u001b[0m\u001b[1;33m.\u001b[0m\u001b[0mclick\u001b[0m\u001b[1;33m(\u001b[0m\u001b[1;33m)\u001b[0m\u001b[1;33m\u001b[0m\u001b[1;33m\u001b[0m\u001b[0m\n\u001b[0m",
      "\u001b[1;32m~\\anaconda3\\lib\\site-packages\\selenium\\webdriver\\remote\\webelement.py\u001b[0m in \u001b[0;36mclick\u001b[1;34m(self)\u001b[0m\n\u001b[0;32m     79\u001b[0m     \u001b[1;32mdef\u001b[0m \u001b[0mclick\u001b[0m\u001b[1;33m(\u001b[0m\u001b[0mself\u001b[0m\u001b[1;33m)\u001b[0m \u001b[1;33m->\u001b[0m \u001b[1;32mNone\u001b[0m\u001b[1;33m:\u001b[0m\u001b[1;33m\u001b[0m\u001b[1;33m\u001b[0m\u001b[0m\n\u001b[0;32m     80\u001b[0m         \u001b[1;34m\"\"\"Clicks the element.\"\"\"\u001b[0m\u001b[1;33m\u001b[0m\u001b[1;33m\u001b[0m\u001b[0m\n\u001b[1;32m---> 81\u001b[1;33m         \u001b[0mself\u001b[0m\u001b[1;33m.\u001b[0m\u001b[0m_execute\u001b[0m\u001b[1;33m(\u001b[0m\u001b[0mCommand\u001b[0m\u001b[1;33m.\u001b[0m\u001b[0mCLICK_ELEMENT\u001b[0m\u001b[1;33m)\u001b[0m\u001b[1;33m\u001b[0m\u001b[1;33m\u001b[0m\u001b[0m\n\u001b[0m\u001b[0;32m     82\u001b[0m \u001b[1;33m\u001b[0m\u001b[0m\n\u001b[0;32m     83\u001b[0m     \u001b[1;32mdef\u001b[0m \u001b[0msubmit\u001b[0m\u001b[1;33m(\u001b[0m\u001b[0mself\u001b[0m\u001b[1;33m)\u001b[0m\u001b[1;33m:\u001b[0m\u001b[1;33m\u001b[0m\u001b[1;33m\u001b[0m\u001b[0m\n",
      "\u001b[1;32m~\\anaconda3\\lib\\site-packages\\selenium\\webdriver\\remote\\webelement.py\u001b[0m in \u001b[0;36m_execute\u001b[1;34m(self, command, params)\u001b[0m\n\u001b[0;32m    708\u001b[0m             \u001b[0mparams\u001b[0m \u001b[1;33m=\u001b[0m \u001b[1;33m{\u001b[0m\u001b[1;33m}\u001b[0m\u001b[1;33m\u001b[0m\u001b[1;33m\u001b[0m\u001b[0m\n\u001b[0;32m    709\u001b[0m         \u001b[0mparams\u001b[0m\u001b[1;33m[\u001b[0m\u001b[1;34m'id'\u001b[0m\u001b[1;33m]\u001b[0m \u001b[1;33m=\u001b[0m \u001b[0mself\u001b[0m\u001b[1;33m.\u001b[0m\u001b[0m_id\u001b[0m\u001b[1;33m\u001b[0m\u001b[1;33m\u001b[0m\u001b[0m\n\u001b[1;32m--> 710\u001b[1;33m         \u001b[1;32mreturn\u001b[0m \u001b[0mself\u001b[0m\u001b[1;33m.\u001b[0m\u001b[0m_parent\u001b[0m\u001b[1;33m.\u001b[0m\u001b[0mexecute\u001b[0m\u001b[1;33m(\u001b[0m\u001b[0mcommand\u001b[0m\u001b[1;33m,\u001b[0m \u001b[0mparams\u001b[0m\u001b[1;33m)\u001b[0m\u001b[1;33m\u001b[0m\u001b[1;33m\u001b[0m\u001b[0m\n\u001b[0m\u001b[0;32m    711\u001b[0m \u001b[1;33m\u001b[0m\u001b[0m\n\u001b[0;32m    712\u001b[0m     \u001b[1;32mdef\u001b[0m \u001b[0mfind_element\u001b[0m\u001b[1;33m(\u001b[0m\u001b[0mself\u001b[0m\u001b[1;33m,\u001b[0m \u001b[0mby\u001b[0m\u001b[1;33m=\u001b[0m\u001b[0mBy\u001b[0m\u001b[1;33m.\u001b[0m\u001b[0mID\u001b[0m\u001b[1;33m,\u001b[0m \u001b[0mvalue\u001b[0m\u001b[1;33m=\u001b[0m\u001b[1;32mNone\u001b[0m\u001b[1;33m)\u001b[0m\u001b[1;33m:\u001b[0m\u001b[1;33m\u001b[0m\u001b[1;33m\u001b[0m\u001b[0m\n",
      "\u001b[1;32m~\\anaconda3\\lib\\site-packages\\selenium\\webdriver\\remote\\webdriver.py\u001b[0m in \u001b[0;36mexecute\u001b[1;34m(self, driver_command, params)\u001b[0m\n\u001b[0;32m    422\u001b[0m         \u001b[0mresponse\u001b[0m \u001b[1;33m=\u001b[0m \u001b[0mself\u001b[0m\u001b[1;33m.\u001b[0m\u001b[0mcommand_executor\u001b[0m\u001b[1;33m.\u001b[0m\u001b[0mexecute\u001b[0m\u001b[1;33m(\u001b[0m\u001b[0mdriver_command\u001b[0m\u001b[1;33m,\u001b[0m \u001b[0mparams\u001b[0m\u001b[1;33m)\u001b[0m\u001b[1;33m\u001b[0m\u001b[1;33m\u001b[0m\u001b[0m\n\u001b[0;32m    423\u001b[0m         \u001b[1;32mif\u001b[0m \u001b[0mresponse\u001b[0m\u001b[1;33m:\u001b[0m\u001b[1;33m\u001b[0m\u001b[1;33m\u001b[0m\u001b[0m\n\u001b[1;32m--> 424\u001b[1;33m             \u001b[0mself\u001b[0m\u001b[1;33m.\u001b[0m\u001b[0merror_handler\u001b[0m\u001b[1;33m.\u001b[0m\u001b[0mcheck_response\u001b[0m\u001b[1;33m(\u001b[0m\u001b[0mresponse\u001b[0m\u001b[1;33m)\u001b[0m\u001b[1;33m\u001b[0m\u001b[1;33m\u001b[0m\u001b[0m\n\u001b[0m\u001b[0;32m    425\u001b[0m             response['value'] = self._unwrap_value(\n\u001b[0;32m    426\u001b[0m                 response.get('value', None))\n",
      "\u001b[1;32m~\\anaconda3\\lib\\site-packages\\selenium\\webdriver\\remote\\errorhandler.py\u001b[0m in \u001b[0;36mcheck_response\u001b[1;34m(self, response)\u001b[0m\n\u001b[0;32m    245\u001b[0m                 \u001b[0malert_text\u001b[0m \u001b[1;33m=\u001b[0m \u001b[0mvalue\u001b[0m\u001b[1;33m[\u001b[0m\u001b[1;34m'alert'\u001b[0m\u001b[1;33m]\u001b[0m\u001b[1;33m.\u001b[0m\u001b[0mget\u001b[0m\u001b[1;33m(\u001b[0m\u001b[1;34m'text'\u001b[0m\u001b[1;33m)\u001b[0m\u001b[1;33m\u001b[0m\u001b[1;33m\u001b[0m\u001b[0m\n\u001b[0;32m    246\u001b[0m             \u001b[1;32mraise\u001b[0m \u001b[0mexception_class\u001b[0m\u001b[1;33m(\u001b[0m\u001b[0mmessage\u001b[0m\u001b[1;33m,\u001b[0m \u001b[0mscreen\u001b[0m\u001b[1;33m,\u001b[0m \u001b[0mstacktrace\u001b[0m\u001b[1;33m,\u001b[0m \u001b[0malert_text\u001b[0m\u001b[1;33m)\u001b[0m  \u001b[1;31m# type: ignore[call-arg]  # mypy is not smart enough here\u001b[0m\u001b[1;33m\u001b[0m\u001b[1;33m\u001b[0m\u001b[0m\n\u001b[1;32m--> 247\u001b[1;33m         \u001b[1;32mraise\u001b[0m \u001b[0mexception_class\u001b[0m\u001b[1;33m(\u001b[0m\u001b[0mmessage\u001b[0m\u001b[1;33m,\u001b[0m \u001b[0mscreen\u001b[0m\u001b[1;33m,\u001b[0m \u001b[0mstacktrace\u001b[0m\u001b[1;33m)\u001b[0m\u001b[1;33m\u001b[0m\u001b[1;33m\u001b[0m\u001b[0m\n\u001b[0m\u001b[0;32m    248\u001b[0m \u001b[1;33m\u001b[0m\u001b[0m\n\u001b[0;32m    249\u001b[0m     \u001b[1;32mdef\u001b[0m \u001b[0m_value_or_default\u001b[0m\u001b[1;33m(\u001b[0m\u001b[0mself\u001b[0m\u001b[1;33m,\u001b[0m \u001b[0mobj\u001b[0m\u001b[1;33m:\u001b[0m \u001b[0mMapping\u001b[0m\u001b[1;33m[\u001b[0m\u001b[0m_KT\u001b[0m\u001b[1;33m,\u001b[0m \u001b[0m_VT\u001b[0m\u001b[1;33m]\u001b[0m\u001b[1;33m,\u001b[0m \u001b[0mkey\u001b[0m\u001b[1;33m:\u001b[0m \u001b[0m_KT\u001b[0m\u001b[1;33m,\u001b[0m \u001b[0mdefault\u001b[0m\u001b[1;33m:\u001b[0m \u001b[0m_VT\u001b[0m\u001b[1;33m)\u001b[0m \u001b[1;33m->\u001b[0m \u001b[0m_VT\u001b[0m\u001b[1;33m:\u001b[0m\u001b[1;33m\u001b[0m\u001b[1;33m\u001b[0m\u001b[0m\n",
      "\u001b[1;31mElementNotInteractableException\u001b[0m: Message: element not interactable\n  (Session info: chrome=97.0.4692.71)\nStacktrace:\nBacktrace:\n\tOrdinal0 [0x006C6903+2517251]\n\tOrdinal0 [0x0065F8E1+2095329]\n\tOrdinal0 [0x00562710+1058576]\n\tOrdinal0 [0x0058E324+1237796]\n\tOrdinal0 [0x00584037+1196087]\n\tOrdinal0 [0x005A64D3+1336531]\n\tOrdinal0 [0x00583A36+1194550]\n\tOrdinal0 [0x005A65BA+1336762]\n\tOrdinal0 [0x005B5BBF+1399743]\n\tOrdinal0 [0x005A639B+1336219]\n\tOrdinal0 [0x005827A7+1189799]\n\tOrdinal0 [0x00583609+1193481]\n\tGetHandleVerifier [0x00855904+1577972]\n\tGetHandleVerifier [0x00900B97+2279047]\n\tGetHandleVerifier [0x00756D09+534521]\n\tGetHandleVerifier [0x00755DB9+530601]\n\tOrdinal0 [0x00664FF9+2117625]\n\tOrdinal0 [0x006698A8+2136232]\n\tOrdinal0 [0x006699E2+2136546]\n\tOrdinal0 [0x00673541+2176321]\n\tBaseThreadInitThunk [0x76056739+25]\n\tRtlGetFullPathName_UEx [0x774D8AFF+1215]\n\tRtlGetFullPathName_UEx [0x774D8ACD+1165]\n"
     ]
    }
   ],
   "source": [
    "cpu_filter.click()"
   ]
  },
  {
   "cell_type": "code",
   "execution_count": 362,
   "id": "6855a759",
   "metadata": {},
   "outputs": [
    {
     "data": {
      "text/plain": [
       "30"
      ]
     },
     "execution_count": 362,
     "metadata": {},
     "output_type": "execute_result"
    }
   ],
   "source": [
    "laptop = driver.find_elements_by_xpath('//h2[@class=\"a-size-mini a-spacing-none a-color-base s-line-clamp-2\"]')\n",
    "len(laptop)"
   ]
  },
  {
   "cell_type": "code",
   "execution_count": 363,
   "id": "96999c3e",
   "metadata": {},
   "outputs": [
    {
     "data": {
      "text/plain": [
       "['LG Gram 17-inches Ultra-Light Intel Evo 11th Gen Core i7,16 GB RAM, 512 GB SSD, New Win-11 Preload, Iris Xe Graphics, USC -C x 2 (with Power), 1.35 kg, 3 Yr Warranty (17Z90P-G.AH85A2, Black)',\n",
       " 'LG Gram 16-inches Ultra-Light Intel Evo 11th Gen Core i7,16 GB RAM, 512 GB SSD, New Win-11 Preload, Iris Xe Graphics, USC -C x 2 (with Power), 1.19 kg, 3 Yr Warranty (16Z90P-G.AH85A2, Black)',\n",
       " 'LG Gram 17-inches Ultra-Light Intel Evo 11th Gen Core i7,16 GB RAM, 512 GB SSD, New Win-11 Preload, Iris Xe Graphics, USC -C x 2 (with Power), 1.35 kg, 3 Yr Warranty (17Z90P-G.AH85A2, Black)',\n",
       " 'Mi Notebook Horizon Edition 14 Intel Core i7-10510U 10th Gen Thin and Light Laptop(8GB/512GB SSD/Windows 10/Nvidia MX350 2GB Graphics/Grey/1.35Kg)(Without Webcam) XMA1904-AF',\n",
       " 'ASUS Vivobook X515JA-EJ701WS Intel Core I7-1065G7 15.6 inches FHD 512 GB SSD /16 GB/Windows 11/Office 2019/1Y (Transparent Silver, 2 kg)',\n",
       " 'Lenovo ThinkBook 13s Intel 11th Gen Core i7 13.3\"(33.78 cm) WQXGA IPS 300 nits 100% sRGB Dolby Vision Thin and Light Laptop (16GB/512GB SSD/Windows 10/MS Office/FPR/Mineral Grey/1.26 Kg), 20V9A05FIH',\n",
       " 'ASUS VivoBook 14 (2021), 14-inch (35.56 cms) FHD, Intel Core i7-1065G7 10th Gen, Thin and Light Laptop (16GB/512GB SSD/Integrated Graphics/Office 2021/Windows 11/Silver/1.6 Kg), X415JA-EK701WS',\n",
       " 'MSI GF75 Thin Gaming, Intel i7-10750H, 17.3\" (43.9 cm) FHD IPS-Level 144Hz Panel Laptop (8GB/512GB NVMe SSD/Windows 10 Home/Nvidia GTX1650 4GB GDDR6/Black/2.2Kg), 10SCXR-654IN',\n",
       " 'Dell 14 (2021) i7-1195G7 2in1 Touch Screen Laptop, 16GB, 512Gb SSD, Win 11 + MSO\\'21, 14\" (35.56 cms) FHD, Platinum Silver Color, FPR + Backlit KB & Active Pen (Inspiron 5410, D560629WIN9S)',\n",
       " 'ASUS TUF Dash F15 (2021), 15.6-inch (39.62 cms) FHD 144Hz, Intel Core i7-11370H 11th Gen, RTX 3050 4GB Graphics Gaming Laptop (16GB RAM/512GB SSD/Windows 10/White/2 kg), FX516PC-HN062T']"
      ]
     },
     "execution_count": 363,
     "metadata": {},
     "output_type": "execute_result"
    }
   ],
   "source": [
    "lap_title = []\n",
    "for i in laptop:\n",
    "    lap_title.append(i.text)\n",
    "lap_title = lap_title[0:10]\n",
    "lap_title"
   ]
  },
  {
   "cell_type": "code",
   "execution_count": 364,
   "id": "c7f05ad6",
   "metadata": {},
   "outputs": [
    {
     "data": {
      "text/plain": [
       "28"
      ]
     },
     "execution_count": 364,
     "metadata": {},
     "output_type": "execute_result"
    }
   ],
   "source": [
    "rt = driver.find_elements_by_xpath('//span[@class=\"a-icon-alt\"]')\n",
    "len(rt)\n"
   ]
  },
  {
   "cell_type": "code",
   "execution_count": 365,
   "id": "0ad7d852",
   "metadata": {},
   "outputs": [
    {
     "data": {
      "text/plain": [
       "['',\n",
       " '',\n",
       " '',\n",
       " '',\n",
       " '',\n",
       " '',\n",
       " '',\n",
       " '',\n",
       " '',\n",
       " '',\n",
       " '',\n",
       " '',\n",
       " '',\n",
       " '',\n",
       " '',\n",
       " '',\n",
       " '',\n",
       " '',\n",
       " '',\n",
       " '',\n",
       " '',\n",
       " '',\n",
       " '',\n",
       " '',\n",
       " '',\n",
       " '',\n",
       " '',\n",
       " '']"
      ]
     },
     "execution_count": 365,
     "metadata": {},
     "output_type": "execute_result"
    }
   ],
   "source": [
    "rate = []\n",
    "for i in rt:\n",
    "    rate.append(i.text)\n",
    "rate"
   ]
  },
  {
   "cell_type": "code",
   "execution_count": null,
   "id": "ca9377c7",
   "metadata": {},
   "outputs": [],
   "source": [
    "pr = driver.find_elements_by_xpath('//span[@class=\"a-price-whole\"]')\n",
    "len(pr)"
   ]
  },
  {
   "cell_type": "code",
   "execution_count": null,
   "id": "e617491a",
   "metadata": {},
   "outputs": [],
   "source": [
    "price = []\n",
    "for i in pr:\n",
    "    price.append(i.text)\n",
    "price = price[0:10]\n",
    "price"
   ]
  },
  {
   "cell_type": "code",
   "execution_count": null,
   "id": "36e65e04",
   "metadata": {},
   "outputs": [],
   "source": []
  },
  {
   "cell_type": "code",
   "execution_count": null,
   "id": "f18f76f4",
   "metadata": {},
   "outputs": [],
   "source": []
  },
  {
   "cell_type": "markdown",
   "id": "5115bc19",
   "metadata": {},
   "source": [
    "Write a python program to scrape data for first 10 job results for Data Scientist Designation in Noida\n",
    "location. You have to scrape company name, No. of days ago when job was posted, Rating of the company.\n",
    "This task will be done in following steps:"
   ]
  },
  {
   "cell_type": "code",
   "execution_count": 785,
   "id": "985e6ab2",
   "metadata": {},
   "outputs": [],
   "source": [
    "driver = webdriver.Chrome(r'C:\\Users\\praja\\Downloads\\chromedriver_win32\\chromedriver.exe')"
   ]
  },
  {
   "cell_type": "code",
   "execution_count": 786,
   "id": "7071d4ac",
   "metadata": {},
   "outputs": [],
   "source": [
    "url = 'https://www.ambitionbox.com/'\n",
    "driver.get(url)"
   ]
  },
  {
   "cell_type": "code",
   "execution_count": 787,
   "id": "345f5988",
   "metadata": {},
   "outputs": [
    {
     "data": {
      "text/plain": [
       "<selenium.webdriver.remote.webelement.WebElement (session=\"04ceca1ce6ea8c158dd8889bf1b97241\", element=\"5fe939af-7bd6-47d3-ba3f-6a69ff3dc559\")>"
      ]
     },
     "execution_count": 787,
     "metadata": {},
     "output_type": "execute_result"
    }
   ],
   "source": [
    "job = driver.find_element_by_xpath('/html/body/div[1]/nav/nav/a[6]')\n",
    "job"
   ]
  },
  {
   "cell_type": "code",
   "execution_count": 788,
   "id": "cb25633a",
   "metadata": {},
   "outputs": [],
   "source": [
    "job.click()"
   ]
  },
  {
   "cell_type": "code",
   "execution_count": 789,
   "id": "1becd7a3",
   "metadata": {},
   "outputs": [
    {
     "data": {
      "text/plain": [
       "<selenium.webdriver.remote.webelement.WebElement (session=\"04ceca1ce6ea8c158dd8889bf1b97241\", element=\"6ad551f8-718c-41b0-8fd7-be6f915e37dd\")>"
      ]
     },
     "execution_count": 789,
     "metadata": {},
     "output_type": "execute_result"
    }
   ],
   "source": [
    "design = driver.find_element_by_xpath('/html/body/div/div/div/div[2]/div[1]/div/div/div/div/span/input')\n",
    "design"
   ]
  },
  {
   "cell_type": "code",
   "execution_count": 790,
   "id": "366120c8",
   "metadata": {},
   "outputs": [],
   "source": [
    "design.send_keys('Data Scientist')"
   ]
  },
  {
   "cell_type": "code",
   "execution_count": 791,
   "id": "515ccc6a",
   "metadata": {},
   "outputs": [
    {
     "data": {
      "text/plain": [
       "<selenium.webdriver.remote.webelement.WebElement (session=\"04ceca1ce6ea8c158dd8889bf1b97241\", element=\"3aed33e8-2874-4a5f-bbec-48aedf23bc5a\")>"
      ]
     },
     "execution_count": 791,
     "metadata": {},
     "output_type": "execute_result"
    }
   ],
   "source": [
    "search_btn = driver.find_element_by_xpath('/html/body/div/div/div/div[2]/div[1]/div/div/div/button/span')\n",
    "search_btn"
   ]
  },
  {
   "cell_type": "code",
   "execution_count": 792,
   "id": "96b4b915",
   "metadata": {},
   "outputs": [],
   "source": [
    "search_btn.click()"
   ]
  },
  {
   "cell_type": "code",
   "execution_count": 795,
   "id": "2a3c8732",
   "metadata": {},
   "outputs": [
    {
     "data": {
      "text/plain": [
       "<selenium.webdriver.remote.webelement.WebElement (session=\"04ceca1ce6ea8c158dd8889bf1b97241\", element=\"1036c028-81ca-455f-92e6-880a2378d9bc\")>"
      ]
     },
     "execution_count": 795,
     "metadata": {},
     "output_type": "execute_result"
    }
   ],
   "source": [
    "location = driver.find_element_by_xpath('/html/body/div/div/div/div[2]/div[2]/div[1]/div/div/div/div[2]/div[1]/p')\n",
    "location"
   ]
  },
  {
   "cell_type": "code",
   "execution_count": 796,
   "id": "1fb853fe",
   "metadata": {},
   "outputs": [],
   "source": [
    "location.click()"
   ]
  },
  {
   "cell_type": "code",
   "execution_count": 797,
   "id": "0260cc21",
   "metadata": {},
   "outputs": [
    {
     "data": {
      "text/plain": [
       "<selenium.webdriver.remote.webelement.WebElement (session=\"04ceca1ce6ea8c158dd8889bf1b97241\", element=\"f5ee7f08-0995-488b-9c6e-5c4a5ef2ad66\")>"
      ]
     },
     "execution_count": 797,
     "metadata": {},
     "output_type": "execute_result"
    }
   ],
   "source": [
    "search_loc = driver.find_element_by_xpath('/html/body/div/div/div/div[2]/div[2]/div[1]/div/div/div/div[2]/div[2]/div/div[2]/input')\n",
    "search_loc"
   ]
  },
  {
   "cell_type": "code",
   "execution_count": 798,
   "id": "91346d3d",
   "metadata": {},
   "outputs": [],
   "source": [
    "search_loc.send_keys('Noida')"
   ]
  },
  {
   "cell_type": "code",
   "execution_count": 799,
   "id": "eac260f0",
   "metadata": {},
   "outputs": [
    {
     "data": {
      "text/plain": [
       "<selenium.webdriver.remote.webelement.WebElement (session=\"04ceca1ce6ea8c158dd8889bf1b97241\", element=\"d293b96f-6b2f-461f-95a7-0c4bef711ab3\")>"
      ]
     },
     "execution_count": 799,
     "metadata": {},
     "output_type": "execute_result"
    }
   ],
   "source": [
    "select = driver.find_element_by_xpath('/html/body/div/div/div/div[2]/div[2]/div[1]/div/div/div/div[2]/div[2]/div/div[3]/div[1]/div[1]/div/label')\n",
    "select"
   ]
  },
  {
   "cell_type": "code",
   "execution_count": 800,
   "id": "ec556895",
   "metadata": {},
   "outputs": [],
   "source": [
    "select.click()"
   ]
  },
  {
   "cell_type": "code",
   "execution_count": 802,
   "id": "cc7030ce",
   "metadata": {},
   "outputs": [
    {
     "data": {
      "text/plain": [
       "10"
      ]
     },
     "execution_count": 802,
     "metadata": {},
     "output_type": "execute_result"
    }
   ],
   "source": [
    "jobtitle = driver.find_elements_by_xpath('//p[@class=\"company body-medium\"]')\n",
    "len(jobtitle)"
   ]
  },
  {
   "cell_type": "code",
   "execution_count": 803,
   "id": "c1a5b003",
   "metadata": {},
   "outputs": [
    {
     "data": {
      "text/plain": [
       "['HCL',\n",
       " 'Jubilant Foodworks Limited',\n",
       " 'Ameriprise Financial',\n",
       " 'Paytm',\n",
       " 'CHT Sapiense',\n",
       " 'CHT Sapiense',\n",
       " 'GI Group',\n",
       " 'GI Group',\n",
       " 'GI Group',\n",
       " 'Cargoflash']"
      ]
     },
     "execution_count": 803,
     "metadata": {},
     "output_type": "execute_result"
    }
   ],
   "source": [
    "job_title = []\n",
    "for i in jobtitle:\n",
    "    job_title.append(i.text)\n",
    "job_title"
   ]
  },
  {
   "cell_type": "code",
   "execution_count": 804,
   "id": "539edeea",
   "metadata": {},
   "outputs": [
    {
     "data": {
      "text/plain": [
       "10"
      ]
     },
     "execution_count": 804,
     "metadata": {},
     "output_type": "execute_result"
    }
   ],
   "source": [
    "rate = driver.find_elements_by_xpath('//span[@class=\"body-small\"]')\n",
    "len(rate)"
   ]
  },
  {
   "cell_type": "code",
   "execution_count": 805,
   "id": "41f9bcd1",
   "metadata": {},
   "outputs": [
    {
     "data": {
      "text/plain": [
       "['3.8', '3.9', '4.0', '3.7', '3.8', '3.8', '4.1', '4.1', '4.1', '3.8']"
      ]
     },
     "execution_count": 805,
     "metadata": {},
     "output_type": "execute_result"
    }
   ],
   "source": [
    "rating=[]\n",
    "for i in rate:\n",
    "    rating.append(i.text)\n",
    "rating"
   ]
  },
  {
   "cell_type": "code",
   "execution_count": 806,
   "id": "f70ce2eb",
   "metadata": {},
   "outputs": [
    {
     "data": {
      "text/plain": [
       "20"
      ]
     },
     "execution_count": 806,
     "metadata": {},
     "output_type": "execute_result"
    }
   ],
   "source": [
    "post = driver.find_elements_by_xpath('//span[@class=\"body-small-l\"]')\n",
    "len(post)"
   ]
  },
  {
   "cell_type": "code",
   "execution_count": 807,
   "id": "75895060",
   "metadata": {},
   "outputs": [
    {
     "data": {
      "text/plain": [
       "['2d ago',\n",
       " '2d ago',\n",
       " '4d ago',\n",
       " '10d ago',\n",
       " '11d ago',\n",
       " '12d ago',\n",
       " '24d ago',\n",
       " '24d ago',\n",
       " '24d ago',\n",
       " '1d ago']"
      ]
     },
     "execution_count": 807,
     "metadata": {},
     "output_type": "execute_result"
    }
   ],
   "source": [
    "post_ago = []\n",
    "post_day = []\n",
    "for i in post:\n",
    "    post_ago.append(i.text)\n",
    "for i in range(0,len(post_ago)-1,2):\n",
    "    post_day.append(post_ago[i])\n",
    "post_day"
   ]
  },
  {
   "cell_type": "code",
   "execution_count": 808,
   "id": "788cb20d",
   "metadata": {},
   "outputs": [
    {
     "data": {
      "text/html": [
       "<div>\n",
       "<style scoped>\n",
       "    .dataframe tbody tr th:only-of-type {\n",
       "        vertical-align: middle;\n",
       "    }\n",
       "\n",
       "    .dataframe tbody tr th {\n",
       "        vertical-align: top;\n",
       "    }\n",
       "\n",
       "    .dataframe thead th {\n",
       "        text-align: right;\n",
       "    }\n",
       "</style>\n",
       "<table border=\"1\" class=\"dataframe\">\n",
       "  <thead>\n",
       "    <tr style=\"text-align: right;\">\n",
       "      <th></th>\n",
       "      <th>Company Name</th>\n",
       "      <th>Rating</th>\n",
       "      <th>Post age</th>\n",
       "    </tr>\n",
       "  </thead>\n",
       "  <tbody>\n",
       "    <tr>\n",
       "      <th>0</th>\n",
       "      <td>HCL</td>\n",
       "      <td>3.8</td>\n",
       "      <td>2d ago</td>\n",
       "    </tr>\n",
       "    <tr>\n",
       "      <th>1</th>\n",
       "      <td>Jubilant Foodworks Limited</td>\n",
       "      <td>3.9</td>\n",
       "      <td>2d ago</td>\n",
       "    </tr>\n",
       "    <tr>\n",
       "      <th>2</th>\n",
       "      <td>Ameriprise Financial</td>\n",
       "      <td>4.0</td>\n",
       "      <td>4d ago</td>\n",
       "    </tr>\n",
       "    <tr>\n",
       "      <th>3</th>\n",
       "      <td>Paytm</td>\n",
       "      <td>3.7</td>\n",
       "      <td>10d ago</td>\n",
       "    </tr>\n",
       "    <tr>\n",
       "      <th>4</th>\n",
       "      <td>CHT Sapiense</td>\n",
       "      <td>3.8</td>\n",
       "      <td>11d ago</td>\n",
       "    </tr>\n",
       "    <tr>\n",
       "      <th>5</th>\n",
       "      <td>CHT Sapiense</td>\n",
       "      <td>3.8</td>\n",
       "      <td>12d ago</td>\n",
       "    </tr>\n",
       "    <tr>\n",
       "      <th>6</th>\n",
       "      <td>GI Group</td>\n",
       "      <td>4.1</td>\n",
       "      <td>24d ago</td>\n",
       "    </tr>\n",
       "    <tr>\n",
       "      <th>7</th>\n",
       "      <td>GI Group</td>\n",
       "      <td>4.1</td>\n",
       "      <td>24d ago</td>\n",
       "    </tr>\n",
       "    <tr>\n",
       "      <th>8</th>\n",
       "      <td>GI Group</td>\n",
       "      <td>4.1</td>\n",
       "      <td>24d ago</td>\n",
       "    </tr>\n",
       "    <tr>\n",
       "      <th>9</th>\n",
       "      <td>Cargoflash</td>\n",
       "      <td>3.8</td>\n",
       "      <td>1d ago</td>\n",
       "    </tr>\n",
       "  </tbody>\n",
       "</table>\n",
       "</div>"
      ],
      "text/plain": [
       "                 Company Name Rating Post age\n",
       "0                         HCL    3.8   2d ago\n",
       "1  Jubilant Foodworks Limited    3.9   2d ago\n",
       "2        Ameriprise Financial    4.0   4d ago\n",
       "3                       Paytm    3.7  10d ago\n",
       "4                CHT Sapiense    3.8  11d ago\n",
       "5                CHT Sapiense    3.8  12d ago\n",
       "6                    GI Group    4.1  24d ago\n",
       "7                    GI Group    4.1  24d ago\n",
       "8                    GI Group    4.1  24d ago\n",
       "9                  Cargoflash    3.8   1d ago"
      ]
     },
     "execution_count": 808,
     "metadata": {},
     "output_type": "execute_result"
    }
   ],
   "source": [
    "job = pd.DataFrame()\n",
    "job['Company Name'] = job_title\n",
    "job['Rating'] = rating\n",
    "job['Post age'] = post_day\n",
    "job"
   ]
  },
  {
   "cell_type": "markdown",
   "id": "7b93fd90",
   "metadata": {},
   "source": [
    "Write a python program to scrape the salary data for Data Scientist designation.\n",
    "You have to scrape Company name, Number of salaries, Average salary, Minsalary, Max Salary."
   ]
  },
  {
   "cell_type": "code",
   "execution_count": 809,
   "id": "1835bf5a",
   "metadata": {},
   "outputs": [],
   "source": [
    "driver = webdriver.Chrome(r'C:\\Users\\praja\\Downloads\\chromedriver_win32\\chromedriver.exe')"
   ]
  },
  {
   "cell_type": "code",
   "execution_count": 810,
   "id": "3fa77d74",
   "metadata": {},
   "outputs": [],
   "source": [
    "url = 'https://www.ambitionbox.com/'\n",
    "driver.get(url)"
   ]
  },
  {
   "cell_type": "code",
   "execution_count": 811,
   "id": "9a015ca6",
   "metadata": {},
   "outputs": [
    {
     "data": {
      "text/plain": [
       "<selenium.webdriver.remote.webelement.WebElement (session=\"5f0e598913e986bf5004d8bb743ea2ab\", element=\"1bf62ef9-ce50-41f3-a876-8f03c80188a7\")>"
      ]
     },
     "execution_count": 811,
     "metadata": {},
     "output_type": "execute_result"
    }
   ],
   "source": [
    "salary = driver.find_element_by_xpath('/html/body/div[1]/nav/nav/a[4]')\n",
    "salary"
   ]
  },
  {
   "cell_type": "code",
   "execution_count": 812,
   "id": "a7a50929",
   "metadata": {},
   "outputs": [],
   "source": [
    "salary.click()"
   ]
  },
  {
   "cell_type": "code",
   "execution_count": 813,
   "id": "942e240a",
   "metadata": {},
   "outputs": [
    {
     "data": {
      "text/plain": [
       "<selenium.webdriver.remote.webelement.WebElement (session=\"5f0e598913e986bf5004d8bb743ea2ab\", element=\"3b7287d9-cd94-4741-b8f4-8cd1fc48b8b6\")>"
      ]
     },
     "execution_count": 813,
     "metadata": {},
     "output_type": "execute_result"
    }
   ],
   "source": [
    "job_profile = driver.find_element_by_xpath('/html/body/div/div/div/main/section[1]/div[2]/div[1]/span/input')\n",
    "job_profile"
   ]
  },
  {
   "cell_type": "code",
   "execution_count": 814,
   "id": "c05b10f0",
   "metadata": {},
   "outputs": [],
   "source": [
    "job_profile.send_keys('Data Scientist')"
   ]
  },
  {
   "cell_type": "code",
   "execution_count": 815,
   "id": "0bc1dc75",
   "metadata": {},
   "outputs": [
    {
     "data": {
      "text/plain": [
       "<selenium.webdriver.remote.webelement.WebElement (session=\"5f0e598913e986bf5004d8bb743ea2ab\", element=\"a91f66c2-5e6f-45e4-8a82-ed99273ed295\")>"
      ]
     },
     "execution_count": 815,
     "metadata": {},
     "output_type": "execute_result"
    }
   ],
   "source": [
    "datasci = driver.find_element_by_xpath('/html/body/div/div/div/main/section[1]/div[2]/div[1]/span/div/div/div[1]')\n",
    "datasci"
   ]
  },
  {
   "cell_type": "code",
   "execution_count": 816,
   "id": "8970f8c7",
   "metadata": {},
   "outputs": [],
   "source": [
    "datasci.click()"
   ]
  },
  {
   "cell_type": "code",
   "execution_count": 817,
   "id": "892a8fc7",
   "metadata": {},
   "outputs": [
    {
     "data": {
      "text/plain": [
       "10"
      ]
     },
     "execution_count": 817,
     "metadata": {},
     "output_type": "execute_result"
    }
   ],
   "source": [
    "name = driver.find_elements_by_xpath('//div[@class=\"name\"]')\n",
    "len(name)"
   ]
  },
  {
   "cell_type": "code",
   "execution_count": 818,
   "id": "65f70390",
   "metadata": {},
   "outputs": [
    {
     "data": {
      "text/plain": [
       "(['Walmart',\n",
       "  'Ab Inbev',\n",
       "  'ZS',\n",
       "  'Fractal Analytics',\n",
       "  'Optum',\n",
       "  'UnitedHealth',\n",
       "  'Tiger Analytics',\n",
       "  'Verizon',\n",
       "  'Ganit Business Solutions',\n",
       "  'Ericsson'],\n",
       " ['based on 10 salaries',\n",
       "  'based on 22 salaries',\n",
       "  'based on 14 salaries',\n",
       "  'based on 72 salaries',\n",
       "  'based on 23 salaries',\n",
       "  'based on 49 salaries',\n",
       "  'based on 27 salaries',\n",
       "  'based on 14 salaries',\n",
       "  'based on 13 salaries',\n",
       "  'based on 42 salaries'])"
      ]
     },
     "execution_count": 818,
     "metadata": {},
     "output_type": "execute_result"
    }
   ],
   "source": [
    "comp =[]\n",
    "company = []\n",
    "salary = []\n",
    "for i in name:\n",
    "    comp.append(i.text.split('\\n'))\n",
    "for i in range(len(comp)):\n",
    "    company.append(comp[i][0])\n",
    "    salary.append(comp[i][1])\n",
    "company,salary"
   ]
  },
  {
   "cell_type": "code",
   "execution_count": 819,
   "id": "ed849053",
   "metadata": {},
   "outputs": [
    {
     "data": {
      "text/plain": [
       "10"
      ]
     },
     "execution_count": 819,
     "metadata": {},
     "output_type": "execute_result"
    }
   ],
   "source": [
    "avrg = driver.find_elements_by_xpath('//p[@class=\"averageCtc\"]')\n",
    "len(avrg)"
   ]
  },
  {
   "cell_type": "code",
   "execution_count": 820,
   "id": "65201b88",
   "metadata": {},
   "outputs": [
    {
     "data": {
      "text/plain": [
       "['₹ 28.7L',\n",
       " '₹ 19.5L',\n",
       " '₹ 15.8L',\n",
       " '₹ 15.0L',\n",
       " '₹ 15.0L',\n",
       " '₹ 13.5L',\n",
       " '₹ 13.5L',\n",
       " '₹ 12.7L',\n",
       " '₹ 12.4L',\n",
       " '₹ 11.9L']"
      ]
     },
     "execution_count": 820,
     "metadata": {},
     "output_type": "execute_result"
    }
   ],
   "source": [
    "average = []\n",
    "for i in avrg:\n",
    "    average.append(i.text)\n",
    "average"
   ]
  },
  {
   "cell_type": "code",
   "execution_count": 821,
   "id": "1f81e82a",
   "metadata": {},
   "outputs": [
    {
     "data": {
      "text/plain": [
       "20"
      ]
     },
     "execution_count": 821,
     "metadata": {},
     "output_type": "execute_result"
    }
   ],
   "source": [
    "mini = driver.find_elements_by_xpath('//div[@class=\"value body-medium\"]')\n",
    "len(mini)"
   ]
  },
  {
   "cell_type": "code",
   "execution_count": 822,
   "id": "4af39f1f",
   "metadata": {},
   "outputs": [
    {
     "data": {
      "text/plain": [
       "(['₹ 17.7L',\n",
       "  '₹ 15.0L',\n",
       "  '₹ 9.8L',\n",
       "  '₹ 9.5L',\n",
       "  '₹ 11.0L',\n",
       "  '₹ 7.2L',\n",
       "  '₹ 8.3L',\n",
       "  '₹ 10.0L',\n",
       "  '₹ 8.5L',\n",
       "  '₹ 5.8L'],\n",
       " ['₹ 35.0L',\n",
       "  '₹ 25.0L',\n",
       "  '₹ 20.0L',\n",
       "  '₹ 22.0L',\n",
       "  '₹ 21.3L',\n",
       "  '₹ 20.5L',\n",
       "  '₹ 18.5L',\n",
       "  '₹ 21.0L',\n",
       "  '₹ 15.0L',\n",
       "  '₹ 21.5L'])"
      ]
     },
     "execution_count": 822,
     "metadata": {},
     "output_type": "execute_result"
    }
   ],
   "source": [
    "mini1 = []\n",
    "minimum = []\n",
    "maximum = []\n",
    "for i in mini:\n",
    "    mini1.append(i.text)\n",
    "for i in range(0,len(mini1)-1,2):\n",
    "    minimum.append(mini1[i])\n",
    "    maximum.append(mini1[i+1])\n",
    "minimum, maximum\n"
   ]
  },
  {
   "cell_type": "code",
   "execution_count": 823,
   "id": "e3c457e0",
   "metadata": {},
   "outputs": [
    {
     "data": {
      "text/plain": [
       "10"
      ]
     },
     "execution_count": 823,
     "metadata": {},
     "output_type": "execute_result"
    }
   ],
   "source": [
    "expr = driver.find_elements_by_xpath('//div[@class=\"salaries sbold-list-header\"]')\n",
    "len(expr)"
   ]
  },
  {
   "cell_type": "code",
   "execution_count": 824,
   "id": "bfdc578a",
   "metadata": {},
   "outputs": [
    {
     "data": {
      "text/plain": [
       "['3 yrs exp',\n",
       " '3-4 yrs exp',\n",
       " '2 yrs exp',\n",
       " '2-4 yrs exp',\n",
       " '3-4 yrs exp',\n",
       " '2-4 yrs exp',\n",
       " '3-4 yrs exp',\n",
       " '4 yrs exp',\n",
       " '4 yrs exp',\n",
       " '3-4 yrs exp']"
      ]
     },
     "execution_count": 824,
     "metadata": {},
     "output_type": "execute_result"
    }
   ],
   "source": [
    "expr1 = []\n",
    "experience =[]\n",
    "for i in expr:\n",
    "    expr1.append(i.text.split('\\n'))\n",
    "for i in range(len(expr1)):\n",
    "    experience.append(expr1[i][2])\n",
    "experience\n",
    "    "
   ]
  },
  {
   "cell_type": "code",
   "execution_count": 825,
   "id": "b2912420",
   "metadata": {},
   "outputs": [
    {
     "data": {
      "text/html": [
       "<div>\n",
       "<style scoped>\n",
       "    .dataframe tbody tr th:only-of-type {\n",
       "        vertical-align: middle;\n",
       "    }\n",
       "\n",
       "    .dataframe tbody tr th {\n",
       "        vertical-align: top;\n",
       "    }\n",
       "\n",
       "    .dataframe thead th {\n",
       "        text-align: right;\n",
       "    }\n",
       "</style>\n",
       "<table border=\"1\" class=\"dataframe\">\n",
       "  <thead>\n",
       "    <tr style=\"text-align: right;\">\n",
       "      <th></th>\n",
       "      <th>Company Name</th>\n",
       "      <th>Salaries</th>\n",
       "      <th>Avrg salary</th>\n",
       "      <th>Min Salary</th>\n",
       "      <th>Max salary</th>\n",
       "      <th>Experience</th>\n",
       "    </tr>\n",
       "  </thead>\n",
       "  <tbody>\n",
       "    <tr>\n",
       "      <th>0</th>\n",
       "      <td>Walmart</td>\n",
       "      <td>based on 10 salaries</td>\n",
       "      <td>₹ 28.7L</td>\n",
       "      <td>₹ 17.7L</td>\n",
       "      <td>₹ 35.0L</td>\n",
       "      <td>3 yrs exp</td>\n",
       "    </tr>\n",
       "    <tr>\n",
       "      <th>1</th>\n",
       "      <td>Ab Inbev</td>\n",
       "      <td>based on 22 salaries</td>\n",
       "      <td>₹ 19.5L</td>\n",
       "      <td>₹ 15.0L</td>\n",
       "      <td>₹ 25.0L</td>\n",
       "      <td>3-4 yrs exp</td>\n",
       "    </tr>\n",
       "    <tr>\n",
       "      <th>2</th>\n",
       "      <td>ZS</td>\n",
       "      <td>based on 14 salaries</td>\n",
       "      <td>₹ 15.8L</td>\n",
       "      <td>₹ 9.8L</td>\n",
       "      <td>₹ 20.0L</td>\n",
       "      <td>2 yrs exp</td>\n",
       "    </tr>\n",
       "    <tr>\n",
       "      <th>3</th>\n",
       "      <td>Fractal Analytics</td>\n",
       "      <td>based on 72 salaries</td>\n",
       "      <td>₹ 15.0L</td>\n",
       "      <td>₹ 9.5L</td>\n",
       "      <td>₹ 22.0L</td>\n",
       "      <td>2-4 yrs exp</td>\n",
       "    </tr>\n",
       "    <tr>\n",
       "      <th>4</th>\n",
       "      <td>Optum</td>\n",
       "      <td>based on 23 salaries</td>\n",
       "      <td>₹ 15.0L</td>\n",
       "      <td>₹ 11.0L</td>\n",
       "      <td>₹ 21.3L</td>\n",
       "      <td>3-4 yrs exp</td>\n",
       "    </tr>\n",
       "    <tr>\n",
       "      <th>5</th>\n",
       "      <td>UnitedHealth</td>\n",
       "      <td>based on 49 salaries</td>\n",
       "      <td>₹ 13.5L</td>\n",
       "      <td>₹ 7.2L</td>\n",
       "      <td>₹ 20.5L</td>\n",
       "      <td>2-4 yrs exp</td>\n",
       "    </tr>\n",
       "    <tr>\n",
       "      <th>6</th>\n",
       "      <td>Tiger Analytics</td>\n",
       "      <td>based on 27 salaries</td>\n",
       "      <td>₹ 13.5L</td>\n",
       "      <td>₹ 8.3L</td>\n",
       "      <td>₹ 18.5L</td>\n",
       "      <td>3-4 yrs exp</td>\n",
       "    </tr>\n",
       "    <tr>\n",
       "      <th>7</th>\n",
       "      <td>Verizon</td>\n",
       "      <td>based on 14 salaries</td>\n",
       "      <td>₹ 12.7L</td>\n",
       "      <td>₹ 10.0L</td>\n",
       "      <td>₹ 21.0L</td>\n",
       "      <td>4 yrs exp</td>\n",
       "    </tr>\n",
       "    <tr>\n",
       "      <th>8</th>\n",
       "      <td>Ganit Business Solutions</td>\n",
       "      <td>based on 13 salaries</td>\n",
       "      <td>₹ 12.4L</td>\n",
       "      <td>₹ 8.5L</td>\n",
       "      <td>₹ 15.0L</td>\n",
       "      <td>4 yrs exp</td>\n",
       "    </tr>\n",
       "    <tr>\n",
       "      <th>9</th>\n",
       "      <td>Ericsson</td>\n",
       "      <td>based on 42 salaries</td>\n",
       "      <td>₹ 11.9L</td>\n",
       "      <td>₹ 5.8L</td>\n",
       "      <td>₹ 21.5L</td>\n",
       "      <td>3-4 yrs exp</td>\n",
       "    </tr>\n",
       "  </tbody>\n",
       "</table>\n",
       "</div>"
      ],
      "text/plain": [
       "               Company Name              Salaries Avrg salary Min Salary  \\\n",
       "0                   Walmart  based on 10 salaries     ₹ 28.7L    ₹ 17.7L   \n",
       "1                  Ab Inbev  based on 22 salaries     ₹ 19.5L    ₹ 15.0L   \n",
       "2                        ZS  based on 14 salaries     ₹ 15.8L     ₹ 9.8L   \n",
       "3         Fractal Analytics  based on 72 salaries     ₹ 15.0L     ₹ 9.5L   \n",
       "4                     Optum  based on 23 salaries     ₹ 15.0L    ₹ 11.0L   \n",
       "5              UnitedHealth  based on 49 salaries     ₹ 13.5L     ₹ 7.2L   \n",
       "6           Tiger Analytics  based on 27 salaries     ₹ 13.5L     ₹ 8.3L   \n",
       "7                   Verizon  based on 14 salaries     ₹ 12.7L    ₹ 10.0L   \n",
       "8  Ganit Business Solutions  based on 13 salaries     ₹ 12.4L     ₹ 8.5L   \n",
       "9                  Ericsson  based on 42 salaries     ₹ 11.9L     ₹ 5.8L   \n",
       "\n",
       "  Max salary   Experience  \n",
       "0    ₹ 35.0L    3 yrs exp  \n",
       "1    ₹ 25.0L  3-4 yrs exp  \n",
       "2    ₹ 20.0L    2 yrs exp  \n",
       "3    ₹ 22.0L  2-4 yrs exp  \n",
       "4    ₹ 21.3L  3-4 yrs exp  \n",
       "5    ₹ 20.5L  2-4 yrs exp  \n",
       "6    ₹ 18.5L  3-4 yrs exp  \n",
       "7    ₹ 21.0L    4 yrs exp  \n",
       "8    ₹ 15.0L    4 yrs exp  \n",
       "9    ₹ 21.5L  3-4 yrs exp  "
      ]
     },
     "execution_count": 825,
     "metadata": {},
     "output_type": "execute_result"
    }
   ],
   "source": [
    "job = pd.DataFrame()\n",
    "job['Company Name'] = company\n",
    "job['Salaries'] = salary\n",
    "job['Avrg salary'] = average\n",
    "job['Min Salary'] = minimum\n",
    "job['Max salary'] = maximum\n",
    "job['Experience'] = experience\n",
    "job"
   ]
  },
  {
   "cell_type": "code",
   "execution_count": null,
   "id": "6cbed97a",
   "metadata": {},
   "outputs": [],
   "source": []
  },
  {
   "cell_type": "code",
   "execution_count": null,
   "id": "e7195e64",
   "metadata": {},
   "outputs": [],
   "source": []
  }
 ],
 "metadata": {
  "kernelspec": {
   "display_name": "Python 3 (ipykernel)",
   "language": "python",
   "name": "python3"
  },
  "language_info": {
   "codemirror_mode": {
    "name": "ipython",
    "version": 3
   },
   "file_extension": ".py",
   "mimetype": "text/x-python",
   "name": "python",
   "nbconvert_exporter": "python",
   "pygments_lexer": "ipython3",
   "version": "3.9.7"
  }
 },
 "nbformat": 4,
 "nbformat_minor": 5
}
